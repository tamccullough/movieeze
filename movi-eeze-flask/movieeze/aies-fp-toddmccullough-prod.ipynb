{
 "cells": [
  {
   "cell_type": "markdown",
   "metadata": {
    "colab_type": "text",
    "id": "POoF8p4QcUmr"
   },
   "source": [
    "# AIES Final Project\n",
    "---\n",
    "* Todd McCullough [Git](https://github.com/tamccullough)\n",
    "---"
   ]
  },
  {
   "cell_type": "markdown",
   "metadata": {
    "colab_type": "text",
    "id": "0uTPtT3GcUmt"
   },
   "source": [
    "### Initialize Modules and Data"
   ]
  },
  {
   "cell_type": "markdown",
   "metadata": {
    "colab_type": "text",
    "id": "duhht7wkcUmu"
   },
   "source": [
    "##### Import the Needed Modules"
   ]
  },
  {
   "cell_type": "code",
   "execution_count": 1,
   "metadata": {
    "colab": {},
    "colab_type": "code",
    "id": "l00RRDJicUmu"
   },
   "outputs": [],
   "source": [
    "import numpy as np\n",
    "import pandas as pd\n",
    "import heapq\n",
    "from math import floor"
   ]
  },
  {
   "cell_type": "markdown",
   "metadata": {
    "colab_type": "text",
    "id": "vFsHbsfIcUm0"
   },
   "source": [
    "##### Import Surprise\n",
    "[Surprise](http://surpriselib.com/) is a Python scikit building and analyzing recommender systems that deal with explicit rating data."
   ]
  },
  {
   "cell_type": "code",
   "execution_count": 2,
   "metadata": {
    "colab": {
     "base_uri": "https://localhost:8080/",
     "height": 285
    },
    "colab_type": "code",
    "id": "C4ZnQsIPcUm0",
    "outputId": "c3933209-efd5-4ea2-af1a-d80f1bbdaec2"
   },
   "outputs": [],
   "source": [
    "from surprise import Reader, Dataset\n",
    "from surprise import KNNWithMeans\n",
    "from surprise.model_selection import cross_validate"
   ]
  },
  {
   "cell_type": "markdown",
   "metadata": {
    "colab_type": "text",
    "id": "QLCslG6CcUm5"
   },
   "source": [
    "##### Import Data"
   ]
  },
  {
   "cell_type": "code",
   "execution_count": 3,
   "metadata": {
    "colab": {},
    "colab_type": "code",
    "id": "_VM5_FzCcUm5"
   },
   "outputs": [],
   "source": [
    "DIR = 'datasets/'"
   ]
  },
  {
   "cell_type": "code",
   "execution_count": 4,
   "metadata": {
    "colab": {},
    "colab_type": "code",
    "id": "JXRz62QwcUm9"
   },
   "outputs": [
    {
     "name": "stderr",
     "output_type": "stream",
     "text": [
      "/home/todd/anaconda3/lib/python3.7/site-packages/ipykernel_launcher.py:1: ParserWarning: Falling back to the 'python' engine because the 'c' engine does not support regex separators (separators > 1 char and different from '\\s+' are interpreted as regex); you can avoid this warning by specifying engine='python'.\n",
      "  \"\"\"Entry point for launching an IPython kernel.\n",
      "/home/todd/anaconda3/lib/python3.7/site-packages/ipykernel_launcher.py:2: ParserWarning: Falling back to the 'python' engine because the 'c' engine does not support regex separators (separators > 1 char and different from '\\s+' are interpreted as regex); you can avoid this warning by specifying engine='python'.\n",
      "  \n",
      "/home/todd/anaconda3/lib/python3.7/site-packages/ipykernel_launcher.py:3: ParserWarning: Falling back to the 'python' engine because the 'c' engine does not support regex separators (separators > 1 char and different from '\\s+' are interpreted as regex); you can avoid this warning by specifying engine='python'.\n",
      "  This is separate from the ipykernel package so we can avoid doing imports until\n"
     ]
    }
   ],
   "source": [
    "movies = pd.read_csv(DIR+'movies.dat', delimiter='::')\n",
    "ratings = pd.read_csv(DIR+'ratings.dat', delimiter='::').drop_duplicates(['movieid', 'userid'], keep='last')\n",
    "users = pd.read_csv(DIR+'users.dat', delimiter='::')"
   ]
  },
  {
   "cell_type": "markdown",
   "metadata": {},
   "source": [
    "### Exploratory Data Analysis\n",
    "\n",
    "This is a dataset provided by [grouplens](https://grouplens.org/datasets/movielens/)\n",
    "\n",
    "The data has already been cleaned and organized, and does not require further manipulation.\n",
    "\n",
    "The beginning 2 rows of each set are being displayed, along with the sets shape."
   ]
  },
  {
   "cell_type": "code",
   "execution_count": 8,
   "metadata": {
    "colab": {},
    "colab_type": "code",
    "id": "QB89EPQ_cUnC"
   },
   "outputs": [
    {
     "data": {
      "text/html": [
       "<div>\n",
       "<style scoped>\n",
       "    .dataframe tbody tr th:only-of-type {\n",
       "        vertical-align: middle;\n",
       "    }\n",
       "\n",
       "    .dataframe tbody tr th {\n",
       "        vertical-align: top;\n",
       "    }\n",
       "\n",
       "    .dataframe thead th {\n",
       "        text-align: right;\n",
       "    }\n",
       "</style>\n",
       "<table border=\"1\" class=\"dataframe\">\n",
       "  <thead>\n",
       "    <tr style=\"text-align: right;\">\n",
       "      <th></th>\n",
       "      <th>movieid</th>\n",
       "      <th>title</th>\n",
       "      <th>genres</th>\n",
       "    </tr>\n",
       "  </thead>\n",
       "  <tbody>\n",
       "    <tr>\n",
       "      <th>0</th>\n",
       "      <td>1</td>\n",
       "      <td>Toy Story (1995)</td>\n",
       "      <td>Animation|Children's|Comedy</td>\n",
       "    </tr>\n",
       "    <tr>\n",
       "      <th>1</th>\n",
       "      <td>2</td>\n",
       "      <td>Jumanji (1995)</td>\n",
       "      <td>Adventure|Children's|Fantasy</td>\n",
       "    </tr>\n",
       "  </tbody>\n",
       "</table>\n",
       "</div>"
      ],
      "text/plain": [
       "   movieid             title                        genres\n",
       "0        1  Toy Story (1995)   Animation|Children's|Comedy\n",
       "1        2    Jumanji (1995)  Adventure|Children's|Fantasy"
      ]
     },
     "execution_count": 8,
     "metadata": {},
     "output_type": "execute_result"
    }
   ],
   "source": [
    "movies.head(2)"
   ]
  },
  {
   "cell_type": "code",
   "execution_count": 9,
   "metadata": {},
   "outputs": [
    {
     "data": {
      "text/plain": [
       "(3883, 3)"
      ]
     },
     "execution_count": 9,
     "metadata": {},
     "output_type": "execute_result"
    }
   ],
   "source": [
    "movies.shape"
   ]
  },
  {
   "cell_type": "markdown",
   "metadata": {},
   "source": [
    "We do not require the timestamp column from this set, and therefore it will be dropped."
   ]
  },
  {
   "cell_type": "code",
   "execution_count": 10,
   "metadata": {
    "colab": {},
    "colab_type": "code",
    "id": "ih7rHEttcUnG"
   },
   "outputs": [
    {
     "data": {
      "text/html": [
       "<div>\n",
       "<style scoped>\n",
       "    .dataframe tbody tr th:only-of-type {\n",
       "        vertical-align: middle;\n",
       "    }\n",
       "\n",
       "    .dataframe tbody tr th {\n",
       "        vertical-align: top;\n",
       "    }\n",
       "\n",
       "    .dataframe thead th {\n",
       "        text-align: right;\n",
       "    }\n",
       "</style>\n",
       "<table border=\"1\" class=\"dataframe\">\n",
       "  <thead>\n",
       "    <tr style=\"text-align: right;\">\n",
       "      <th></th>\n",
       "      <th>userid</th>\n",
       "      <th>movieid</th>\n",
       "      <th>rating</th>\n",
       "    </tr>\n",
       "  </thead>\n",
       "  <tbody>\n",
       "    <tr>\n",
       "      <th>0</th>\n",
       "      <td>1</td>\n",
       "      <td>1193</td>\n",
       "      <td>5</td>\n",
       "    </tr>\n",
       "    <tr>\n",
       "      <th>1</th>\n",
       "      <td>1</td>\n",
       "      <td>661</td>\n",
       "      <td>3</td>\n",
       "    </tr>\n",
       "  </tbody>\n",
       "</table>\n",
       "</div>"
      ],
      "text/plain": [
       "   userid  movieid  rating\n",
       "0       1     1193       5\n",
       "1       1      661       3"
      ]
     },
     "execution_count": 10,
     "metadata": {},
     "output_type": "execute_result"
    }
   ],
   "source": [
    "ratings.pop('timestamp')\n",
    "ratings.head(2)"
   ]
  },
  {
   "cell_type": "code",
   "execution_count": 11,
   "metadata": {},
   "outputs": [
    {
     "data": {
      "text/plain": [
       "(1000209, 3)"
      ]
     },
     "execution_count": 11,
     "metadata": {},
     "output_type": "execute_result"
    }
   ],
   "source": [
    "ratings.shape"
   ]
  },
  {
   "cell_type": "code",
   "execution_count": 12,
   "metadata": {
    "colab": {},
    "colab_type": "code",
    "id": "MUCVqPN9mibT"
   },
   "outputs": [
    {
     "data": {
      "text/html": [
       "<div>\n",
       "<style scoped>\n",
       "    .dataframe tbody tr th:only-of-type {\n",
       "        vertical-align: middle;\n",
       "    }\n",
       "\n",
       "    .dataframe tbody tr th {\n",
       "        vertical-align: top;\n",
       "    }\n",
       "\n",
       "    .dataframe thead th {\n",
       "        text-align: right;\n",
       "    }\n",
       "</style>\n",
       "<table border=\"1\" class=\"dataframe\">\n",
       "  <thead>\n",
       "    <tr style=\"text-align: right;\">\n",
       "      <th></th>\n",
       "      <th>userid</th>\n",
       "      <th>gender</th>\n",
       "      <th>age</th>\n",
       "      <th>occupation</th>\n",
       "      <th>zip</th>\n",
       "    </tr>\n",
       "  </thead>\n",
       "  <tbody>\n",
       "    <tr>\n",
       "      <th>0</th>\n",
       "      <td>1</td>\n",
       "      <td>F</td>\n",
       "      <td>1</td>\n",
       "      <td>10</td>\n",
       "      <td>48067</td>\n",
       "    </tr>\n",
       "    <tr>\n",
       "      <th>1</th>\n",
       "      <td>2</td>\n",
       "      <td>M</td>\n",
       "      <td>56</td>\n",
       "      <td>16</td>\n",
       "      <td>70072</td>\n",
       "    </tr>\n",
       "  </tbody>\n",
       "</table>\n",
       "</div>"
      ],
      "text/plain": [
       "   userid gender  age  occupation    zip\n",
       "0       1      F    1          10  48067\n",
       "1       2      M   56          16  70072"
      ]
     },
     "execution_count": 12,
     "metadata": {},
     "output_type": "execute_result"
    }
   ],
   "source": [
    "users.head(2)"
   ]
  },
  {
   "cell_type": "code",
   "execution_count": 13,
   "metadata": {},
   "outputs": [
    {
     "data": {
      "text/plain": [
       "(6040, 5)"
      ]
     },
     "execution_count": 13,
     "metadata": {},
     "output_type": "execute_result"
    }
   ],
   "source": [
    "users.shape"
   ]
  },
  {
   "cell_type": "markdown",
   "metadata": {},
   "source": [
    "For the purposes of testing, it would be good to get a few users who have rated many films and to test with their user ids."
   ]
  },
  {
   "cell_type": "code",
   "execution_count": 34,
   "metadata": {},
   "outputs": [
    {
     "data": {
      "text/html": [
       "<div>\n",
       "<style scoped>\n",
       "    .dataframe tbody tr th:only-of-type {\n",
       "        vertical-align: middle;\n",
       "    }\n",
       "\n",
       "    .dataframe tbody tr th {\n",
       "        vertical-align: top;\n",
       "    }\n",
       "\n",
       "    .dataframe thead th {\n",
       "        text-align: right;\n",
       "    }\n",
       "</style>\n",
       "<table border=\"1\" class=\"dataframe\">\n",
       "  <thead>\n",
       "    <tr style=\"text-align: right;\">\n",
       "      <th></th>\n",
       "      <th>userid</th>\n",
       "      <th>movieid</th>\n",
       "      <th>rating</th>\n",
       "    </tr>\n",
       "  </thead>\n",
       "  <tbody>\n",
       "    <tr>\n",
       "      <th>4168</th>\n",
       "      <td>4169</td>\n",
       "      <td>2314</td>\n",
       "      <td>2314</td>\n",
       "    </tr>\n",
       "    <tr>\n",
       "      <th>1679</th>\n",
       "      <td>1680</td>\n",
       "      <td>1850</td>\n",
       "      <td>1850</td>\n",
       "    </tr>\n",
       "    <tr>\n",
       "      <th>4276</th>\n",
       "      <td>4277</td>\n",
       "      <td>1743</td>\n",
       "      <td>1743</td>\n",
       "    </tr>\n",
       "    <tr>\n",
       "      <th>1940</th>\n",
       "      <td>1941</td>\n",
       "      <td>1595</td>\n",
       "      <td>1595</td>\n",
       "    </tr>\n",
       "    <tr>\n",
       "      <th>1180</th>\n",
       "      <td>1181</td>\n",
       "      <td>1521</td>\n",
       "      <td>1521</td>\n",
       "    </tr>\n",
       "    <tr>\n",
       "      <th>888</th>\n",
       "      <td>889</td>\n",
       "      <td>1518</td>\n",
       "      <td>1518</td>\n",
       "    </tr>\n",
       "    <tr>\n",
       "      <th>3617</th>\n",
       "      <td>3618</td>\n",
       "      <td>1344</td>\n",
       "      <td>1344</td>\n",
       "    </tr>\n",
       "    <tr>\n",
       "      <th>2062</th>\n",
       "      <td>2063</td>\n",
       "      <td>1323</td>\n",
       "      <td>1323</td>\n",
       "    </tr>\n",
       "    <tr>\n",
       "      <th>1149</th>\n",
       "      <td>1150</td>\n",
       "      <td>1302</td>\n",
       "      <td>1302</td>\n",
       "    </tr>\n",
       "    <tr>\n",
       "      <th>1014</th>\n",
       "      <td>1015</td>\n",
       "      <td>1286</td>\n",
       "      <td>1286</td>\n",
       "    </tr>\n",
       "  </tbody>\n",
       "</table>\n",
       "</div>"
      ],
      "text/plain": [
       "      userid  movieid  rating\n",
       "4168    4169     2314    2314\n",
       "1679    1680     1850    1850\n",
       "4276    4277     1743    1743\n",
       "1940    1941     1595    1595\n",
       "1180    1181     1521    1521\n",
       "888      889     1518    1518\n",
       "3617    3618     1344    1344\n",
       "2062    2063     1323    1323\n",
       "1149    1150     1302    1302\n",
       "1014    1015     1286    1286"
      ]
     },
     "execution_count": 34,
     "metadata": {},
     "output_type": "execute_result"
    }
   ],
   "source": [
    "grouped = ratings.groupby('userid').count().reset_index()\n",
    "grouped = grouped.sort_values('rating', ascending=False)\n",
    "grouped.head(10)"
   ]
  },
  {
   "cell_type": "markdown",
   "metadata": {},
   "source": [
    "## Check the count of 5 star ratings\n",
    "\n",
    "As we can see here, the ratings are somewhat skewed. Many of the ratings are 3 stars and higher. It could prove to make the predictions somewhare biased."
   ]
  },
  {
   "cell_type": "code",
   "execution_count": 45,
   "metadata": {},
   "outputs": [
    {
     "data": {
      "text/html": [
       "<div>\n",
       "<style scoped>\n",
       "    .dataframe tbody tr th:only-of-type {\n",
       "        vertical-align: middle;\n",
       "    }\n",
       "\n",
       "    .dataframe tbody tr th {\n",
       "        vertical-align: top;\n",
       "    }\n",
       "\n",
       "    .dataframe thead th {\n",
       "        text-align: right;\n",
       "    }\n",
       "</style>\n",
       "<table border=\"1\" class=\"dataframe\">\n",
       "  <thead>\n",
       "    <tr style=\"text-align: right;\">\n",
       "      <th></th>\n",
       "      <th>userid</th>\n",
       "      <th>movieid</th>\n",
       "    </tr>\n",
       "    <tr>\n",
       "      <th>rating</th>\n",
       "      <th></th>\n",
       "      <th></th>\n",
       "    </tr>\n",
       "  </thead>\n",
       "  <tbody>\n",
       "    <tr>\n",
       "      <th>5</th>\n",
       "      <td>226310</td>\n",
       "      <td>226310</td>\n",
       "    </tr>\n",
       "    <tr>\n",
       "      <th>4</th>\n",
       "      <td>348971</td>\n",
       "      <td>348971</td>\n",
       "    </tr>\n",
       "    <tr>\n",
       "      <th>3</th>\n",
       "      <td>261197</td>\n",
       "      <td>261197</td>\n",
       "    </tr>\n",
       "    <tr>\n",
       "      <th>2</th>\n",
       "      <td>107557</td>\n",
       "      <td>107557</td>\n",
       "    </tr>\n",
       "    <tr>\n",
       "      <th>1</th>\n",
       "      <td>56174</td>\n",
       "      <td>56174</td>\n",
       "    </tr>\n",
       "  </tbody>\n",
       "</table>\n",
       "</div>"
      ],
      "text/plain": [
       "        userid  movieid\n",
       "rating                 \n",
       "5       226310   226310\n",
       "4       348971   348971\n",
       "3       261197   261197\n",
       "2       107557   107557\n",
       "1        56174    56174"
      ]
     },
     "execution_count": 45,
     "metadata": {},
     "output_type": "execute_result"
    }
   ],
   "source": [
    "ratings_count = ratings.groupby('rating').count()\n",
    "ratings_count = ratings_count.sort_values('rating', ascending=False)\n",
    "ratings_count"
   ]
  },
  {
   "cell_type": "code",
   "execution_count": 46,
   "metadata": {},
   "outputs": [
    {
     "data": {
      "text/html": [
       "<div>\n",
       "<style scoped>\n",
       "    .dataframe tbody tr th:only-of-type {\n",
       "        vertical-align: middle;\n",
       "    }\n",
       "\n",
       "    .dataframe tbody tr th {\n",
       "        vertical-align: top;\n",
       "    }\n",
       "\n",
       "    .dataframe thead th {\n",
       "        text-align: right;\n",
       "    }\n",
       "</style>\n",
       "<table border=\"1\" class=\"dataframe\">\n",
       "  <thead>\n",
       "    <tr style=\"text-align: right;\">\n",
       "      <th></th>\n",
       "      <th>userid</th>\n",
       "      <th>movieid</th>\n",
       "    </tr>\n",
       "  </thead>\n",
       "  <tbody>\n",
       "    <tr>\n",
       "      <th>count</th>\n",
       "      <td>5.000000</td>\n",
       "      <td>5.000000</td>\n",
       "    </tr>\n",
       "    <tr>\n",
       "      <th>mean</th>\n",
       "      <td>200041.800000</td>\n",
       "      <td>200041.800000</td>\n",
       "    </tr>\n",
       "    <tr>\n",
       "      <th>std</th>\n",
       "      <td>118174.939749</td>\n",
       "      <td>118174.939749</td>\n",
       "    </tr>\n",
       "    <tr>\n",
       "      <th>min</th>\n",
       "      <td>56174.000000</td>\n",
       "      <td>56174.000000</td>\n",
       "    </tr>\n",
       "    <tr>\n",
       "      <th>25%</th>\n",
       "      <td>107557.000000</td>\n",
       "      <td>107557.000000</td>\n",
       "    </tr>\n",
       "    <tr>\n",
       "      <th>50%</th>\n",
       "      <td>226310.000000</td>\n",
       "      <td>226310.000000</td>\n",
       "    </tr>\n",
       "    <tr>\n",
       "      <th>75%</th>\n",
       "      <td>261197.000000</td>\n",
       "      <td>261197.000000</td>\n",
       "    </tr>\n",
       "    <tr>\n",
       "      <th>max</th>\n",
       "      <td>348971.000000</td>\n",
       "      <td>348971.000000</td>\n",
       "    </tr>\n",
       "  </tbody>\n",
       "</table>\n",
       "</div>"
      ],
      "text/plain": [
       "              userid        movieid\n",
       "count       5.000000       5.000000\n",
       "mean   200041.800000  200041.800000\n",
       "std    118174.939749  118174.939749\n",
       "min     56174.000000   56174.000000\n",
       "25%    107557.000000  107557.000000\n",
       "50%    226310.000000  226310.000000\n",
       "75%    261197.000000  261197.000000\n",
       "max    348971.000000  348971.000000"
      ]
     },
     "execution_count": 46,
     "metadata": {},
     "output_type": "execute_result"
    }
   ],
   "source": [
    "ratings_count.describe()"
   ]
  },
  {
   "cell_type": "code",
   "execution_count": 44,
   "metadata": {},
   "outputs": [
    {
     "name": "stdout",
     "output_type": "stream",
     "text": [
      "<class 'pandas.core.frame.DataFrame'>\n",
      "Int64Index: 5 entries, 5 to 1\n",
      "Data columns (total 2 columns):\n",
      " #   Column   Non-Null Count  Dtype\n",
      "---  ------   --------------  -----\n",
      " 0   userid   5 non-null      int64\n",
      " 1   movieid  5 non-null      int64\n",
      "dtypes: int64(2)\n",
      "memory usage: 120.0 bytes\n"
     ]
    }
   ],
   "source": [
    "ratings_count.info()"
   ]
  },
  {
   "cell_type": "markdown",
   "metadata": {
    "colab_type": "text",
    "id": "7PCxq8KecUnL"
   },
   "source": [
    "##### Define a Ratings scale\n",
    "This scale is determined by the lowest and highest rating possible. \n",
    "In this case the lowest rating is 1, while the highest is 5."
   ]
  },
  {
   "cell_type": "code",
   "execution_count": 47,
   "metadata": {
    "colab": {},
    "colab_type": "code",
    "id": "_sbDZlymcUnL"
   },
   "outputs": [],
   "source": [
    "reader = Reader(rating_scale=(1,5)) # This just defines the rating scale\n",
    "data = Dataset.load_from_df(ratings[['userid', 'movieid', 'rating']], reader=reader)"
   ]
  },
  {
   "cell_type": "markdown",
   "metadata": {
    "colab_type": "text",
    "id": "osRfBS-pcUnP"
   },
   "source": [
    "### Build the Recommender Model\n",
    "\n",
    "##### KNN with Means - Surprise\n",
    "\n",
    "[KNN with Means](https://surprise.readthedocs.io/en/stable/knn_inspired.html#surprise.prediction_algorithms.knns.KNNWithMeans) has been chosen for the recommender, which is a basic collaborative filtering algorithm, taking into account the mean ratings of each user."
   ]
  },
  {
   "cell_type": "code",
   "execution_count": 48,
   "metadata": {
    "colab": {},
    "colab_type": "code",
    "id": "lsQcmBWacUnQ"
   },
   "outputs": [],
   "source": [
    "def build_recommender(user_based=False, sim_type='cosine'):\n",
    "    sim_options = {\n",
    "        \"name\": sim_type,\n",
    "        \"user_based\": user_based\n",
    "    }\n",
    "\n",
    "    return KNNWithMeans(sim_options=sim_options)"
   ]
  },
  {
   "cell_type": "markdown",
   "metadata": {
    "colab_type": "text",
    "id": "VMOU_vTUcUnU"
   },
   "source": [
    "##### Calculate the Similarity Matrix\n",
    "\n",
    "Ignoring folds this builds the *Trainset* using [build_full_trainset()](https://surprise.readthedocs.io/en/stable/dataset.html#surprise.dataset.DatasetAutoFolds.build_full_trainset)\n",
    "\n",
    "The Trainset is built using the data, but then contains more information about the data"
   ]
  },
  {
   "cell_type": "code",
   "execution_count": 49,
   "metadata": {
    "colab": {
     "base_uri": "https://localhost:8080/",
     "height": 70
    },
    "colab_type": "code",
    "id": "a4YxzV0McUnV",
    "outputId": "b21e159a-0135-4d6f-f257-e7b63165c14f"
   },
   "outputs": [
    {
     "name": "stdout",
     "output_type": "stream",
     "text": [
      "Computing the cosine similarity matrix...\n",
      "Done computing similarity matrix.\n"
     ]
    },
    {
     "data": {
      "text/plain": [
       "<surprise.prediction_algorithms.knns.KNNWithMeans at 0x7f22d466d0d0>"
      ]
     },
     "execution_count": 49,
     "metadata": {},
     "output_type": "execute_result"
    }
   ],
   "source": [
    "trainset = data.build_full_trainset()\n",
    "item_based_recommender = build_recommender()\n",
    "item_based_recommender.fit(trainset)"
   ]
  },
  {
   "cell_type": "markdown",
   "metadata": {
    "colab_type": "text",
    "id": "bzNzGGO-cUnZ"
   },
   "source": [
    "### Evaluate the Model\n",
    "\n",
    "Using [cross_validation()](https://surprise.readthedocs.io/en/stable/model_selection.html#cross-validation) from surprise, we can quickly evaluate the model using a few metrics. "
   ]
  },
  {
   "cell_type": "code",
   "execution_count": 51,
   "metadata": {
    "colab": {
     "base_uri": "https://localhost:8080/",
     "height": 532
    },
    "colab_type": "code",
    "id": "yLfQS_Q5cUna",
    "outputId": "679e4f22-d1bb-4286-802b-e5513b5c5a84"
   },
   "outputs": [
    {
     "name": "stdout",
     "output_type": "stream",
     "text": [
      "Computing the cosine similarity matrix...\n",
      "Done computing similarity matrix.\n",
      "Computing the cosine similarity matrix...\n",
      "Done computing similarity matrix.\n",
      "Computing the cosine similarity matrix...\n",
      "Done computing similarity matrix.\n",
      "Computing the cosine similarity matrix...\n",
      "Done computing similarity matrix.\n",
      "Computing the cosine similarity matrix...\n",
      "Done computing similarity matrix.\n",
      "Evaluating RMSE, MAE of algorithm KNNWithMeans on 5 split(s).\n",
      "\n",
      "                  Fold 1  Fold 2  Fold 3  Fold 4  Fold 5  Mean    Std     \n",
      "RMSE (testset)    0.8917  0.8933  0.8957  0.8943  0.8935  0.8937  0.0013  \n",
      "MAE (testset)     0.7016  0.7018  0.7028  0.7030  0.7022  0.7023  0.0006  \n",
      "Fit time          31.43   32.45   32.22   32.89   32.70   32.34   0.51    \n",
      "Test time         78.26   81.50   82.91   81.76   82.98   81.48   1.72    \n"
     ]
    },
    {
     "data": {
      "text/plain": [
       "{'test_rmse': array([0.89172452, 0.89334468, 0.89570078, 0.89428249, 0.89346105]),\n",
       " 'test_mae': array([0.70156576, 0.70175556, 0.70283036, 0.70299299, 0.70219336]),\n",
       " 'fit_time': (31.433568954467773,\n",
       "  32.4473295211792,\n",
       "  32.216604709625244,\n",
       "  32.8928587436676,\n",
       "  32.70250129699707),\n",
       " 'test_time': (78.25737023353577,\n",
       "  81.49770617485046,\n",
       "  82.91267681121826,\n",
       "  81.7580394744873,\n",
       "  82.98236560821533)}"
      ]
     },
     "execution_count": 51,
     "metadata": {},
     "output_type": "execute_result"
    }
   ],
   "source": [
    "cross_validate(item_based_recommender, data, measures=['RMSE', 'MAE'], cv=5, verbose=True)"
   ]
  },
  {
   "cell_type": "markdown",
   "metadata": {
    "colab_type": "text",
    "id": "i4A703zacUne"
   },
   "source": [
    "##### Prediction\n",
    "\n",
    "Using this test to see how a user might rate a specific recipe."
   ]
  },
  {
   "cell_type": "code",
   "execution_count": 52,
   "metadata": {
    "colab": {
     "base_uri": "https://localhost:8080/",
     "height": 54
    },
    "colab_type": "code",
    "id": "uq880sAucUne",
    "outputId": "9a38e072-a839-4bef-d567-452cd8c8287d"
   },
   "outputs": [
    {
     "name": "stdout",
     "output_type": "stream",
     "text": [
      "3.58, 3.97, 3.6, 3.44, 4.1, 3.17, 3.88, 3.87, 3.92, 3.57, 4.14, 3.2, 3.4, 3.47, 3.1, 3.41, 3.83, 4.04, 4.16, 3.71, 4.0, 3.69, 3.19, 3.22, 3.86, 3.78, 3.44, 3.87, 3.35, 3.47, 3.06, 3.68, 3.56, 3.16, 4.13, 3.38, 3.98, 3.93, 3.94, 3.77, 3.59, 3.51, 3.84, 3.97, 3.74, 2.93, 5, 3.38, 3.46, 3.59, 3.53, 4.0, 3.75, 4.44, 3.65, 3.69, 3.61, 3.13, 4.15, 3.12, 3.83, 3.33, 3.53, 3.78, 3.96, 4.32, 3.7, 3.98, 3.25, 4.06, 3.73, 3.4, 3.42, 3.91, 3.58, 4.42, 4.19, 3.24, 3.73, 3.5, 3.95, 4.14, 4.21, 3.89, 3.21, 3.22, 4.2, 2.45, 3.77, 2.72, 3.77, 4.35, 3.07, 3.6, 4.29, 3.28, 3.2, 4.07, 3.77, 3.29, 3.06, 4.9, 3.21, 4.44, 3.78, 4.06, 3.83, 3.23, 3.15, 3.81, 3.55, 3.64, 4.07, 3.97, 3.68, 4.31, 3.67, 3.66, 3.65, 3.91, 3.35, 4.5, 2.96, 3.45, 3.99, 3.91, 4.08, 3.55, 4.56, 4.07, 4.2, 3.25, 4.03, 3.74, 3.28, 3.65, 2.96, 3.72, 4.15, 3.79, 3.51, 3.72, 2.87, 3.46, 3.89, 3.06, 3.84, 3.68, 3.96, 4.11, "
     ]
    }
   ],
   "source": [
    "i = 252\n",
    "for i in range(150):\n",
    "    prediction = item_based_recommender.predict(i,167)\n",
    "    print(round(prediction.est,2), end=', ')\n",
    "    i = i + 1"
   ]
  },
  {
   "cell_type": "markdown",
   "metadata": {
    "colab_type": "text",
    "id": "PIic1IXpcUni"
   },
   "source": [
    "### Inference\n",
    "\n",
    "The main function to run the model and get inferences"
   ]
  },
  {
   "cell_type": "code",
   "execution_count": 54,
   "metadata": {},
   "outputs": [],
   "source": [
    "ml_model = item_based_recommender"
   ]
  },
  {
   "cell_type": "code",
   "execution_count": 55,
   "metadata": {
    "colab": {},
    "colab_type": "code",
    "id": "RHzb3os8cUni"
   },
   "outputs": [],
   "source": [
    "def get_r(user_id):\n",
    "    # Select which system to use. Due to memory constraints, item based is the only viable option\n",
    "    recommender_system = ml_model\n",
    "    # N will represent how many items to recommend\n",
    "    N = 2000\n",
    "\n",
    "    # The setting to a set and back to list is a failsafe.\n",
    "    rated_items = list(set(ratings.loc[ratings['userid'] == user_id]['movieid'].tolist()))\n",
    "    ratings_list = movies['movieid'].values.tolist()\n",
    "    reduced_ratings = ratings.loc[ratings['movieid'].isin(ratings_list)].copy()\n",
    "\n",
    "    # Self explanitory name\n",
    "    all_item_ids = list(set(reduced_ratings['movieid'].tolist()))\n",
    "\n",
    "    # New_items just represents all the items not rated by the user\n",
    "    new_items = [x for x in all_item_ids if x not in rated_items]\n",
    "\n",
    "    # Estimate ratings for all unrated items\n",
    "    predicted_ratings = {}\n",
    "    for item_id in new_items:\n",
    "        predicted_ratings[item_id] = recommender_system.predict(user_id, item_id).est\n",
    "        pass\n",
    "\n",
    "    # Get the item_ids for the top ratings\n",
    "    recommended_ids = heapq.nlargest(N, predicted_ratings, key=predicted_ratings.get)\n",
    "    recommended_ids = sorted(recommended_ids)\n",
    "\n",
    "    # predicted_ratings\n",
    "    recommended_df = movies.loc[movies['movieid'].isin(recommended_ids)].copy()\n",
    "    #recommended_df.insert(1, 'pred_rating', np.zeros(len(recommended_ids)))\n",
    "    recommended_df.insert(1, 'pred_rating', 0)\n",
    "\n",
    "    # recommended_df = movies.copy()\n",
    "    for idx,item_id in enumerate(recommended_ids):\n",
    "        recommended_df.iloc[idx, recommended_df.columns.get_loc('pred_rating')] = int(predicted_ratings[item_id])\n",
    "        pass\n",
    "    return recommended_df.head(N).sort_values('pred_rating', ascending=False)\n",
    "\n",
    "def cap_str(item):\n",
    "    string = item\n",
    "    return string.capitalize()\n",
    "\n",
    "def reg_frame(f_list,items):\n",
    "    s_ = ''\n",
    "    for i in items:\n",
    "        j = cap_str(i)\n",
    "        str_ = f'(?=.*{j})'\n",
    "        s_ += str_\n",
    "    s_\n",
    "    f_list = f_list[f_list['genres'].str.contains(fr'^\\b{s_}\\b',regex=True)]\n",
    "    return f_list\n",
    "\n",
    "def set_up_ml(user_id,genre_list):\n",
    "    f_list = get_r(user_id)\n",
    "    items = genre_list.split(',')\n",
    "    f_list = reg_frame(f_list,items)\n",
    "    f_list.pop('movieid')\n",
    "    f_list.pop('pred_rating')\n",
    "    f_list = f_list.reset_index(drop=True)\n",
    "    f_list = f_list.T.reset_index(drop=True).T\n",
    "    #f_list = f_list.head(10)\n",
    "    return f_list"
   ]
  },
  {
   "cell_type": "markdown",
   "metadata": {
    "colab_type": "text",
    "id": "iMVG1i3mcUnm"
   },
   "source": [
    "### Get a Recommendation Based on Ingredients\n",
    "\n",
    "The final code that will be impletented in a cleaner fashion through the browser interface."
   ]
  },
  {
   "cell_type": "code",
   "execution_count": 65,
   "metadata": {
    "colab": {},
    "colab_type": "code",
    "id": "v5_cW8kncUnn"
   },
   "outputs": [],
   "source": [
    "user_id = 4168\n",
    "genre_list = 'horror,comedy'\n",
    "table_list = set_up_ml(user_id,genre_list)"
   ]
  },
  {
   "cell_type": "code",
   "execution_count": 66,
   "metadata": {},
   "outputs": [
    {
     "data": {
      "text/html": [
       "<div>\n",
       "<style scoped>\n",
       "    .dataframe tbody tr th:only-of-type {\n",
       "        vertical-align: middle;\n",
       "    }\n",
       "\n",
       "    .dataframe tbody tr th {\n",
       "        vertical-align: top;\n",
       "    }\n",
       "\n",
       "    .dataframe thead th {\n",
       "        text-align: right;\n",
       "    }\n",
       "</style>\n",
       "<table border=\"1\" class=\"dataframe\">\n",
       "  <thead>\n",
       "    <tr style=\"text-align: right;\">\n",
       "      <th></th>\n",
       "      <th>0</th>\n",
       "      <th>1</th>\n",
       "    </tr>\n",
       "  </thead>\n",
       "  <tbody>\n",
       "    <tr>\n",
       "      <th>0</th>\n",
       "      <td>Rocky Horror Picture Show, The (1975)</td>\n",
       "      <td>Comedy|Horror|Musical|Sci-Fi</td>\n",
       "    </tr>\n",
       "    <tr>\n",
       "      <th>1</th>\n",
       "      <td>Ghostbusters (1984)</td>\n",
       "      <td>Comedy|Horror</td>\n",
       "    </tr>\n",
       "    <tr>\n",
       "      <th>2</th>\n",
       "      <td>Little Shop of Horrors (1986)</td>\n",
       "      <td>Comedy|Horror|Musical</td>\n",
       "    </tr>\n",
       "    <tr>\n",
       "      <th>3</th>\n",
       "      <td>American Psycho (2000)</td>\n",
       "      <td>Comedy|Horror|Thriller</td>\n",
       "    </tr>\n",
       "    <tr>\n",
       "      <th>4</th>\n",
       "      <td>Abbott and Costello Meet Frankenstein (1948)</td>\n",
       "      <td>Comedy|Horror</td>\n",
       "    </tr>\n",
       "    <tr>\n",
       "      <th>5</th>\n",
       "      <td>Near Dark (1987)</td>\n",
       "      <td>Comedy|Horror</td>\n",
       "    </tr>\n",
       "    <tr>\n",
       "      <th>6</th>\n",
       "      <td>Evil Dead II (Dead By Dawn) (1987)</td>\n",
       "      <td>Action|Adventure|Comedy|Horror</td>\n",
       "    </tr>\n",
       "    <tr>\n",
       "      <th>7</th>\n",
       "      <td>Bad Taste (1987)</td>\n",
       "      <td>Comedy|Horror</td>\n",
       "    </tr>\n",
       "    <tr>\n",
       "      <th>8</th>\n",
       "      <td>Army of Darkness (1993)</td>\n",
       "      <td>Action|Adventure|Comedy|Horror|Sci-Fi</td>\n",
       "    </tr>\n",
       "    <tr>\n",
       "      <th>9</th>\n",
       "      <td>Young Frankenstein (1974)</td>\n",
       "      <td>Comedy|Horror</td>\n",
       "    </tr>\n",
       "    <tr>\n",
       "      <th>10</th>\n",
       "      <td>Psycho Beach Party (2000)</td>\n",
       "      <td>Comedy|Horror|Thriller</td>\n",
       "    </tr>\n",
       "    <tr>\n",
       "      <th>11</th>\n",
       "      <td>Frighteners, The (1996)</td>\n",
       "      <td>Comedy|Horror</td>\n",
       "    </tr>\n",
       "    <tr>\n",
       "      <th>12</th>\n",
       "      <td>Little Shop of Horrors, The (1960)</td>\n",
       "      <td>Comedy|Horror</td>\n",
       "    </tr>\n",
       "    <tr>\n",
       "      <th>13</th>\n",
       "      <td>Fright Night (1985)</td>\n",
       "      <td>Comedy|Horror</td>\n",
       "    </tr>\n",
       "    <tr>\n",
       "      <th>14</th>\n",
       "      <td>Braindead (1992)</td>\n",
       "      <td>Comedy|Horror</td>\n",
       "    </tr>\n",
       "  </tbody>\n",
       "</table>\n",
       "</div>"
      ],
      "text/plain": [
       "                                               0  \\\n",
       "0          Rocky Horror Picture Show, The (1975)   \n",
       "1                            Ghostbusters (1984)   \n",
       "2                  Little Shop of Horrors (1986)   \n",
       "3                         American Psycho (2000)   \n",
       "4   Abbott and Costello Meet Frankenstein (1948)   \n",
       "5                               Near Dark (1987)   \n",
       "6             Evil Dead II (Dead By Dawn) (1987)   \n",
       "7                               Bad Taste (1987)   \n",
       "8                        Army of Darkness (1993)   \n",
       "9                      Young Frankenstein (1974)   \n",
       "10                     Psycho Beach Party (2000)   \n",
       "11                       Frighteners, The (1996)   \n",
       "12            Little Shop of Horrors, The (1960)   \n",
       "13                           Fright Night (1985)   \n",
       "14                              Braindead (1992)   \n",
       "\n",
       "                                        1  \n",
       "0            Comedy|Horror|Musical|Sci-Fi  \n",
       "1                           Comedy|Horror  \n",
       "2                   Comedy|Horror|Musical  \n",
       "3                  Comedy|Horror|Thriller  \n",
       "4                           Comedy|Horror  \n",
       "5                           Comedy|Horror  \n",
       "6          Action|Adventure|Comedy|Horror  \n",
       "7                           Comedy|Horror  \n",
       "8   Action|Adventure|Comedy|Horror|Sci-Fi  \n",
       "9                           Comedy|Horror  \n",
       "10                 Comedy|Horror|Thriller  \n",
       "11                          Comedy|Horror  \n",
       "12                          Comedy|Horror  \n",
       "13                          Comedy|Horror  \n",
       "14                          Comedy|Horror  "
      ]
     },
     "execution_count": 66,
     "metadata": {},
     "output_type": "execute_result"
    }
   ],
   "source": [
    "table_list"
   ]
  },
  {
   "cell_type": "markdown",
   "metadata": {
    "colab_type": "text",
    "id": "KK47pKTHcUn1"
   },
   "source": [
    "## Save the Model"
   ]
  },
  {
   "cell_type": "code",
   "execution_count": 67,
   "metadata": {
    "colab": {},
    "colab_type": "code",
    "id": "7KYFg3sGcUn3"
   },
   "outputs": [],
   "source": [
    "import os\n",
    "os_path = os.path.join(os.path.expanduser('~'))\n",
    "PATH = os_path+'/mldl/models/'\n",
    "\n",
    "import pickle\n",
    "filename = PATH+'movielens_light_recommender_model.sav'\n",
    "pickle.dump(item_based_recommender, open(filename, 'wb'))"
   ]
  }
 ],
 "metadata": {
  "accelerator": "TPU",
  "colab": {
   "machine_shape": "hm",
   "name": "aies-fp-toddmccullough.ipynb",
   "provenance": []
  },
  "kernelspec": {
   "display_name": "Python 3",
   "language": "python",
   "name": "python3"
  },
  "language_info": {
   "codemirror_mode": {
    "name": "ipython",
    "version": 3
   },
   "file_extension": ".py",
   "mimetype": "text/x-python",
   "name": "python",
   "nbconvert_exporter": "python",
   "pygments_lexer": "ipython3",
   "version": "3.7.6"
  }
 },
 "nbformat": 4,
 "nbformat_minor": 1
}

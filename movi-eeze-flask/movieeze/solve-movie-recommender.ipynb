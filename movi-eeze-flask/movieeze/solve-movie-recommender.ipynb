{
 "cells": [
  {
   "cell_type": "markdown",
   "metadata": {
    "colab_type": "text",
    "id": "POoF8p4QcUmr"
   },
   "source": [
    "# AIES Final Project\n",
    "---\n",
    "* Todd McCullough [Git](https://github.com/tamccullough)\n",
    "---"
   ]
  },
  {
   "cell_type": "markdown",
   "metadata": {
    "colab_type": "text",
    "id": "0uTPtT3GcUmt"
   },
   "source": [
    "### Initialize Modules and Data"
   ]
  },
  {
   "cell_type": "markdown",
   "metadata": {
    "colab_type": "text",
    "id": "duhht7wkcUmu"
   },
   "source": [
    "##### Import the Needed Modules"
   ]
  },
  {
   "cell_type": "code",
   "execution_count": 1,
   "metadata": {
    "colab": {},
    "colab_type": "code",
    "id": "l00RRDJicUmu"
   },
   "outputs": [],
   "source": [
    "import numpy as np\n",
    "import pandas as pd\n",
    "import heapq\n",
    "from math import floor"
   ]
  },
  {
   "cell_type": "markdown",
   "metadata": {
    "colab_type": "text",
    "id": "vFsHbsfIcUm0"
   },
   "source": [
    "##### Import Surprise\n",
    "[Surprise](http://surpriselib.com/) is a Python scikit building and analyzing recommender systems that deal with explicit rating data."
   ]
  },
  {
   "cell_type": "code",
   "execution_count": 2,
   "metadata": {
    "colab": {
     "base_uri": "https://localhost:8080/",
     "height": 285
    },
    "colab_type": "code",
    "id": "C4ZnQsIPcUm0",
    "outputId": "c3933209-efd5-4ea2-af1a-d80f1bbdaec2"
   },
   "outputs": [],
   "source": [
    "from surprise import Reader, Dataset\n",
    "from surprise import KNNWithMeans\n",
    "from surprise.model_selection import cross_validate"
   ]
  },
  {
   "cell_type": "markdown",
   "metadata": {
    "colab_type": "text",
    "id": "QLCslG6CcUm5"
   },
   "source": [
    "##### Import Data\n",
    "\n",
    "Data imported from [grouplens](https://grouplens.org/datasets/movielens/)"
   ]
  },
  {
   "cell_type": "code",
   "execution_count": 3,
   "metadata": {
    "colab": {},
    "colab_type": "code",
    "id": "_VM5_FzCcUm5"
   },
   "outputs": [],
   "source": [
    "import os\n",
    "os_path = os.path.join(os.path.expanduser('~'))\n",
    "DIR = 'datasets/'\n",
    "PATH = os_path+'/mldl/models/'\n",
    "\n",
    "filename = PATH+'movielens_light_recommender_model.sav'"
   ]
  },
  {
   "cell_type": "code",
   "execution_count": 4,
   "metadata": {
    "colab": {},
    "colab_type": "code",
    "id": "JXRz62QwcUm9"
   },
   "outputs": [],
   "source": [
    "genres = ['Action','Adventure','Animation',\n",
    "          'Children','Comedy','Crime',\n",
    "          'Documentary','Drama','Fantasy',\n",
    "          'Film-Noir','Horror','Musical',\n",
    "          'Mystery','Romance','Sci-Fi',\n",
    "          'Thriller','War','Western']"
   ]
  },
  {
   "cell_type": "code",
   "execution_count": 5,
   "metadata": {
    "colab": {},
    "colab_type": "code",
    "id": "JXRz62QwcUm9"
   },
   "outputs": [
    {
     "name": "stderr",
     "output_type": "stream",
     "text": [
      "/home/todd/anaconda3/lib/python3.7/site-packages/ipykernel_launcher.py:1: ParserWarning: Falling back to the 'python' engine because the 'c' engine does not support regex separators (separators > 1 char and different from '\\s+' are interpreted as regex); you can avoid this warning by specifying engine='python'.\n",
      "  \"\"\"Entry point for launching an IPython kernel.\n",
      "/home/todd/anaconda3/lib/python3.7/site-packages/ipykernel_launcher.py:2: ParserWarning: Falling back to the 'python' engine because the 'c' engine does not support regex separators (separators > 1 char and different from '\\s+' are interpreted as regex); you can avoid this warning by specifying engine='python'.\n",
      "  \n",
      "/home/todd/anaconda3/lib/python3.7/site-packages/ipykernel_launcher.py:3: ParserWarning: Falling back to the 'python' engine because the 'c' engine does not support regex separators (separators > 1 char and different from '\\s+' are interpreted as regex); you can avoid this warning by specifying engine='python'.\n",
      "  This is separate from the ipykernel package so we can avoid doing imports until\n"
     ]
    }
   ],
   "source": [
    "movies = pd.read_csv(DIR+'movies.dat', delimiter='::')\n",
    "ratings = pd.read_csv(DIR+'ratings.dat', delimiter='::').drop_duplicates(['movieid', 'userid'], keep='last')\n",
    "users = pd.read_csv(DIR+'users.dat', delimiter='::')"
   ]
  },
  {
   "cell_type": "code",
   "execution_count": 23,
   "metadata": {
    "colab": {},
    "colab_type": "code",
    "id": "QB89EPQ_cUnC"
   },
   "outputs": [
    {
     "data": {
      "text/html": [
       "<div>\n",
       "<style scoped>\n",
       "    .dataframe tbody tr th:only-of-type {\n",
       "        vertical-align: middle;\n",
       "    }\n",
       "\n",
       "    .dataframe tbody tr th {\n",
       "        vertical-align: top;\n",
       "    }\n",
       "\n",
       "    .dataframe thead th {\n",
       "        text-align: right;\n",
       "    }\n",
       "</style>\n",
       "<table border=\"1\" class=\"dataframe\">\n",
       "  <thead>\n",
       "    <tr style=\"text-align: right;\">\n",
       "      <th></th>\n",
       "      <th>movieid</th>\n",
       "      <th>title</th>\n",
       "      <th>genres</th>\n",
       "    </tr>\n",
       "  </thead>\n",
       "  <tbody>\n",
       "    <tr>\n",
       "      <th>0</th>\n",
       "      <td>1</td>\n",
       "      <td>Toy Story (1995)</td>\n",
       "      <td>Animation|Children's|Comedy</td>\n",
       "    </tr>\n",
       "    <tr>\n",
       "      <th>1</th>\n",
       "      <td>2</td>\n",
       "      <td>Jumanji (1995)</td>\n",
       "      <td>Adventure|Children's|Fantasy</td>\n",
       "    </tr>\n",
       "  </tbody>\n",
       "</table>\n",
       "</div>"
      ],
      "text/plain": [
       "   movieid             title                        genres\n",
       "0        1  Toy Story (1995)   Animation|Children's|Comedy\n",
       "1        2    Jumanji (1995)  Adventure|Children's|Fantasy"
      ]
     },
     "execution_count": 23,
     "metadata": {},
     "output_type": "execute_result"
    }
   ],
   "source": [
    "movies.head(2)"
   ]
  },
  {
   "cell_type": "code",
   "execution_count": 24,
   "metadata": {
    "colab": {},
    "colab_type": "code",
    "id": "ih7rHEttcUnG"
   },
   "outputs": [
    {
     "data": {
      "text/html": [
       "<div>\n",
       "<style scoped>\n",
       "    .dataframe tbody tr th:only-of-type {\n",
       "        vertical-align: middle;\n",
       "    }\n",
       "\n",
       "    .dataframe tbody tr th {\n",
       "        vertical-align: top;\n",
       "    }\n",
       "\n",
       "    .dataframe thead th {\n",
       "        text-align: right;\n",
       "    }\n",
       "</style>\n",
       "<table border=\"1\" class=\"dataframe\">\n",
       "  <thead>\n",
       "    <tr style=\"text-align: right;\">\n",
       "      <th></th>\n",
       "      <th>userid</th>\n",
       "      <th>movieid</th>\n",
       "      <th>rating</th>\n",
       "      <th>timestamp</th>\n",
       "    </tr>\n",
       "  </thead>\n",
       "  <tbody>\n",
       "    <tr>\n",
       "      <th>0</th>\n",
       "      <td>1</td>\n",
       "      <td>1193</td>\n",
       "      <td>5</td>\n",
       "      <td>978300760</td>\n",
       "    </tr>\n",
       "    <tr>\n",
       "      <th>1</th>\n",
       "      <td>1</td>\n",
       "      <td>661</td>\n",
       "      <td>3</td>\n",
       "      <td>978302109</td>\n",
       "    </tr>\n",
       "  </tbody>\n",
       "</table>\n",
       "</div>"
      ],
      "text/plain": [
       "   userid  movieid  rating  timestamp\n",
       "0       1     1193       5  978300760\n",
       "1       1      661       3  978302109"
      ]
     },
     "execution_count": 24,
     "metadata": {},
     "output_type": "execute_result"
    }
   ],
   "source": [
    "#ratings.pop('timestamp')\n",
    "ratings.head(2)"
   ]
  },
  {
   "cell_type": "code",
   "execution_count": 25,
   "metadata": {
    "colab": {},
    "colab_type": "code",
    "id": "MUCVqPN9mibT"
   },
   "outputs": [
    {
     "data": {
      "text/html": [
       "<div>\n",
       "<style scoped>\n",
       "    .dataframe tbody tr th:only-of-type {\n",
       "        vertical-align: middle;\n",
       "    }\n",
       "\n",
       "    .dataframe tbody tr th {\n",
       "        vertical-align: top;\n",
       "    }\n",
       "\n",
       "    .dataframe thead th {\n",
       "        text-align: right;\n",
       "    }\n",
       "</style>\n",
       "<table border=\"1\" class=\"dataframe\">\n",
       "  <thead>\n",
       "    <tr style=\"text-align: right;\">\n",
       "      <th></th>\n",
       "      <th>userid</th>\n",
       "      <th>gender</th>\n",
       "      <th>age</th>\n",
       "      <th>occupation</th>\n",
       "      <th>zip</th>\n",
       "    </tr>\n",
       "  </thead>\n",
       "  <tbody>\n",
       "    <tr>\n",
       "      <th>0</th>\n",
       "      <td>1</td>\n",
       "      <td>F</td>\n",
       "      <td>1</td>\n",
       "      <td>10</td>\n",
       "      <td>48067</td>\n",
       "    </tr>\n",
       "    <tr>\n",
       "      <th>1</th>\n",
       "      <td>2</td>\n",
       "      <td>M</td>\n",
       "      <td>56</td>\n",
       "      <td>16</td>\n",
       "      <td>70072</td>\n",
       "    </tr>\n",
       "  </tbody>\n",
       "</table>\n",
       "</div>"
      ],
      "text/plain": [
       "   userid gender  age  occupation    zip\n",
       "0       1      F    1          10  48067\n",
       "1       2      M   56          16  70072"
      ]
     },
     "execution_count": 25,
     "metadata": {},
     "output_type": "execute_result"
    }
   ],
   "source": [
    "users.head(2)"
   ]
  },
  {
   "cell_type": "code",
   "execution_count": 48,
   "metadata": {},
   "outputs": [
    {
     "data": {
      "text/html": [
       "<div>\n",
       "<style scoped>\n",
       "    .dataframe tbody tr th:only-of-type {\n",
       "        vertical-align: middle;\n",
       "    }\n",
       "\n",
       "    .dataframe tbody tr th {\n",
       "        vertical-align: top;\n",
       "    }\n",
       "\n",
       "    .dataframe thead th {\n",
       "        text-align: right;\n",
       "    }\n",
       "</style>\n",
       "<table border=\"1\" class=\"dataframe\">\n",
       "  <thead>\n",
       "    <tr style=\"text-align: right;\">\n",
       "      <th></th>\n",
       "      <th>userid</th>\n",
       "      <th>movieid</th>\n",
       "      <th>rating</th>\n",
       "      <th>timestamp</th>\n",
       "    </tr>\n",
       "  </thead>\n",
       "  <tbody>\n",
       "    <tr>\n",
       "      <th>4168</th>\n",
       "      <td>4169</td>\n",
       "      <td>4611649</td>\n",
       "      <td>8219</td>\n",
       "      <td>2253251570450</td>\n",
       "    </tr>\n",
       "    <tr>\n",
       "      <th>4276</th>\n",
       "      <td>4277</td>\n",
       "      <td>3434119</td>\n",
       "      <td>7207</td>\n",
       "      <td>1696635554925</td>\n",
       "    </tr>\n",
       "    <tr>\n",
       "      <th>1679</th>\n",
       "      <td>1680</td>\n",
       "      <td>3484153</td>\n",
       "      <td>6578</td>\n",
       "      <td>1803339881486</td>\n",
       "    </tr>\n",
       "    <tr>\n",
       "      <th>1940</th>\n",
       "      <td>1941</td>\n",
       "      <td>3220078</td>\n",
       "      <td>4872</td>\n",
       "      <td>1562701568029</td>\n",
       "    </tr>\n",
       "    <tr>\n",
       "      <th>2908</th>\n",
       "      <td>2909</td>\n",
       "      <td>2444231</td>\n",
       "      <td>4809</td>\n",
       "      <td>1232022760245</td>\n",
       "    </tr>\n",
       "    <tr>\n",
       "      <th>...</th>\n",
       "      <td>...</td>\n",
       "      <td>...</td>\n",
       "      <td>...</td>\n",
       "      <td>...</td>\n",
       "    </tr>\n",
       "    <tr>\n",
       "      <th>3641</th>\n",
       "      <td>3642</td>\n",
       "      <td>36255</td>\n",
       "      <td>54</td>\n",
       "      <td>20295945945</td>\n",
       "    </tr>\n",
       "    <tr>\n",
       "      <th>4348</th>\n",
       "      <td>4349</td>\n",
       "      <td>50892</td>\n",
       "      <td>53</td>\n",
       "      <td>26060748987</td>\n",
       "    </tr>\n",
       "    <tr>\n",
       "      <th>4364</th>\n",
       "      <td>4365</td>\n",
       "      <td>59333</td>\n",
       "      <td>51</td>\n",
       "      <td>19303672004</td>\n",
       "    </tr>\n",
       "    <tr>\n",
       "      <th>4055</th>\n",
       "      <td>4056</td>\n",
       "      <td>46784</td>\n",
       "      <td>51</td>\n",
       "      <td>21240785153</td>\n",
       "    </tr>\n",
       "    <tr>\n",
       "      <th>4635</th>\n",
       "      <td>4636</td>\n",
       "      <td>67804</td>\n",
       "      <td>50</td>\n",
       "      <td>24100779697</td>\n",
       "    </tr>\n",
       "  </tbody>\n",
       "</table>\n",
       "<p>6040 rows × 4 columns</p>\n",
       "</div>"
      ],
      "text/plain": [
       "      userid  movieid  rating      timestamp\n",
       "4168    4169  4611649    8219  2253251570450\n",
       "4276    4277  3434119    7207  1696635554925\n",
       "1679    1680  3484153    6578  1803339881486\n",
       "1940    1941  3220078    4872  1562701568029\n",
       "2908    2909  2444231    4809  1232022760245\n",
       "...      ...      ...     ...            ...\n",
       "3641    3642    36255      54    20295945945\n",
       "4348    4349    50892      53    26060748987\n",
       "4364    4365    59333      51    19303672004\n",
       "4055    4056    46784      51    21240785153\n",
       "4635    4636    67804      50    24100779697\n",
       "\n",
       "[6040 rows x 4 columns]"
      ]
     },
     "execution_count": 48,
     "metadata": {},
     "output_type": "execute_result"
    }
   ],
   "source": [
    "grouped = ratings.groupby('userid').sum().reset_index()\n",
    "grouped.sort_values('rating', ascending=False)"
   ]
  },
  {
   "cell_type": "markdown",
   "metadata": {
    "colab_type": "text",
    "id": "7PCxq8KecUnL"
   },
   "source": [
    "##### Define a Ratings scale\n",
    "This scale is determined by the lowest and highest rating possible. \n",
    "In this case the lowest rating is 1, while the highest is 5."
   ]
  },
  {
   "cell_type": "code",
   "execution_count": 37,
   "metadata": {
    "colab": {},
    "colab_type": "code",
    "id": "_sbDZlymcUnL"
   },
   "outputs": [],
   "source": [
    "reader = Reader(rating_scale=(1,5)) # This just defines the rating scale\n",
    "data = Dataset.load_from_df(ratings[['userid', 'movieid', 'rating']], reader=reader)"
   ]
  },
  {
   "cell_type": "markdown",
   "metadata": {
    "colab_type": "text",
    "id": "osRfBS-pcUnP"
   },
   "source": [
    "### Build the Recommender Model\n",
    "\n",
    "##### KNN with Means - Surprise\n",
    "\n",
    "[KNN with Means](https://surprise.readthedocs.io/en/stable/knn_inspired.html#surprise.prediction_algorithms.knns.KNNWithMeans) has been chosen for the recommender, which is a basic collaborative filtering algorithm, taking into account the mean ratings of each user."
   ]
  },
  {
   "cell_type": "code",
   "execution_count": 38,
   "metadata": {
    "colab": {},
    "colab_type": "code",
    "id": "lsQcmBWacUnQ"
   },
   "outputs": [],
   "source": [
    "def build_recommender(user_based=False, sim_type='cosine'):\n",
    "    sim_options = {\n",
    "        \"name\": sim_type,\n",
    "        \"user_based\": user_based\n",
    "    }\n",
    "\n",
    "    return KNNWithMeans(sim_options=sim_options)"
   ]
  },
  {
   "cell_type": "markdown",
   "metadata": {
    "colab_type": "text",
    "id": "VMOU_vTUcUnU"
   },
   "source": [
    "##### Calculate the Similarity Matrix\n",
    "\n",
    "Ignoring folds this builds the *Trainset* using [build_full_trainset()](https://surprise.readthedocs.io/en/stable/dataset.html#surprise.dataset.DatasetAutoFolds.build_full_trainset)\n",
    "\n",
    "The Trainset is built using the data, but then contains more information about the data"
   ]
  },
  {
   "cell_type": "code",
   "execution_count": 39,
   "metadata": {
    "colab": {
     "base_uri": "https://localhost:8080/",
     "height": 70
    },
    "colab_type": "code",
    "id": "a4YxzV0McUnV",
    "outputId": "b21e159a-0135-4d6f-f257-e7b63165c14f"
   },
   "outputs": [
    {
     "name": "stdout",
     "output_type": "stream",
     "text": [
      "Computing the cosine similarity matrix...\n",
      "Done computing similarity matrix.\n"
     ]
    },
    {
     "data": {
      "text/plain": [
       "<surprise.prediction_algorithms.knns.KNNWithMeans at 0x7fa5428cd310>"
      ]
     },
     "execution_count": 39,
     "metadata": {},
     "output_type": "execute_result"
    }
   ],
   "source": [
    "trainset = data.build_full_trainset()\n",
    "# user_based_recommender = build_recommender(user_based=True)\n",
    "item_based_recommender = build_recommender()\n",
    "# User based seems to give a memory error when fit, due to the much larger amount of users than recipes.\n",
    "# user_based_recommender.fit(trainset)\n",
    "item_based_recommender.fit(trainset)"
   ]
  },
  {
   "cell_type": "markdown",
   "metadata": {
    "colab_type": "text",
    "id": "bzNzGGO-cUnZ"
   },
   "source": [
    "### Evaluate the Model\n",
    "\n",
    "Using [cross_validation()](https://surprise.readthedocs.io/en/stable/model_selection.html#cross-validation) from surprise, we can quickly evaluate the model using a few metrics. "
   ]
  },
  {
   "cell_type": "code",
   "execution_count": 40,
   "metadata": {
    "colab": {
     "base_uri": "https://localhost:8080/",
     "height": 532
    },
    "colab_type": "code",
    "id": "yLfQS_Q5cUna",
    "outputId": "679e4f22-d1bb-4286-802b-e5513b5c5a84"
   },
   "outputs": [
    {
     "name": "stdout",
     "output_type": "stream",
     "text": [
      "Computing the cosine similarity matrix...\n",
      "Done computing similarity matrix.\n",
      "Computing the cosine similarity matrix...\n",
      "Done computing similarity matrix.\n",
      "Computing the cosine similarity matrix...\n",
      "Done computing similarity matrix.\n",
      "Computing the cosine similarity matrix...\n",
      "Done computing similarity matrix.\n",
      "Computing the cosine similarity matrix...\n",
      "Done computing similarity matrix.\n",
      "Evaluating RMSE, MAE of algorithm KNNWithMeans on 5 split(s).\n",
      "\n",
      "                  Fold 1  Fold 2  Fold 3  Fold 4  Fold 5  Mean    Std     \n",
      "RMSE (testset)    0.8958  0.8933  0.8932  0.8946  0.8903  0.8934  0.0018  \n",
      "MAE (testset)     0.7030  0.7016  0.7027  0.7031  0.7006  0.7022  0.0010  \n",
      "Fit time          30.97   37.09   31.31   31.64   37.44   33.69   2.93    \n",
      "Test time         86.06   88.81   83.51   84.19   83.73   85.26   1.99    \n"
     ]
    },
    {
     "data": {
      "text/plain": [
       "{'test_rmse': array([0.89575209, 0.8933469 , 0.89321132, 0.89456386, 0.89032265]),\n",
       " 'test_mae': array([0.70304933, 0.70155716, 0.7026846 , 0.70310216, 0.70062151]),\n",
       " 'fit_time': (30.972729921340942,\n",
       "  37.08533072471619,\n",
       "  31.307833194732666,\n",
       "  31.643873691558838,\n",
       "  37.437188148498535),\n",
       " 'test_time': (86.06465816497803,\n",
       "  88.81173324584961,\n",
       "  83.50519371032715,\n",
       "  84.18715929985046,\n",
       "  83.73203921318054)}"
      ]
     },
     "execution_count": 40,
     "metadata": {},
     "output_type": "execute_result"
    }
   ],
   "source": [
    "cross_validate(item_based_recommender, movielens, measures=['RMSE', 'MAE'], cv=5, verbose=True)"
   ]
  },
  {
   "cell_type": "markdown",
   "metadata": {
    "colab_type": "text",
    "id": "i4A703zacUne"
   },
   "source": [
    "##### Prediction\n",
    "\n",
    "Using this test to see how a user might rate a specific recipe."
   ]
  },
  {
   "cell_type": "code",
   "execution_count": 1,
   "metadata": {
    "colab": {
     "base_uri": "https://localhost:8080/",
     "height": 54
    },
    "colab_type": "code",
    "id": "uq880sAucUne",
    "outputId": "9a38e072-a839-4bef-d567-452cd8c8287d"
   },
   "outputs": [
    {
     "ename": "NameError",
     "evalue": "name 'item_based_recommender' is not defined",
     "output_type": "error",
     "traceback": [
      "\u001b[0;31m---------------------------------------------------------------------------\u001b[0m",
      "\u001b[0;31mNameError\u001b[0m                                 Traceback (most recent call last)",
      "\u001b[0;32m<ipython-input-1-a17e96f3e9b7>\u001b[0m in \u001b[0;36m<module>\u001b[0;34m\u001b[0m\n\u001b[1;32m      1\u001b[0m \u001b[0mi\u001b[0m \u001b[0;34m=\u001b[0m \u001b[0;36m252\u001b[0m\u001b[0;34m\u001b[0m\u001b[0;34m\u001b[0m\u001b[0m\n\u001b[1;32m      2\u001b[0m \u001b[0;32mfor\u001b[0m \u001b[0mi\u001b[0m \u001b[0;32min\u001b[0m \u001b[0mrange\u001b[0m\u001b[0;34m(\u001b[0m\u001b[0;36m150\u001b[0m\u001b[0;34m)\u001b[0m\u001b[0;34m:\u001b[0m\u001b[0;34m\u001b[0m\u001b[0;34m\u001b[0m\u001b[0m\n\u001b[0;32m----> 3\u001b[0;31m     \u001b[0mprediction\u001b[0m \u001b[0;34m=\u001b[0m \u001b[0mitem_based_recommender\u001b[0m\u001b[0;34m.\u001b[0m\u001b[0mpredict\u001b[0m\u001b[0;34m(\u001b[0m\u001b[0mi\u001b[0m\u001b[0;34m,\u001b[0m\u001b[0;36m167\u001b[0m\u001b[0;34m)\u001b[0m\u001b[0;34m\u001b[0m\u001b[0;34m\u001b[0m\u001b[0m\n\u001b[0m\u001b[1;32m      4\u001b[0m     \u001b[0mprint\u001b[0m\u001b[0;34m(\u001b[0m\u001b[0mround\u001b[0m\u001b[0;34m(\u001b[0m\u001b[0mprediction\u001b[0m\u001b[0;34m.\u001b[0m\u001b[0mest\u001b[0m\u001b[0;34m,\u001b[0m\u001b[0;36m1\u001b[0m\u001b[0;34m)\u001b[0m\u001b[0;34m,\u001b[0m \u001b[0mend\u001b[0m\u001b[0;34m=\u001b[0m\u001b[0;34m', '\u001b[0m\u001b[0;34m)\u001b[0m\u001b[0;34m\u001b[0m\u001b[0;34m\u001b[0m\u001b[0m\n\u001b[1;32m      5\u001b[0m     \u001b[0mi\u001b[0m \u001b[0;34m=\u001b[0m \u001b[0mi\u001b[0m \u001b[0;34m+\u001b[0m \u001b[0;36m1\u001b[0m\u001b[0;34m\u001b[0m\u001b[0;34m\u001b[0m\u001b[0m\n",
      "\u001b[0;31mNameError\u001b[0m: name 'item_based_recommender' is not defined"
     ]
    }
   ],
   "source": [
    "i = 252\n",
    "for i in range(150):\n",
    "    prediction = item_based_recommender.predict(i,167)\n",
    "    print(round(prediction.est,2), end=', ')\n",
    "    i = i + 1"
   ]
  },
  {
   "cell_type": "markdown",
   "metadata": {
    "colab_type": "text",
    "id": "PIic1IXpcUni"
   },
   "source": [
    "### Inference\n",
    "\n",
    "The main function to run the model and get inferences"
   ]
  },
  {
   "cell_type": "code",
   "execution_count": 108,
   "metadata": {
    "colab": {},
    "colab_type": "code",
    "id": "RHzb3os8cUni"
   },
   "outputs": [],
   "source": [
    "def get_r(user_id,model):\n",
    "    # Select which system to use. Due to memory constraints, item based is the only viable option\n",
    "    recommender_system = model\n",
    "    # N will represent how many items to recommend\n",
    "    N = 1000\n",
    "    \n",
    "    # The setting to a set and back to list is a failsafe.\n",
    "    rated_items = list(set(ratings.loc[ratings['userid'] == user_id]['movieid'].tolist()))\n",
    "    ratings_list = movies['movieid'].values.tolist()\n",
    "    reduced_ratings = ratings.loc[ratings['movieid'].isin(ratings_list)].copy()\n",
    "    \n",
    "    # Self explanitory name\n",
    "    all_item_ids = list(set(reduced_ratings['movieid'].tolist()))\n",
    "    \n",
    "    # New_items just represents all the items not rated by the user\n",
    "    new_items = [x for x in all_item_ids if x not in rated_items]\n",
    "    \n",
    "    # Estimate ratings for all unrated items\n",
    "    predicted_ratings = {}\n",
    "    for item_id in new_items:\n",
    "        predicted_ratings[item_id] = recommender_system.predict(user_id, item_id).est\n",
    "        pass\n",
    "    \n",
    "    # Get the item_ids for the top ratings\n",
    "    recommended_ids = heapq.nlargest(N, predicted_ratings, key=predicted_ratings.get)\n",
    "    recommended_ids = sorted(recommended_ids)\n",
    "    \n",
    "    # predicted_ratings\n",
    "    recommended_df = movies.loc[movies['movieid'].isin(recommended_ids)].copy()\n",
    "    #recommended_df.insert(1, 'pred_rating', np.zeros(len(recommended_ids)))\n",
    "    recommended_df.insert(1, 'pred_rating', 0)\n",
    "    \n",
    "    # recommended_df = movies.copy()\n",
    "    for idx,item_id in enumerate(recommended_ids):\n",
    "        recommended_df.iloc[idx, recommended_df.columns.get_loc('pred_rating')] = int(predicted_ratings[item_id])\n",
    "        pass\n",
    "    return recommended_df.head(N).sort_values('pred_rating', ascending=False)\n",
    "\n",
    "def set_up_ml(user_id,genre_list,model):\n",
    "    ml_list = get_r(user_id,model)\n",
    "    cols = ml_list.columns\n",
    "    f_list = pd.DataFrame(columns = cols)\n",
    "    \n",
    "    items = genre_list.split(',')\n",
    "    s_ = ''\n",
    "    for i in items:\n",
    "        str_ = f'(?=.*{i})'\n",
    "        s_ += str_\n",
    "    s_\n",
    "    \n",
    "    for j in range(0,len(items)):\n",
    "        b_list = ml_list.copy()\n",
    "        b_list = b_list[b_list['genres'].str.contains(items[j])]\n",
    "        f_list = f_list.append(b_list, sort=False, ignore_index=True)\n",
    "    f_list = f_list[f_list['genres'].str.contains(fr'^\\b{s_}\\b',regex=True)]\n",
    "    f_list.pop('movieid')\n",
    "    f_list.pop('pred_rating')\n",
    "    return f_list\n",
    "\n",
    "def mk_tbl(rows):\n",
    "    #this is for creating dynamic tables\n",
    "    rows.pop()\n",
    "    return arr"
   ]
  },
  {
   "cell_type": "markdown",
   "metadata": {
    "colab_type": "text",
    "id": "iMVG1i3mcUnm"
   },
   "source": [
    "### Get a Recommendation Based on Genres\n",
    "\n",
    "The final code that will be impletented in a cleaner fashion through the browser interface."
   ]
  },
  {
   "cell_type": "code",
   "execution_count": 3,
   "metadata": {
    "colab": {},
    "colab_type": "code",
    "id": "v5_cW8kncUnn"
   },
   "outputs": [
    {
     "ename": "NameError",
     "evalue": "name 'item_based_recommender' is not defined",
     "output_type": "error",
     "traceback": [
      "\u001b[0;31m---------------------------------------------------------------------------\u001b[0m",
      "\u001b[0;31mNameError\u001b[0m                                 Traceback (most recent call last)",
      "\u001b[0;32m<ipython-input-3-8c0eadd98efd>\u001b[0m in \u001b[0;36m<module>\u001b[0;34m\u001b[0m\n\u001b[1;32m      1\u001b[0m \u001b[0muser_id\u001b[0m \u001b[0;34m=\u001b[0m \u001b[0;36m4168\u001b[0m\u001b[0;34m\u001b[0m\u001b[0;34m\u001b[0m\u001b[0m\n\u001b[1;32m      2\u001b[0m \u001b[0mgenre_list\u001b[0m \u001b[0;34m=\u001b[0m \u001b[0;34m'Fantasy'\u001b[0m\u001b[0;34m\u001b[0m\u001b[0;34m\u001b[0m\u001b[0m\n\u001b[0;32m----> 3\u001b[0;31m \u001b[0mtable_list\u001b[0m \u001b[0;34m=\u001b[0m \u001b[0mset_up_ml\u001b[0m\u001b[0;34m(\u001b[0m\u001b[0muser_id\u001b[0m\u001b[0;34m,\u001b[0m\u001b[0mgenre_list\u001b[0m\u001b[0;34m,\u001b[0m\u001b[0mitem_based_recommender\u001b[0m\u001b[0;34m)\u001b[0m\u001b[0;34m\u001b[0m\u001b[0;34m\u001b[0m\u001b[0m\n\u001b[0m\u001b[1;32m      4\u001b[0m \u001b[0;34m\u001b[0m\u001b[0m\n\u001b[1;32m      5\u001b[0m \u001b[0mtable_list\u001b[0m \u001b[0;34m=\u001b[0m \u001b[0mtable_list\u001b[0m\u001b[0;34m.\u001b[0m\u001b[0mto_numpy\u001b[0m\u001b[0;34m(\u001b[0m\u001b[0;34m)\u001b[0m\u001b[0;34m\u001b[0m\u001b[0;34m\u001b[0m\u001b[0m\n",
      "\u001b[0;31mNameError\u001b[0m: name 'item_based_recommender' is not defined"
     ]
    }
   ],
   "source": [
    "user_id = 4168\n",
    "genre_list = 'Fantasy'\n",
    "table_list = set_up_ml(user_id,genre_list,item_based_recommender)\n",
    "\n",
    "table_list = table_list.to_numpy()\n",
    "\n",
    "test = pd.DataFrame(table_list)\n",
    "test"
   ]
  },
  {
   "cell_type": "markdown",
   "metadata": {
    "colab_type": "text",
    "id": "KK47pKTHcUn1"
   },
   "source": [
    "## Save the Model"
   ]
  },
  {
   "cell_type": "code",
   "execution_count": 8,
   "metadata": {
    "colab": {},
    "colab_type": "code",
    "id": "7KYFg3sGcUn3"
   },
   "outputs": [],
   "source": [
    "import os\n",
    "os_path = os.path.join(os.path.expanduser('~'))\n",
    "PATH = os_path+'/mldl/models/'\n",
    "\n",
    "import pickle\n",
    "filename = PATH+'movielens_light_recommender_model.sav'\n",
    "#pickle.dump(item_based_recommender, open(filename, 'wb'))"
   ]
  },
  {
   "cell_type": "code",
   "execution_count": 9,
   "metadata": {
    "colab": {},
    "colab_type": "code",
    "id": "-glECXxPcUn6"
   },
   "outputs": [],
   "source": [
    "ml_recommender = pickle.load(open(filename, 'rb'))"
   ]
  },
  {
   "cell_type": "code",
   "execution_count": 33,
   "metadata": {
    "colab": {
     "base_uri": "https://localhost:8080/",
     "height": 532
    },
    "colab_type": "code",
    "id": "euF5RekRcUn_",
    "outputId": "d4bd9346-ba3a-4026-fe61-2734dfaf22f9"
   },
   "outputs": [
    {
     "name": "stdout",
     "output_type": "stream",
     "text": [
      "Computing the cosine similarity matrix...\n",
      "Done computing similarity matrix.\n",
      "Computing the cosine similarity matrix...\n",
      "Done computing similarity matrix.\n",
      "Computing the cosine similarity matrix...\n",
      "Done computing similarity matrix.\n",
      "Computing the cosine similarity matrix...\n",
      "Done computing similarity matrix.\n",
      "Computing the cosine similarity matrix...\n",
      "Done computing similarity matrix.\n",
      "Evaluating RMSE, MAE of algorithm KNNWithMeans on 5 split(s).\n",
      "\n",
      "                  Fold 1  Fold 2  Fold 3  Fold 4  Fold 5  Mean    Std     \n",
      "RMSE (testset)    0.8933  0.8935  0.8950  0.8926  0.8940  0.8937  0.0008  \n",
      "MAE (testset)     0.7013  0.7028  0.7034  0.7005  0.7029  0.7022  0.0011  \n",
      "Fit time          20.51   21.22   21.25   21.31   21.19   21.10   0.30    \n",
      "Test time         63.17   62.32   62.74   63.12   62.83   62.84   0.31    \n"
     ]
    },
    {
     "data": {
      "text/plain": [
       "{'fit_time': (20.505255222320557,\n",
       "  21.218019008636475,\n",
       "  21.251424312591553,\n",
       "  21.31477117538452,\n",
       "  21.189316034317017),\n",
       " 'test_mae': array([0.70134784, 0.70276659, 0.70339275, 0.70052107, 0.70290287]),\n",
       " 'test_rmse': array([0.89332273, 0.89348256, 0.89503767, 0.89258582, 0.89398495]),\n",
       " 'test_time': (63.17433524131775,\n",
       "  62.31940054893494,\n",
       "  62.737791776657104,\n",
       "  63.11521077156067,\n",
       "  62.82955527305603)}"
      ]
     },
     "execution_count": 33,
     "metadata": {
      "tags": []
     },
     "output_type": "execute_result"
    }
   ],
   "source": [
    "cross_validate(ml_recommender, data, measures=['RMSE', 'MAE'], cv=5, verbose=True)"
   ]
  },
  {
   "cell_type": "code",
   "execution_count": 11,
   "metadata": {},
   "outputs": [
    {
     "data": {
      "text/plain": [
       "['Action',\n",
       " 'Adventure',\n",
       " 'Animation',\n",
       " 'Children',\n",
       " 'Comedy',\n",
       " 'Crime',\n",
       " 'Documentary',\n",
       " 'Drama',\n",
       " 'Fantasy',\n",
       " 'Film-Noir',\n",
       " 'Horror',\n",
       " 'Musical',\n",
       " 'Mystery',\n",
       " 'Romance',\n",
       " 'Sci-Fi',\n",
       " 'Thriller',\n",
       " 'War',\n",
       " 'Western']"
      ]
     },
     "execution_count": 11,
     "metadata": {},
     "output_type": "execute_result"
    }
   ],
   "source": [
    "genres"
   ]
  },
  {
   "cell_type": "code",
   "execution_count": 166,
   "metadata": {
    "colab": {},
    "colab_type": "code",
    "id": "I4JoX2uU9FTc"
   },
   "outputs": [],
   "source": [
    "user_id = 4168\n",
    "genre_list = 'Sci-Fi,Comedy'\n",
    "items = genre_list.split(',')\n",
    "table_list = set_up_ml(user_id,genre_list,ml_recommender)"
   ]
  },
  {
   "cell_type": "code",
   "execution_count": 167,
   "metadata": {},
   "outputs": [
    {
     "data": {
      "text/html": [
       "<div>\n",
       "<style scoped>\n",
       "    .dataframe tbody tr th:only-of-type {\n",
       "        vertical-align: middle;\n",
       "    }\n",
       "\n",
       "    .dataframe tbody tr th {\n",
       "        vertical-align: top;\n",
       "    }\n",
       "\n",
       "    .dataframe thead th {\n",
       "        text-align: right;\n",
       "    }\n",
       "</style>\n",
       "<table border=\"1\" class=\"dataframe\">\n",
       "  <thead>\n",
       "    <tr style=\"text-align: right;\">\n",
       "      <th></th>\n",
       "      <th>title</th>\n",
       "      <th>genres</th>\n",
       "    </tr>\n",
       "  </thead>\n",
       "  <tbody>\n",
       "    <tr>\n",
       "      <th>5</th>\n",
       "      <td>Visitors, The (Les Visiteurs) (1993)</td>\n",
       "      <td>Comedy|Sci-Fi</td>\n",
       "    </tr>\n",
       "    <tr>\n",
       "      <th>7</th>\n",
       "      <td>Nutty Professor, The (1996)</td>\n",
       "      <td>Comedy|Fantasy|Romance|Sci-Fi</td>\n",
       "    </tr>\n",
       "    <tr>\n",
       "      <th>11</th>\n",
       "      <td>Mystery Science Theater 3000: The Movie (1996)</td>\n",
       "      <td>Comedy|Sci-Fi</td>\n",
       "    </tr>\n",
       "    <tr>\n",
       "      <th>17</th>\n",
       "      <td>Sleeper (1973)</td>\n",
       "      <td>Comedy|Sci-Fi</td>\n",
       "    </tr>\n",
       "    <tr>\n",
       "      <th>29</th>\n",
       "      <td>Junior (1994)</td>\n",
       "      <td>Comedy|Sci-Fi</td>\n",
       "    </tr>\n",
       "    <tr>\n",
       "      <th>38</th>\n",
       "      <td>Coneheads (1993)</td>\n",
       "      <td>Comedy|Sci-Fi</td>\n",
       "    </tr>\n",
       "    <tr>\n",
       "      <th>46</th>\n",
       "      <td>Tank Girl (1995)</td>\n",
       "      <td>Action|Comedy|Musical|Sci-Fi</td>\n",
       "    </tr>\n",
       "    <tr>\n",
       "      <th>70</th>\n",
       "      <td>Visitors, The (Les Visiteurs) (1993)</td>\n",
       "      <td>Comedy|Sci-Fi</td>\n",
       "    </tr>\n",
       "    <tr>\n",
       "      <th>90</th>\n",
       "      <td>Nutty Professor, The (1996)</td>\n",
       "      <td>Comedy|Fantasy|Romance|Sci-Fi</td>\n",
       "    </tr>\n",
       "    <tr>\n",
       "      <th>120</th>\n",
       "      <td>Mystery Science Theater 3000: The Movie (1996)</td>\n",
       "      <td>Comedy|Sci-Fi</td>\n",
       "    </tr>\n",
       "    <tr>\n",
       "      <th>163</th>\n",
       "      <td>Sleeper (1973)</td>\n",
       "      <td>Comedy|Sci-Fi</td>\n",
       "    </tr>\n",
       "    <tr>\n",
       "      <th>224</th>\n",
       "      <td>Junior (1994)</td>\n",
       "      <td>Comedy|Sci-Fi</td>\n",
       "    </tr>\n",
       "    <tr>\n",
       "      <th>306</th>\n",
       "      <td>Coneheads (1993)</td>\n",
       "      <td>Comedy|Sci-Fi</td>\n",
       "    </tr>\n",
       "    <tr>\n",
       "      <th>334</th>\n",
       "      <td>Tank Girl (1995)</td>\n",
       "      <td>Action|Comedy|Musical|Sci-Fi</td>\n",
       "    </tr>\n",
       "  </tbody>\n",
       "</table>\n",
       "</div>"
      ],
      "text/plain": [
       "                                              title  \\\n",
       "5              Visitors, The (Les Visiteurs) (1993)   \n",
       "7                       Nutty Professor, The (1996)   \n",
       "11   Mystery Science Theater 3000: The Movie (1996)   \n",
       "17                                   Sleeper (1973)   \n",
       "29                                    Junior (1994)   \n",
       "38                                 Coneheads (1993)   \n",
       "46                                 Tank Girl (1995)   \n",
       "70             Visitors, The (Les Visiteurs) (1993)   \n",
       "90                      Nutty Professor, The (1996)   \n",
       "120  Mystery Science Theater 3000: The Movie (1996)   \n",
       "163                                  Sleeper (1973)   \n",
       "224                                   Junior (1994)   \n",
       "306                                Coneheads (1993)   \n",
       "334                                Tank Girl (1995)   \n",
       "\n",
       "                            genres  \n",
       "5                    Comedy|Sci-Fi  \n",
       "7    Comedy|Fantasy|Romance|Sci-Fi  \n",
       "11                   Comedy|Sci-Fi  \n",
       "17                   Comedy|Sci-Fi  \n",
       "29                   Comedy|Sci-Fi  \n",
       "38                   Comedy|Sci-Fi  \n",
       "46    Action|Comedy|Musical|Sci-Fi  \n",
       "70                   Comedy|Sci-Fi  \n",
       "90   Comedy|Fantasy|Romance|Sci-Fi  \n",
       "120                  Comedy|Sci-Fi  \n",
       "163                  Comedy|Sci-Fi  \n",
       "224                  Comedy|Sci-Fi  \n",
       "306                  Comedy|Sci-Fi  \n",
       "334   Action|Comedy|Musical|Sci-Fi  "
      ]
     },
     "execution_count": 167,
     "metadata": {},
     "output_type": "execute_result"
    }
   ],
   "source": [
    "table_list"
   ]
  },
  {
   "cell_type": "code",
   "execution_count": 168,
   "metadata": {},
   "outputs": [
    {
     "data": {
      "text/plain": [
       "'Nutty Professor, The (1996)'"
      ]
     },
     "execution_count": 168,
     "metadata": {},
     "output_type": "execute_result"
    }
   ],
   "source": [
    "table_list.iloc[1,0]"
   ]
  },
  {
   "cell_type": "code",
   "execution_count": 145,
   "metadata": {},
   "outputs": [
    {
     "data": {
      "text/plain": [
       "11"
      ]
     },
     "execution_count": 145,
     "metadata": {},
     "output_type": "execute_result"
    }
   ],
   "source": [
    "len(table_list)-1"
   ]
  },
  {
   "cell_type": "code",
   "execution_count": 151,
   "metadata": {},
   "outputs": [],
   "source": [
    "t_list = table_list.to_numpy()"
   ]
  },
  {
   "cell_type": "code",
   "execution_count": 163,
   "metadata": {},
   "outputs": [
    {
     "name": "stdout",
     "output_type": "stream",
     "text": [
      "Cemetery Man (Dellamorte Dellamore) (1994)\n",
      "Frighteners, The (1996)\n",
      "Dracula: Dead and Loving It (1995)\n",
      "From Dusk Till Dawn (1996)\n",
      "Serial Mom (1994)\n",
      "Tales from the Hood (1995)\n",
      "Cemetery Man (Dellamorte Dellamore) (1994)\n",
      "Frighteners, The (1996)\n",
      "Dracula: Dead and Loving It (1995)\n",
      "From Dusk Till Dawn (1996)\n",
      "Serial Mom (1994)\n",
      "Tales from the Hood (1995)\n"
     ]
    }
   ],
   "source": [
    "j = len(t_list)-1\n",
    "for i,r in t_list:\n",
    "    print(i)\n",
    "    #for i in range(0,11):\n",
    "        #print(i)\n",
    "        #print(table_list.iloc[r,i])"
   ]
  },
  {
   "cell_type": "code",
   "execution_count": 164,
   "metadata": {},
   "outputs": [
    {
     "data": {
      "text/plain": [
       "'Cemetery Man (Dellamorte Dellamore) (1994)'"
      ]
     },
     "execution_count": 164,
     "metadata": {},
     "output_type": "execute_result"
    }
   ],
   "source": [
    "str(t_list[0,0])"
   ]
  },
  {
   "cell_type": "code",
   "execution_count": 135,
   "metadata": {},
   "outputs": [
    {
     "name": "stdout",
     "output_type": "stream",
     "text": [
      "Cemetery Man (Dellamorte Dellamore) (1994) Comedy|Horror\n",
      "Frighteners, The (1996) Comedy|Horror\n",
      "Dracula: Dead and Loving It (1995) Comedy|Horror\n",
      "From Dusk Till Dawn (1996) Action|Comedy|Crime|Horror|Thriller\n",
      "Serial Mom (1994) Comedy|Crime|Horror\n",
      "Tales from the Hood (1995) Comedy|Horror\n",
      "Cemetery Man (Dellamorte Dellamore) (1994) Comedy|Horror\n",
      "Frighteners, The (1996) Comedy|Horror\n",
      "Dracula: Dead and Loving It (1995) Comedy|Horror\n",
      "From Dusk Till Dawn (1996) Action|Comedy|Crime|Horror|Thriller\n",
      "Serial Mom (1994) Comedy|Crime|Horror\n",
      "Tales from the Hood (1995) Comedy|Horror\n"
     ]
    }
   ],
   "source": [
    "for index, row in table_list.iterrows():\n",
    "    print(row['title'], row['genres'])"
   ]
  },
  {
   "cell_type": "code",
   "execution_count": 107,
   "metadata": {},
   "outputs": [
    {
     "data": {
      "text/html": [
       "<div>\n",
       "<style scoped>\n",
       "    .dataframe tbody tr th:only-of-type {\n",
       "        vertical-align: middle;\n",
       "    }\n",
       "\n",
       "    .dataframe tbody tr th {\n",
       "        vertical-align: top;\n",
       "    }\n",
       "\n",
       "    .dataframe thead th {\n",
       "        text-align: right;\n",
       "    }\n",
       "</style>\n",
       "<table border=\"1\" class=\"dataframe\">\n",
       "  <thead>\n",
       "    <tr style=\"text-align: right;\">\n",
       "      <th></th>\n",
       "      <th>movieid</th>\n",
       "      <th>pred_rating</th>\n",
       "      <th>title</th>\n",
       "      <th>genres</th>\n",
       "    </tr>\n",
       "  </thead>\n",
       "  <tbody>\n",
       "    <tr>\n",
       "      <th>1</th>\n",
       "      <td>735</td>\n",
       "      <td>3</td>\n",
       "      <td>Cemetery Man (Dellamorte Dellamore) (1994)</td>\n",
       "      <td>Comedy|Horror</td>\n",
       "    </tr>\n",
       "    <tr>\n",
       "      <th>3</th>\n",
       "      <td>799</td>\n",
       "      <td>3</td>\n",
       "      <td>Frighteners, The (1996)</td>\n",
       "      <td>Comedy|Horror</td>\n",
       "    </tr>\n",
       "    <tr>\n",
       "      <th>20</th>\n",
       "      <td>12</td>\n",
       "      <td>3</td>\n",
       "      <td>Dracula: Dead and Loving It (1995)</td>\n",
       "      <td>Comedy|Horror</td>\n",
       "    </tr>\n",
       "    <tr>\n",
       "      <th>21</th>\n",
       "      <td>70</td>\n",
       "      <td>3</td>\n",
       "      <td>From Dusk Till Dawn (1996)</td>\n",
       "      <td>Action|Comedy|Crime|Horror|Thriller</td>\n",
       "    </tr>\n",
       "    <tr>\n",
       "      <th>25</th>\n",
       "      <td>532</td>\n",
       "      <td>3</td>\n",
       "      <td>Serial Mom (1994)</td>\n",
       "      <td>Comedy|Crime|Horror</td>\n",
       "    </tr>\n",
       "    <tr>\n",
       "      <th>28</th>\n",
       "      <td>330</td>\n",
       "      <td>3</td>\n",
       "      <td>Tales from the Hood (1995)</td>\n",
       "      <td>Comedy|Horror</td>\n",
       "    </tr>\n",
       "    <tr>\n",
       "      <th>38</th>\n",
       "      <td>735</td>\n",
       "      <td>3</td>\n",
       "      <td>Cemetery Man (Dellamorte Dellamore) (1994)</td>\n",
       "      <td>Comedy|Horror</td>\n",
       "    </tr>\n",
       "    <tr>\n",
       "      <th>65</th>\n",
       "      <td>799</td>\n",
       "      <td>3</td>\n",
       "      <td>Frighteners, The (1996)</td>\n",
       "      <td>Comedy|Horror</td>\n",
       "    </tr>\n",
       "    <tr>\n",
       "      <th>235</th>\n",
       "      <td>12</td>\n",
       "      <td>3</td>\n",
       "      <td>Dracula: Dead and Loving It (1995)</td>\n",
       "      <td>Comedy|Horror</td>\n",
       "    </tr>\n",
       "    <tr>\n",
       "      <th>239</th>\n",
       "      <td>70</td>\n",
       "      <td>3</td>\n",
       "      <td>From Dusk Till Dawn (1996)</td>\n",
       "      <td>Action|Comedy|Crime|Horror|Thriller</td>\n",
       "    </tr>\n",
       "    <tr>\n",
       "      <th>295</th>\n",
       "      <td>532</td>\n",
       "      <td>3</td>\n",
       "      <td>Serial Mom (1994)</td>\n",
       "      <td>Comedy|Crime|Horror</td>\n",
       "    </tr>\n",
       "    <tr>\n",
       "      <th>317</th>\n",
       "      <td>330</td>\n",
       "      <td>3</td>\n",
       "      <td>Tales from the Hood (1995)</td>\n",
       "      <td>Comedy|Horror</td>\n",
       "    </tr>\n",
       "  </tbody>\n",
       "</table>\n",
       "</div>"
      ],
      "text/plain": [
       "    movieid pred_rating                                       title  \\\n",
       "1       735           3  Cemetery Man (Dellamorte Dellamore) (1994)   \n",
       "3       799           3                     Frighteners, The (1996)   \n",
       "20       12           3          Dracula: Dead and Loving It (1995)   \n",
       "21       70           3                  From Dusk Till Dawn (1996)   \n",
       "25      532           3                           Serial Mom (1994)   \n",
       "28      330           3                  Tales from the Hood (1995)   \n",
       "38      735           3  Cemetery Man (Dellamorte Dellamore) (1994)   \n",
       "65      799           3                     Frighteners, The (1996)   \n",
       "235      12           3          Dracula: Dead and Loving It (1995)   \n",
       "239      70           3                  From Dusk Till Dawn (1996)   \n",
       "295     532           3                           Serial Mom (1994)   \n",
       "317     330           3                  Tales from the Hood (1995)   \n",
       "\n",
       "                                  genres  \n",
       "1                          Comedy|Horror  \n",
       "3                          Comedy|Horror  \n",
       "20                         Comedy|Horror  \n",
       "21   Action|Comedy|Crime|Horror|Thriller  \n",
       "25                   Comedy|Crime|Horror  \n",
       "28                         Comedy|Horror  \n",
       "38                         Comedy|Horror  \n",
       "65                         Comedy|Horror  \n",
       "235                        Comedy|Horror  \n",
       "239  Action|Comedy|Crime|Horror|Thriller  \n",
       "295                  Comedy|Crime|Horror  \n",
       "317                        Comedy|Horror  "
      ]
     },
     "execution_count": 107,
     "metadata": {},
     "output_type": "execute_result"
    }
   ],
   "source": [
    "table_list"
   ]
  },
  {
   "cell_type": "code",
   "execution_count": 68,
   "metadata": {},
   "outputs": [],
   "source": [
    "df = table_list\n",
    "gt = 'Horror|Comedy'"
   ]
  },
  {
   "cell_type": "code",
   "execution_count": 69,
   "metadata": {},
   "outputs": [
    {
     "data": {
      "text/html": [
       "<div>\n",
       "<style scoped>\n",
       "    .dataframe tbody tr th:only-of-type {\n",
       "        vertical-align: middle;\n",
       "    }\n",
       "\n",
       "    .dataframe tbody tr th {\n",
       "        vertical-align: top;\n",
       "    }\n",
       "\n",
       "    .dataframe thead th {\n",
       "        text-align: right;\n",
       "    }\n",
       "</style>\n",
       "<table border=\"1\" class=\"dataframe\">\n",
       "  <thead>\n",
       "    <tr style=\"text-align: right;\">\n",
       "      <th></th>\n",
       "      <th>movieid</th>\n",
       "      <th>pred_rating</th>\n",
       "      <th>title</th>\n",
       "      <th>genres</th>\n",
       "    </tr>\n",
       "  </thead>\n",
       "  <tbody>\n",
       "    <tr>\n",
       "      <th>0</th>\n",
       "      <td>742</td>\n",
       "      <td>3</td>\n",
       "      <td>Thinner (1996)</td>\n",
       "      <td>Horror|Thriller</td>\n",
       "    </tr>\n",
       "    <tr>\n",
       "      <th>1</th>\n",
       "      <td>735</td>\n",
       "      <td>3</td>\n",
       "      <td>Cemetery Man (Dellamorte Dellamore) (1994)</td>\n",
       "      <td>Comedy|Horror</td>\n",
       "    </tr>\n",
       "  </tbody>\n",
       "</table>\n",
       "</div>"
      ],
      "text/plain": [
       "  movieid pred_rating                                       title  \\\n",
       "0     742           3                              Thinner (1996)   \n",
       "1     735           3  Cemetery Man (Dellamorte Dellamore) (1994)   \n",
       "\n",
       "            genres  \n",
       "0  Horror|Thriller  \n",
       "1    Comedy|Horror  "
      ]
     },
     "execution_count": 69,
     "metadata": {},
     "output_type": "execute_result"
    }
   ],
   "source": [
    "table_list[table_list['genres'].str.contains(gt)].head(2)"
   ]
  },
  {
   "cell_type": "code",
   "execution_count": 70,
   "metadata": {},
   "outputs": [
    {
     "data": {
      "text/html": [
       "<div>\n",
       "<style scoped>\n",
       "    .dataframe tbody tr th:only-of-type {\n",
       "        vertical-align: middle;\n",
       "    }\n",
       "\n",
       "    .dataframe tbody tr th {\n",
       "        vertical-align: top;\n",
       "    }\n",
       "\n",
       "    .dataframe thead th {\n",
       "        text-align: right;\n",
       "    }\n",
       "</style>\n",
       "<table border=\"1\" class=\"dataframe\">\n",
       "  <thead>\n",
       "    <tr style=\"text-align: right;\">\n",
       "      <th></th>\n",
       "      <th>movieid</th>\n",
       "      <th>pred_rating</th>\n",
       "      <th>title</th>\n",
       "      <th>genres</th>\n",
       "    </tr>\n",
       "  </thead>\n",
       "  <tbody>\n",
       "    <tr>\n",
       "      <th>1</th>\n",
       "      <td>735</td>\n",
       "      <td>3</td>\n",
       "      <td>Cemetery Man (Dellamorte Dellamore) (1994)</td>\n",
       "      <td>Comedy|Horror</td>\n",
       "    </tr>\n",
       "    <tr>\n",
       "      <th>3</th>\n",
       "      <td>799</td>\n",
       "      <td>3</td>\n",
       "      <td>Frighteners, The (1996)</td>\n",
       "      <td>Comedy|Horror</td>\n",
       "    </tr>\n",
       "    <tr>\n",
       "      <th>20</th>\n",
       "      <td>12</td>\n",
       "      <td>3</td>\n",
       "      <td>Dracula: Dead and Loving It (1995)</td>\n",
       "      <td>Comedy|Horror</td>\n",
       "    </tr>\n",
       "    <tr>\n",
       "      <th>21</th>\n",
       "      <td>70</td>\n",
       "      <td>3</td>\n",
       "      <td>From Dusk Till Dawn (1996)</td>\n",
       "      <td>Action|Comedy|Crime|Horror|Thriller</td>\n",
       "    </tr>\n",
       "    <tr>\n",
       "      <th>25</th>\n",
       "      <td>532</td>\n",
       "      <td>3</td>\n",
       "      <td>Serial Mom (1994)</td>\n",
       "      <td>Comedy|Crime|Horror</td>\n",
       "    </tr>\n",
       "    <tr>\n",
       "      <th>28</th>\n",
       "      <td>330</td>\n",
       "      <td>3</td>\n",
       "      <td>Tales from the Hood (1995)</td>\n",
       "      <td>Comedy|Horror</td>\n",
       "    </tr>\n",
       "    <tr>\n",
       "      <th>38</th>\n",
       "      <td>735</td>\n",
       "      <td>3</td>\n",
       "      <td>Cemetery Man (Dellamorte Dellamore) (1994)</td>\n",
       "      <td>Comedy|Horror</td>\n",
       "    </tr>\n",
       "    <tr>\n",
       "      <th>65</th>\n",
       "      <td>799</td>\n",
       "      <td>3</td>\n",
       "      <td>Frighteners, The (1996)</td>\n",
       "      <td>Comedy|Horror</td>\n",
       "    </tr>\n",
       "    <tr>\n",
       "      <th>235</th>\n",
       "      <td>12</td>\n",
       "      <td>3</td>\n",
       "      <td>Dracula: Dead and Loving It (1995)</td>\n",
       "      <td>Comedy|Horror</td>\n",
       "    </tr>\n",
       "    <tr>\n",
       "      <th>239</th>\n",
       "      <td>70</td>\n",
       "      <td>3</td>\n",
       "      <td>From Dusk Till Dawn (1996)</td>\n",
       "      <td>Action|Comedy|Crime|Horror|Thriller</td>\n",
       "    </tr>\n",
       "    <tr>\n",
       "      <th>295</th>\n",
       "      <td>532</td>\n",
       "      <td>3</td>\n",
       "      <td>Serial Mom (1994)</td>\n",
       "      <td>Comedy|Crime|Horror</td>\n",
       "    </tr>\n",
       "    <tr>\n",
       "      <th>317</th>\n",
       "      <td>330</td>\n",
       "      <td>3</td>\n",
       "      <td>Tales from the Hood (1995)</td>\n",
       "      <td>Comedy|Horror</td>\n",
       "    </tr>\n",
       "  </tbody>\n",
       "</table>\n",
       "</div>"
      ],
      "text/plain": [
       "    movieid pred_rating                                       title  \\\n",
       "1       735           3  Cemetery Man (Dellamorte Dellamore) (1994)   \n",
       "3       799           3                     Frighteners, The (1996)   \n",
       "20       12           3          Dracula: Dead and Loving It (1995)   \n",
       "21       70           3                  From Dusk Till Dawn (1996)   \n",
       "25      532           3                           Serial Mom (1994)   \n",
       "28      330           3                  Tales from the Hood (1995)   \n",
       "38      735           3  Cemetery Man (Dellamorte Dellamore) (1994)   \n",
       "65      799           3                     Frighteners, The (1996)   \n",
       "235      12           3          Dracula: Dead and Loving It (1995)   \n",
       "239      70           3                  From Dusk Till Dawn (1996)   \n",
       "295     532           3                           Serial Mom (1994)   \n",
       "317     330           3                  Tales from the Hood (1995)   \n",
       "\n",
       "                                  genres  \n",
       "1                          Comedy|Horror  \n",
       "3                          Comedy|Horror  \n",
       "20                         Comedy|Horror  \n",
       "21   Action|Comedy|Crime|Horror|Thriller  \n",
       "25                   Comedy|Crime|Horror  \n",
       "28                         Comedy|Horror  \n",
       "38                         Comedy|Horror  \n",
       "65                         Comedy|Horror  \n",
       "235                        Comedy|Horror  \n",
       "239  Action|Comedy|Crime|Horror|Thriller  \n",
       "295                  Comedy|Crime|Horror  \n",
       "317                        Comedy|Horror  "
      ]
     },
     "execution_count": 70,
     "metadata": {},
     "output_type": "execute_result"
    }
   ],
   "source": [
    "df[(df['genres'].str.contains('Horror')) & (df['genres'].str.contains('Comedy'))]"
   ]
  },
  {
   "cell_type": "code",
   "execution_count": 92,
   "metadata": {},
   "outputs": [
    {
     "data": {
      "text/plain": [
       "'(?=.*Horror)(?=.*Comedy)'"
      ]
     },
     "execution_count": 92,
     "metadata": {},
     "output_type": "execute_result"
    }
   ],
   "source": [
    "s = ''\n",
    "for i in items:\n",
    "    str_ = f'(?=.*{i})'\n",
    "    s += str_\n",
    "s"
   ]
  },
  {
   "cell_type": "code",
   "execution_count": 78,
   "metadata": {},
   "outputs": [
    {
     "data": {
      "text/plain": [
       "'^(?=.*Horror)(?=.*Comedy)'"
      ]
     },
     "execution_count": 78,
     "metadata": {},
     "output_type": "execute_result"
    }
   ],
   "source": [
    "base = r'^{}'\n",
    "expr = '(?=.*{})'\n",
    "words = ['Horror','Comedy']  # example\n",
    "base.format(''.join(expr.format(w) for w in words))"
   ]
  },
  {
   "cell_type": "code",
   "execution_count": 101,
   "metadata": {},
   "outputs": [
    {
     "data": {
      "text/html": [
       "<div>\n",
       "<style scoped>\n",
       "    .dataframe tbody tr th:only-of-type {\n",
       "        vertical-align: middle;\n",
       "    }\n",
       "\n",
       "    .dataframe tbody tr th {\n",
       "        vertical-align: top;\n",
       "    }\n",
       "\n",
       "    .dataframe thead th {\n",
       "        text-align: right;\n",
       "    }\n",
       "</style>\n",
       "<table border=\"1\" class=\"dataframe\">\n",
       "  <thead>\n",
       "    <tr style=\"text-align: right;\">\n",
       "      <th></th>\n",
       "      <th>movieid</th>\n",
       "      <th>pred_rating</th>\n",
       "      <th>title</th>\n",
       "      <th>genres</th>\n",
       "    </tr>\n",
       "  </thead>\n",
       "  <tbody>\n",
       "    <tr>\n",
       "      <th>1</th>\n",
       "      <td>735</td>\n",
       "      <td>3</td>\n",
       "      <td>Cemetery Man (Dellamorte Dellamore) (1994)</td>\n",
       "      <td>Comedy|Horror</td>\n",
       "    </tr>\n",
       "    <tr>\n",
       "      <th>3</th>\n",
       "      <td>799</td>\n",
       "      <td>3</td>\n",
       "      <td>Frighteners, The (1996)</td>\n",
       "      <td>Comedy|Horror</td>\n",
       "    </tr>\n",
       "    <tr>\n",
       "      <th>20</th>\n",
       "      <td>12</td>\n",
       "      <td>3</td>\n",
       "      <td>Dracula: Dead and Loving It (1995)</td>\n",
       "      <td>Comedy|Horror</td>\n",
       "    </tr>\n",
       "    <tr>\n",
       "      <th>21</th>\n",
       "      <td>70</td>\n",
       "      <td>3</td>\n",
       "      <td>From Dusk Till Dawn (1996)</td>\n",
       "      <td>Action|Comedy|Crime|Horror|Thriller</td>\n",
       "    </tr>\n",
       "    <tr>\n",
       "      <th>25</th>\n",
       "      <td>532</td>\n",
       "      <td>3</td>\n",
       "      <td>Serial Mom (1994)</td>\n",
       "      <td>Comedy|Crime|Horror</td>\n",
       "    </tr>\n",
       "    <tr>\n",
       "      <th>28</th>\n",
       "      <td>330</td>\n",
       "      <td>3</td>\n",
       "      <td>Tales from the Hood (1995)</td>\n",
       "      <td>Comedy|Horror</td>\n",
       "    </tr>\n",
       "    <tr>\n",
       "      <th>38</th>\n",
       "      <td>735</td>\n",
       "      <td>3</td>\n",
       "      <td>Cemetery Man (Dellamorte Dellamore) (1994)</td>\n",
       "      <td>Comedy|Horror</td>\n",
       "    </tr>\n",
       "    <tr>\n",
       "      <th>65</th>\n",
       "      <td>799</td>\n",
       "      <td>3</td>\n",
       "      <td>Frighteners, The (1996)</td>\n",
       "      <td>Comedy|Horror</td>\n",
       "    </tr>\n",
       "    <tr>\n",
       "      <th>235</th>\n",
       "      <td>12</td>\n",
       "      <td>3</td>\n",
       "      <td>Dracula: Dead and Loving It (1995)</td>\n",
       "      <td>Comedy|Horror</td>\n",
       "    </tr>\n",
       "    <tr>\n",
       "      <th>239</th>\n",
       "      <td>70</td>\n",
       "      <td>3</td>\n",
       "      <td>From Dusk Till Dawn (1996)</td>\n",
       "      <td>Action|Comedy|Crime|Horror|Thriller</td>\n",
       "    </tr>\n",
       "    <tr>\n",
       "      <th>295</th>\n",
       "      <td>532</td>\n",
       "      <td>3</td>\n",
       "      <td>Serial Mom (1994)</td>\n",
       "      <td>Comedy|Crime|Horror</td>\n",
       "    </tr>\n",
       "    <tr>\n",
       "      <th>317</th>\n",
       "      <td>330</td>\n",
       "      <td>3</td>\n",
       "      <td>Tales from the Hood (1995)</td>\n",
       "      <td>Comedy|Horror</td>\n",
       "    </tr>\n",
       "  </tbody>\n",
       "</table>\n",
       "</div>"
      ],
      "text/plain": [
       "    movieid pred_rating                                       title  \\\n",
       "1       735           3  Cemetery Man (Dellamorte Dellamore) (1994)   \n",
       "3       799           3                     Frighteners, The (1996)   \n",
       "20       12           3          Dracula: Dead and Loving It (1995)   \n",
       "21       70           3                  From Dusk Till Dawn (1996)   \n",
       "25      532           3                           Serial Mom (1994)   \n",
       "28      330           3                  Tales from the Hood (1995)   \n",
       "38      735           3  Cemetery Man (Dellamorte Dellamore) (1994)   \n",
       "65      799           3                     Frighteners, The (1996)   \n",
       "235      12           3          Dracula: Dead and Loving It (1995)   \n",
       "239      70           3                  From Dusk Till Dawn (1996)   \n",
       "295     532           3                           Serial Mom (1994)   \n",
       "317     330           3                  Tales from the Hood (1995)   \n",
       "\n",
       "                                  genres  \n",
       "1                          Comedy|Horror  \n",
       "3                          Comedy|Horror  \n",
       "20                         Comedy|Horror  \n",
       "21   Action|Comedy|Crime|Horror|Thriller  \n",
       "25                   Comedy|Crime|Horror  \n",
       "28                         Comedy|Horror  \n",
       "38                         Comedy|Horror  \n",
       "65                         Comedy|Horror  \n",
       "235                        Comedy|Horror  \n",
       "239  Action|Comedy|Crime|Horror|Thriller  \n",
       "295                  Comedy|Crime|Horror  \n",
       "317                        Comedy|Horror  "
      ]
     },
     "execution_count": 101,
     "metadata": {},
     "output_type": "execute_result"
    }
   ],
   "source": [
    "df[df['genres'].str.contains(fr'^\\b{s}\\b',regex=True)]"
   ]
  },
  {
   "cell_type": "code",
   "execution_count": 87,
   "metadata": {},
   "outputs": [
    {
     "data": {
      "text/html": [
       "<div>\n",
       "<style scoped>\n",
       "    .dataframe tbody tr th:only-of-type {\n",
       "        vertical-align: middle;\n",
       "    }\n",
       "\n",
       "    .dataframe tbody tr th {\n",
       "        vertical-align: top;\n",
       "    }\n",
       "\n",
       "    .dataframe thead th {\n",
       "        text-align: right;\n",
       "    }\n",
       "</style>\n",
       "<table border=\"1\" class=\"dataframe\">\n",
       "  <thead>\n",
       "    <tr style=\"text-align: right;\">\n",
       "      <th></th>\n",
       "      <th>movieid</th>\n",
       "      <th>pred_rating</th>\n",
       "      <th>title</th>\n",
       "      <th>genres</th>\n",
       "    </tr>\n",
       "  </thead>\n",
       "  <tbody>\n",
       "    <tr>\n",
       "      <th>34</th>\n",
       "      <td>1</td>\n",
       "      <td>3</td>\n",
       "      <td>Toy Story (1995)</td>\n",
       "      <td>Animation|Children's|Comedy</td>\n",
       "    </tr>\n",
       "    <tr>\n",
       "      <th>55</th>\n",
       "      <td>810</td>\n",
       "      <td>3</td>\n",
       "      <td>Kazaam (1996)</td>\n",
       "      <td>Children's|Comedy|Fantasy</td>\n",
       "    </tr>\n",
       "    <tr>\n",
       "      <th>63</th>\n",
       "      <td>837</td>\n",
       "      <td>3</td>\n",
       "      <td>Matilda (1996)</td>\n",
       "      <td>Children's|Comedy</td>\n",
       "    </tr>\n",
       "    <tr>\n",
       "      <th>64</th>\n",
       "      <td>801</td>\n",
       "      <td>3</td>\n",
       "      <td>Harriet the Spy (1996)</td>\n",
       "      <td>Children's|Comedy</td>\n",
       "    </tr>\n",
       "    <tr>\n",
       "      <th>76</th>\n",
       "      <td>586</td>\n",
       "      <td>3</td>\n",
       "      <td>Home Alone (1990)</td>\n",
       "      <td>Children's|Comedy</td>\n",
       "    </tr>\n",
       "    <tr>\n",
       "      <th>78</th>\n",
       "      <td>588</td>\n",
       "      <td>3</td>\n",
       "      <td>Aladdin (1992)</td>\n",
       "      <td>Animation|Children's|Comedy|Musical</td>\n",
       "    </tr>\n",
       "    <tr>\n",
       "      <th>83</th>\n",
       "      <td>575</td>\n",
       "      <td>3</td>\n",
       "      <td>Little Rascals, The (1994)</td>\n",
       "      <td>Children's|Comedy</td>\n",
       "    </tr>\n",
       "    <tr>\n",
       "      <th>86</th>\n",
       "      <td>551</td>\n",
       "      <td>3</td>\n",
       "      <td>Nightmare Before Christmas, The (1993)</td>\n",
       "      <td>Children's|Comedy|Musical</td>\n",
       "    </tr>\n",
       "    <tr>\n",
       "      <th>93</th>\n",
       "      <td>569</td>\n",
       "      <td>3</td>\n",
       "      <td>Little Big League (1994)</td>\n",
       "      <td>Children's|Comedy</td>\n",
       "    </tr>\n",
       "    <tr>\n",
       "      <th>103</th>\n",
       "      <td>673</td>\n",
       "      <td>3</td>\n",
       "      <td>Space Jam (1996)</td>\n",
       "      <td>Adventure|Animation|Children's|Comedy|Fantasy</td>\n",
       "    </tr>\n",
       "    <tr>\n",
       "      <th>118</th>\n",
       "      <td>1014</td>\n",
       "      <td>3</td>\n",
       "      <td>Pollyanna (1960)</td>\n",
       "      <td>Children's|Comedy|Drama</td>\n",
       "    </tr>\n",
       "    <tr>\n",
       "      <th>119</th>\n",
       "      <td>1016</td>\n",
       "      <td>3</td>\n",
       "      <td>Shaggy Dog, The (1959)</td>\n",
       "      <td>Children's|Comedy</td>\n",
       "    </tr>\n",
       "    <tr>\n",
       "      <th>120</th>\n",
       "      <td>1018</td>\n",
       "      <td>3</td>\n",
       "      <td>That Darn Cat! (1965)</td>\n",
       "      <td>Children's|Comedy|Mystery</td>\n",
       "    </tr>\n",
       "    <tr>\n",
       "      <th>122</th>\n",
       "      <td>1021</td>\n",
       "      <td>3</td>\n",
       "      <td>Angels in the Outfield (1994)</td>\n",
       "      <td>Children's|Comedy</td>\n",
       "    </tr>\n",
       "    <tr>\n",
       "      <th>124</th>\n",
       "      <td>1028</td>\n",
       "      <td>3</td>\n",
       "      <td>Mary Poppins (1964)</td>\n",
       "      <td>Children's|Comedy|Musical</td>\n",
       "    </tr>\n",
       "    <tr>\n",
       "      <th>125</th>\n",
       "      <td>1011</td>\n",
       "      <td>3</td>\n",
       "      <td>Herbie Rides Again (1974)</td>\n",
       "      <td>Adventure|Children's|Comedy</td>\n",
       "    </tr>\n",
       "    <tr>\n",
       "      <th>126</th>\n",
       "      <td>1010</td>\n",
       "      <td>3</td>\n",
       "      <td>Love Bug, The (1969)</td>\n",
       "      <td>Children's|Comedy</td>\n",
       "    </tr>\n",
       "    <tr>\n",
       "      <th>129</th>\n",
       "      <td>1005</td>\n",
       "      <td>3</td>\n",
       "      <td>D3: The Mighty Ducks (1996)</td>\n",
       "      <td>Children's|Comedy</td>\n",
       "    </tr>\n",
       "    <tr>\n",
       "      <th>130</th>\n",
       "      <td>1007</td>\n",
       "      <td>3</td>\n",
       "      <td>Apple Dumpling Gang, The (1975)</td>\n",
       "      <td>Children's|Comedy|Western</td>\n",
       "    </tr>\n",
       "    <tr>\n",
       "      <th>141</th>\n",
       "      <td>1064</td>\n",
       "      <td>3</td>\n",
       "      <td>Aladdin and the King of Thieves (1996)</td>\n",
       "      <td>Animation|Children's|Comedy</td>\n",
       "    </tr>\n",
       "    <tr>\n",
       "      <th>144</th>\n",
       "      <td>1073</td>\n",
       "      <td>3</td>\n",
       "      <td>Willy Wonka and the Chocolate Factory (1971)</td>\n",
       "      <td>Adventure|Children's|Comedy|Fantasy</td>\n",
       "    </tr>\n",
       "    <tr>\n",
       "      <th>149</th>\n",
       "      <td>881</td>\n",
       "      <td>3</td>\n",
       "      <td>First Kid (1996)</td>\n",
       "      <td>Children's|Comedy</td>\n",
       "    </tr>\n",
       "    <tr>\n",
       "      <th>200</th>\n",
       "      <td>239</td>\n",
       "      <td>3</td>\n",
       "      <td>Goofy Movie, A (1995)</td>\n",
       "      <td>Animation|Children's|Comedy|Romance</td>\n",
       "    </tr>\n",
       "    <tr>\n",
       "      <th>203</th>\n",
       "      <td>250</td>\n",
       "      <td>3</td>\n",
       "      <td>Heavyweights (1994)</td>\n",
       "      <td>Children's|Comedy</td>\n",
       "    </tr>\n",
       "    <tr>\n",
       "      <th>207</th>\n",
       "      <td>258</td>\n",
       "      <td>3</td>\n",
       "      <td>Kid in King Arthur's Court, A (1995)</td>\n",
       "      <td>Adventure|Children's|Comedy|Fantasy|Romance</td>\n",
       "    </tr>\n",
       "    <tr>\n",
       "      <th>225</th>\n",
       "      <td>54</td>\n",
       "      <td>3</td>\n",
       "      <td>Big Green, The (1995)</td>\n",
       "      <td>Children's|Comedy</td>\n",
       "    </tr>\n",
       "    <tr>\n",
       "      <th>230</th>\n",
       "      <td>34</td>\n",
       "      <td>3</td>\n",
       "      <td>Babe (1995)</td>\n",
       "      <td>Children's|Comedy|Drama</td>\n",
       "    </tr>\n",
       "    <tr>\n",
       "      <th>241</th>\n",
       "      <td>107</td>\n",
       "      <td>3</td>\n",
       "      <td>Muppet Treasure Island (1996)</td>\n",
       "      <td>Adventure|Children's|Comedy|Musical</td>\n",
       "    </tr>\n",
       "    <tr>\n",
       "      <th>254</th>\n",
       "      <td>87</td>\n",
       "      <td>3</td>\n",
       "      <td>Dunston Checks In (1996)</td>\n",
       "      <td>Children's|Comedy</td>\n",
       "    </tr>\n",
       "    <tr>\n",
       "      <th>312</th>\n",
       "      <td>317</td>\n",
       "      <td>3</td>\n",
       "      <td>Santa Clause, The (1994)</td>\n",
       "      <td>Children's|Comedy|Fantasy</td>\n",
       "    </tr>\n",
       "    <tr>\n",
       "      <th>332</th>\n",
       "      <td>374</td>\n",
       "      <td>3</td>\n",
       "      <td>Richie Rich (1994)</td>\n",
       "      <td>Children's|Comedy</td>\n",
       "    </tr>\n",
       "    <tr>\n",
       "      <th>346</th>\n",
       "      <td>355</td>\n",
       "      <td>3</td>\n",
       "      <td>Flintstones, The (1994)</td>\n",
       "      <td>Children's|Comedy</td>\n",
       "    </tr>\n",
       "  </tbody>\n",
       "</table>\n",
       "</div>"
      ],
      "text/plain": [
       "    movieid pred_rating                                         title  \\\n",
       "34        1           3                              Toy Story (1995)   \n",
       "55      810           3                                 Kazaam (1996)   \n",
       "63      837           3                                Matilda (1996)   \n",
       "64      801           3                        Harriet the Spy (1996)   \n",
       "76      586           3                             Home Alone (1990)   \n",
       "78      588           3                                Aladdin (1992)   \n",
       "83      575           3                    Little Rascals, The (1994)   \n",
       "86      551           3        Nightmare Before Christmas, The (1993)   \n",
       "93      569           3                      Little Big League (1994)   \n",
       "103     673           3                              Space Jam (1996)   \n",
       "118    1014           3                              Pollyanna (1960)   \n",
       "119    1016           3                        Shaggy Dog, The (1959)   \n",
       "120    1018           3                         That Darn Cat! (1965)   \n",
       "122    1021           3                 Angels in the Outfield (1994)   \n",
       "124    1028           3                           Mary Poppins (1964)   \n",
       "125    1011           3                     Herbie Rides Again (1974)   \n",
       "126    1010           3                          Love Bug, The (1969)   \n",
       "129    1005           3                   D3: The Mighty Ducks (1996)   \n",
       "130    1007           3               Apple Dumpling Gang, The (1975)   \n",
       "141    1064           3        Aladdin and the King of Thieves (1996)   \n",
       "144    1073           3  Willy Wonka and the Chocolate Factory (1971)   \n",
       "149     881           3                              First Kid (1996)   \n",
       "200     239           3                         Goofy Movie, A (1995)   \n",
       "203     250           3                           Heavyweights (1994)   \n",
       "207     258           3          Kid in King Arthur's Court, A (1995)   \n",
       "225      54           3                         Big Green, The (1995)   \n",
       "230      34           3                                   Babe (1995)   \n",
       "241     107           3                 Muppet Treasure Island (1996)   \n",
       "254      87           3                      Dunston Checks In (1996)   \n",
       "312     317           3                      Santa Clause, The (1994)   \n",
       "332     374           3                            Richie Rich (1994)   \n",
       "346     355           3                       Flintstones, The (1994)   \n",
       "\n",
       "                                            genres  \n",
       "34                     Animation|Children's|Comedy  \n",
       "55                       Children's|Comedy|Fantasy  \n",
       "63                               Children's|Comedy  \n",
       "64                               Children's|Comedy  \n",
       "76                               Children's|Comedy  \n",
       "78             Animation|Children's|Comedy|Musical  \n",
       "83                               Children's|Comedy  \n",
       "86                       Children's|Comedy|Musical  \n",
       "93                               Children's|Comedy  \n",
       "103  Adventure|Animation|Children's|Comedy|Fantasy  \n",
       "118                        Children's|Comedy|Drama  \n",
       "119                              Children's|Comedy  \n",
       "120                      Children's|Comedy|Mystery  \n",
       "122                              Children's|Comedy  \n",
       "124                      Children's|Comedy|Musical  \n",
       "125                    Adventure|Children's|Comedy  \n",
       "126                              Children's|Comedy  \n",
       "129                              Children's|Comedy  \n",
       "130                      Children's|Comedy|Western  \n",
       "141                    Animation|Children's|Comedy  \n",
       "144            Adventure|Children's|Comedy|Fantasy  \n",
       "149                              Children's|Comedy  \n",
       "200            Animation|Children's|Comedy|Romance  \n",
       "203                              Children's|Comedy  \n",
       "207    Adventure|Children's|Comedy|Fantasy|Romance  \n",
       "225                              Children's|Comedy  \n",
       "230                        Children's|Comedy|Drama  \n",
       "241            Adventure|Children's|Comedy|Musical  \n",
       "254                              Children's|Comedy  \n",
       "312                      Children's|Comedy|Fantasy  \n",
       "332                              Children's|Comedy  \n",
       "346                              Children's|Comedy  "
      ]
     },
     "execution_count": 87,
     "metadata": {},
     "output_type": "execute_result"
    }
   ],
   "source": [
    "df[df['genres'].str.contains(r'\\b(?:{})\\b'.format(words))]"
   ]
  },
  {
   "cell_type": "code",
   "execution_count": null,
   "metadata": {},
   "outputs": [],
   "source": []
  }
 ],
 "metadata": {
  "accelerator": "TPU",
  "colab": {
   "machine_shape": "hm",
   "name": "aies-fp-toddmccullough.ipynb",
   "provenance": []
  },
  "kernelspec": {
   "display_name": "Python 3",
   "language": "python",
   "name": "python3"
  },
  "language_info": {
   "codemirror_mode": {
    "name": "ipython",
    "version": 3
   },
   "file_extension": ".py",
   "mimetype": "text/x-python",
   "name": "python",
   "nbconvert_exporter": "python",
   "pygments_lexer": "ipython3",
   "version": "3.7.6"
  }
 },
 "nbformat": 4,
 "nbformat_minor": 1
}

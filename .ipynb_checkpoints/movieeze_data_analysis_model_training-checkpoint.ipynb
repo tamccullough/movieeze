{
 "cells": [
  {
   "cell_type": "markdown",
   "metadata": {
    "colab_type": "text",
    "id": "POoF8p4QcUmr"
   },
   "source": [
    "### MoviEeze - Data Analysis and Model Creation\n",
    "* Todd McCullough [Git](https://github.com/tamccullough)"
   ]
  },
  {
   "cell_type": "code",
   "execution_count": 1,
   "metadata": {
    "colab": {},
    "colab_type": "code",
    "id": "l00RRDJicUmu"
   },
   "outputs": [],
   "source": [
    "import numpy as np\n",
    "import pandas as pd\n",
    "import heapq\n",
    "from math import floor"
   ]
  },
  {
   "cell_type": "markdown",
   "metadata": {
    "colab_type": "text",
    "id": "vFsHbsfIcUm0"
   },
   "source": [
    "##### Import Surprise\n",
    "[Surprise](http://surpriselib.com/) is a Python scikit building and analyzing recommender systems that deal with explicit rating data."
   ]
  },
  {
   "cell_type": "code",
   "execution_count": 2,
   "metadata": {
    "colab": {
     "base_uri": "https://localhost:8080/",
     "height": 285
    },
    "colab_type": "code",
    "id": "C4ZnQsIPcUm0",
    "outputId": "c3933209-efd5-4ea2-af1a-d80f1bbdaec2"
   },
   "outputs": [],
   "source": [
    "from surprise import Reader, Dataset\n",
    "from surprise import KNNWithMeans\n",
    "from surprise.model_selection import cross_validate"
   ]
  },
  {
   "cell_type": "markdown",
   "metadata": {
    "colab_type": "text",
    "id": "QLCslG6CcUm5"
   },
   "source": [
    "##### Import Data"
   ]
  },
  {
   "cell_type": "code",
   "execution_count": 3,
   "metadata": {},
   "outputs": [],
   "source": [
    "ratings_full = pd.read_csv('/home/todd/Documents/v-envs/ml-25m/ratings.csv')"
   ]
  },
  {
   "cell_type": "code",
   "execution_count": 4,
   "metadata": {},
   "outputs": [
    {
     "data": {
      "text/plain": [
       "(25000095, 4)"
      ]
     },
     "execution_count": 4,
     "metadata": {},
     "output_type": "execute_result"
    }
   ],
   "source": [
    "ratings_full.shape"
   ]
  },
  {
   "cell_type": "code",
   "execution_count": 5,
   "metadata": {},
   "outputs": [
    {
     "data": {
      "text/html": [
       "<div>\n",
       "<style scoped>\n",
       "    .dataframe tbody tr th:only-of-type {\n",
       "        vertical-align: middle;\n",
       "    }\n",
       "\n",
       "    .dataframe tbody tr th {\n",
       "        vertical-align: top;\n",
       "    }\n",
       "\n",
       "    .dataframe thead th {\n",
       "        text-align: right;\n",
       "    }\n",
       "</style>\n",
       "<table border=\"1\" class=\"dataframe\">\n",
       "  <thead>\n",
       "    <tr style=\"text-align: right;\">\n",
       "      <th></th>\n",
       "      <th>userId</th>\n",
       "      <th>movieId</th>\n",
       "      <th>rating</th>\n",
       "      <th>timestamp</th>\n",
       "    </tr>\n",
       "  </thead>\n",
       "  <tbody>\n",
       "    <tr>\n",
       "      <th>25000090</th>\n",
       "      <td>162541</td>\n",
       "      <td>50872</td>\n",
       "      <td>4.5</td>\n",
       "      <td>1240953372</td>\n",
       "    </tr>\n",
       "    <tr>\n",
       "      <th>25000091</th>\n",
       "      <td>162541</td>\n",
       "      <td>55768</td>\n",
       "      <td>2.5</td>\n",
       "      <td>1240951998</td>\n",
       "    </tr>\n",
       "    <tr>\n",
       "      <th>25000092</th>\n",
       "      <td>162541</td>\n",
       "      <td>56176</td>\n",
       "      <td>2.0</td>\n",
       "      <td>1240950697</td>\n",
       "    </tr>\n",
       "    <tr>\n",
       "      <th>25000093</th>\n",
       "      <td>162541</td>\n",
       "      <td>58559</td>\n",
       "      <td>4.0</td>\n",
       "      <td>1240953434</td>\n",
       "    </tr>\n",
       "    <tr>\n",
       "      <th>25000094</th>\n",
       "      <td>162541</td>\n",
       "      <td>63876</td>\n",
       "      <td>5.0</td>\n",
       "      <td>1240952515</td>\n",
       "    </tr>\n",
       "  </tbody>\n",
       "</table>\n",
       "</div>"
      ],
      "text/plain": [
       "          userId  movieId  rating   timestamp\n",
       "25000090  162541    50872     4.5  1240953372\n",
       "25000091  162541    55768     2.5  1240951998\n",
       "25000092  162541    56176     2.0  1240950697\n",
       "25000093  162541    58559     4.0  1240953434\n",
       "25000094  162541    63876     5.0  1240952515"
      ]
     },
     "execution_count": 5,
     "metadata": {},
     "output_type": "execute_result"
    }
   ],
   "source": [
    "ratings_full.tail(5)"
   ]
  },
  {
   "cell_type": "code",
   "execution_count": 6,
   "metadata": {
    "colab": {},
    "colab_type": "code",
    "id": "JXRz62QwcUm9"
   },
   "outputs": [],
   "source": [
    "movies_full = pd.read_csv('/home/todd/Documents/v-envs/ml-25m/movies.csv')\n",
    "tags = pd.read_csv('/home/todd/Documents/v-envs/ml-25m/tags.csv')"
   ]
  },
  {
   "cell_type": "code",
   "execution_count": 7,
   "metadata": {},
   "outputs": [],
   "source": [
    "links_full = pd.read_csv('/home/todd/Documents/v-envs/ml-25m/links.csv')"
   ]
  },
  {
   "cell_type": "markdown",
   "metadata": {},
   "source": [
    "#### Data Analysis\n",
    "dataset by [grouplens](https://grouplens.org/datasets/movielens/)"
   ]
  },
  {
   "cell_type": "code",
   "execution_count": 8,
   "metadata": {
    "colab": {},
    "colab_type": "code",
    "id": "QB89EPQ_cUnC"
   },
   "outputs": [
    {
     "data": {
      "text/html": [
       "<div>\n",
       "<style scoped>\n",
       "    .dataframe tbody tr th:only-of-type {\n",
       "        vertical-align: middle;\n",
       "    }\n",
       "\n",
       "    .dataframe tbody tr th {\n",
       "        vertical-align: top;\n",
       "    }\n",
       "\n",
       "    .dataframe thead th {\n",
       "        text-align: right;\n",
       "    }\n",
       "</style>\n",
       "<table border=\"1\" class=\"dataframe\">\n",
       "  <thead>\n",
       "    <tr style=\"text-align: right;\">\n",
       "      <th></th>\n",
       "      <th>movieId</th>\n",
       "      <th>title</th>\n",
       "      <th>genres</th>\n",
       "      <th>date</th>\n",
       "    </tr>\n",
       "  </thead>\n",
       "  <tbody>\n",
       "    <tr>\n",
       "      <th>0</th>\n",
       "      <td>1.0</td>\n",
       "      <td>Toy Story (1995)</td>\n",
       "      <td>Adventure|Animation|Children|Comedy|Fantasy</td>\n",
       "      <td>1995</td>\n",
       "    </tr>\n",
       "    <tr>\n",
       "      <th>1</th>\n",
       "      <td>2.0</td>\n",
       "      <td>Jumanji (1995)</td>\n",
       "      <td>Adventure|Children|Fantasy</td>\n",
       "      <td>1995</td>\n",
       "    </tr>\n",
       "  </tbody>\n",
       "</table>\n",
       "</div>"
      ],
      "text/plain": [
       "   movieId             title                                       genres  \\\n",
       "0      1.0  Toy Story (1995)  Adventure|Animation|Children|Comedy|Fantasy   \n",
       "1      2.0    Jumanji (1995)                   Adventure|Children|Fantasy   \n",
       "\n",
       "   date  \n",
       "0  1995  \n",
       "1  1995  "
      ]
     },
     "execution_count": 8,
     "metadata": {},
     "output_type": "execute_result"
    }
   ],
   "source": [
    "movies_full.head(2)"
   ]
  },
  {
   "cell_type": "code",
   "execution_count": 9,
   "metadata": {},
   "outputs": [
    {
     "data": {
      "text/plain": [
       "(62425, 4)"
      ]
     },
     "execution_count": 9,
     "metadata": {},
     "output_type": "execute_result"
    }
   ],
   "source": [
    "movies_full.shape"
   ]
  },
  {
   "cell_type": "code",
   "execution_count": 10,
   "metadata": {},
   "outputs": [
    {
     "data": {
      "text/html": [
       "<div>\n",
       "<style scoped>\n",
       "    .dataframe tbody tr th:only-of-type {\n",
       "        vertical-align: middle;\n",
       "    }\n",
       "\n",
       "    .dataframe tbody tr th {\n",
       "        vertical-align: top;\n",
       "    }\n",
       "\n",
       "    .dataframe thead th {\n",
       "        text-align: right;\n",
       "    }\n",
       "</style>\n",
       "<table border=\"1\" class=\"dataframe\">\n",
       "  <thead>\n",
       "    <tr style=\"text-align: right;\">\n",
       "      <th></th>\n",
       "      <th>userId</th>\n",
       "      <th>movieId</th>\n",
       "      <th>tag</th>\n",
       "      <th>timestamp</th>\n",
       "    </tr>\n",
       "  </thead>\n",
       "  <tbody>\n",
       "    <tr>\n",
       "      <th>0</th>\n",
       "      <td>3</td>\n",
       "      <td>260</td>\n",
       "      <td>classic</td>\n",
       "      <td>1439472355</td>\n",
       "    </tr>\n",
       "    <tr>\n",
       "      <th>1</th>\n",
       "      <td>3</td>\n",
       "      <td>260</td>\n",
       "      <td>sci-fi</td>\n",
       "      <td>1439472256</td>\n",
       "    </tr>\n",
       "    <tr>\n",
       "      <th>2</th>\n",
       "      <td>4</td>\n",
       "      <td>1732</td>\n",
       "      <td>dark comedy</td>\n",
       "      <td>1573943598</td>\n",
       "    </tr>\n",
       "    <tr>\n",
       "      <th>3</th>\n",
       "      <td>4</td>\n",
       "      <td>1732</td>\n",
       "      <td>great dialogue</td>\n",
       "      <td>1573943604</td>\n",
       "    </tr>\n",
       "    <tr>\n",
       "      <th>4</th>\n",
       "      <td>4</td>\n",
       "      <td>7569</td>\n",
       "      <td>so bad it's good</td>\n",
       "      <td>1573943455</td>\n",
       "    </tr>\n",
       "  </tbody>\n",
       "</table>\n",
       "</div>"
      ],
      "text/plain": [
       "   userId  movieId               tag   timestamp\n",
       "0       3      260           classic  1439472355\n",
       "1       3      260            sci-fi  1439472256\n",
       "2       4     1732       dark comedy  1573943598\n",
       "3       4     1732    great dialogue  1573943604\n",
       "4       4     7569  so bad it's good  1573943455"
      ]
     },
     "execution_count": 10,
     "metadata": {},
     "output_type": "execute_result"
    }
   ],
   "source": [
    "tags.head(5)"
   ]
  },
  {
   "cell_type": "code",
   "execution_count": 11,
   "metadata": {},
   "outputs": [
    {
     "data": {
      "text/plain": [
       "(1093360, 4)"
      ]
     },
     "execution_count": 11,
     "metadata": {},
     "output_type": "execute_result"
    }
   ],
   "source": [
    "tags.shape"
   ]
  },
  {
   "cell_type": "code",
   "execution_count": 12,
   "metadata": {},
   "outputs": [
    {
     "data": {
      "text/html": [
       "<div>\n",
       "<style scoped>\n",
       "    .dataframe tbody tr th:only-of-type {\n",
       "        vertical-align: middle;\n",
       "    }\n",
       "\n",
       "    .dataframe tbody tr th {\n",
       "        vertical-align: top;\n",
       "    }\n",
       "\n",
       "    .dataframe thead th {\n",
       "        text-align: right;\n",
       "    }\n",
       "</style>\n",
       "<table border=\"1\" class=\"dataframe\">\n",
       "  <thead>\n",
       "    <tr style=\"text-align: right;\">\n",
       "      <th></th>\n",
       "      <th>movieId</th>\n",
       "      <th>imdbId</th>\n",
       "      <th>tmdbId</th>\n",
       "    </tr>\n",
       "  </thead>\n",
       "  <tbody>\n",
       "    <tr>\n",
       "      <th>0</th>\n",
       "      <td>1</td>\n",
       "      <td>114709</td>\n",
       "      <td>862.0</td>\n",
       "    </tr>\n",
       "    <tr>\n",
       "      <th>1</th>\n",
       "      <td>2</td>\n",
       "      <td>113497</td>\n",
       "      <td>8844.0</td>\n",
       "    </tr>\n",
       "  </tbody>\n",
       "</table>\n",
       "</div>"
      ],
      "text/plain": [
       "   movieId  imdbId  tmdbId\n",
       "0        1  114709   862.0\n",
       "1        2  113497  8844.0"
      ]
     },
     "execution_count": 12,
     "metadata": {},
     "output_type": "execute_result"
    }
   ],
   "source": [
    "links_full.head(2)"
   ]
  },
  {
   "cell_type": "code",
   "execution_count": 13,
   "metadata": {},
   "outputs": [
    {
     "data": {
      "text/plain": [
       "(62423, 3)"
      ]
     },
     "execution_count": 13,
     "metadata": {},
     "output_type": "execute_result"
    }
   ],
   "source": [
    "links_full.shape"
   ]
  },
  {
   "cell_type": "code",
   "execution_count": 14,
   "metadata": {},
   "outputs": [
    {
     "data": {
      "text/plain": [
       "(20489, 4)"
      ]
     },
     "execution_count": 14,
     "metadata": {},
     "output_type": "execute_result"
    }
   ],
   "source": [
    "movies = movies_full[movies_full['date'] >= 2010]\n",
    "movies = movies.reset_index()\n",
    "movies.pop('index')\n",
    "movies.shape"
   ]
  },
  {
   "cell_type": "code",
   "execution_count": 15,
   "metadata": {},
   "outputs": [
    {
     "data": {
      "text/html": [
       "<div>\n",
       "<style scoped>\n",
       "    .dataframe tbody tr th:only-of-type {\n",
       "        vertical-align: middle;\n",
       "    }\n",
       "\n",
       "    .dataframe tbody tr th {\n",
       "        vertical-align: top;\n",
       "    }\n",
       "\n",
       "    .dataframe thead th {\n",
       "        text-align: right;\n",
       "    }\n",
       "</style>\n",
       "<table border=\"1\" class=\"dataframe\">\n",
       "  <thead>\n",
       "    <tr style=\"text-align: right;\">\n",
       "      <th></th>\n",
       "      <th>movieId</th>\n",
       "      <th>title</th>\n",
       "      <th>genres</th>\n",
       "      <th>date</th>\n",
       "    </tr>\n",
       "  </thead>\n",
       "  <tbody>\n",
       "    <tr>\n",
       "      <th>0</th>\n",
       "      <td>73268.0</td>\n",
       "      <td>Daybreakers (2010)</td>\n",
       "      <td>Action|Drama|Horror|Thriller</td>\n",
       "      <td>2010</td>\n",
       "    </tr>\n",
       "    <tr>\n",
       "      <th>1</th>\n",
       "      <td>73319.0</td>\n",
       "      <td>Leap Year (2010)</td>\n",
       "      <td>Comedy|Romance</td>\n",
       "      <td>2010</td>\n",
       "    </tr>\n",
       "    <tr>\n",
       "      <th>2</th>\n",
       "      <td>73321.0</td>\n",
       "      <td>Book of Eli, The (2010)</td>\n",
       "      <td>Action|Adventure|Drama</td>\n",
       "      <td>2010</td>\n",
       "    </tr>\n",
       "    <tr>\n",
       "      <th>3</th>\n",
       "      <td>73744.0</td>\n",
       "      <td>If You Love (Jos rakastat) (2010)</td>\n",
       "      <td>Drama|Musical|Romance</td>\n",
       "      <td>2010</td>\n",
       "    </tr>\n",
       "    <tr>\n",
       "      <th>4</th>\n",
       "      <td>73929.0</td>\n",
       "      <td>Legion (2010)</td>\n",
       "      <td>Action|Fantasy|Horror|Thriller</td>\n",
       "      <td>2010</td>\n",
       "    </tr>\n",
       "  </tbody>\n",
       "</table>\n",
       "</div>"
      ],
      "text/plain": [
       "   movieId                              title                          genres  \\\n",
       "0  73268.0                 Daybreakers (2010)    Action|Drama|Horror|Thriller   \n",
       "1  73319.0                   Leap Year (2010)                  Comedy|Romance   \n",
       "2  73321.0            Book of Eli, The (2010)          Action|Adventure|Drama   \n",
       "3  73744.0  If You Love (Jos rakastat) (2010)           Drama|Musical|Romance   \n",
       "4  73929.0                      Legion (2010)  Action|Fantasy|Horror|Thriller   \n",
       "\n",
       "   date  \n",
       "0  2010  \n",
       "1  2010  \n",
       "2  2010  \n",
       "3  2010  \n",
       "4  2010  "
      ]
     },
     "execution_count": 15,
     "metadata": {},
     "output_type": "execute_result"
    }
   ],
   "source": [
    "movies.head(5)"
   ]
  },
  {
   "cell_type": "code",
   "execution_count": 16,
   "metadata": {},
   "outputs": [
    {
     "data": {
      "text/html": [
       "<div>\n",
       "<style scoped>\n",
       "    .dataframe tbody tr th:only-of-type {\n",
       "        vertical-align: middle;\n",
       "    }\n",
       "\n",
       "    .dataframe tbody tr th {\n",
       "        vertical-align: top;\n",
       "    }\n",
       "\n",
       "    .dataframe thead th {\n",
       "        text-align: right;\n",
       "    }\n",
       "</style>\n",
       "<table border=\"1\" class=\"dataframe\">\n",
       "  <thead>\n",
       "    <tr style=\"text-align: right;\">\n",
       "      <th></th>\n",
       "      <th>movieId</th>\n",
       "      <th>title</th>\n",
       "      <th>genres</th>\n",
       "      <th>date</th>\n",
       "    </tr>\n",
       "  </thead>\n",
       "  <tbody>\n",
       "    <tr>\n",
       "      <th>3179</th>\n",
       "      <td>116046.0</td>\n",
       "      <td>Christmas Oranges (2012)</td>\n",
       "      <td>(no genres listed)</td>\n",
       "      <td>2012</td>\n",
       "    </tr>\n",
       "    <tr>\n",
       "      <th>3183</th>\n",
       "      <td>116126.0</td>\n",
       "      <td>Complicit (2013)</td>\n",
       "      <td>(no genres listed)</td>\n",
       "      <td>2013</td>\n",
       "    </tr>\n",
       "    <tr>\n",
       "      <th>3852</th>\n",
       "      <td>122571.0</td>\n",
       "      <td>The Wrong Woman (2013)</td>\n",
       "      <td>(no genres listed)</td>\n",
       "      <td>2013</td>\n",
       "    </tr>\n",
       "    <tr>\n",
       "      <th>3853</th>\n",
       "      <td>122573.0</td>\n",
       "      <td>Expecting Amish (2014)</td>\n",
       "      <td>(no genres listed)</td>\n",
       "      <td>2014</td>\n",
       "    </tr>\n",
       "    <tr>\n",
       "      <th>3875</th>\n",
       "      <td>122888.0</td>\n",
       "      <td>Ben-hur (2016)</td>\n",
       "      <td>(no genres listed)</td>\n",
       "      <td>2016</td>\n",
       "    </tr>\n",
       "    <tr>\n",
       "      <th>...</th>\n",
       "      <td>...</td>\n",
       "      <td>...</td>\n",
       "      <td>...</td>\n",
       "      <td>...</td>\n",
       "    </tr>\n",
       "    <tr>\n",
       "      <th>20469</th>\n",
       "      <td>209037.0</td>\n",
       "      <td>Our Wonderful Nature - The Common Chameleon (2...</td>\n",
       "      <td>(no genres listed)</td>\n",
       "      <td>2016</td>\n",
       "    </tr>\n",
       "    <tr>\n",
       "      <th>20472</th>\n",
       "      <td>209051.0</td>\n",
       "      <td>Jeff Garlin: Our Man in Chicago (2019)</td>\n",
       "      <td>(no genres listed)</td>\n",
       "      <td>2019</td>\n",
       "    </tr>\n",
       "    <tr>\n",
       "      <th>20474</th>\n",
       "      <td>209063.0</td>\n",
       "      <td>The Prep School Negro (2012)</td>\n",
       "      <td>(no genres listed)</td>\n",
       "      <td>2012</td>\n",
       "    </tr>\n",
       "    <tr>\n",
       "      <th>20483</th>\n",
       "      <td>209133.0</td>\n",
       "      <td>The Riot and the Dance (2018)</td>\n",
       "      <td>(no genres listed)</td>\n",
       "      <td>2018</td>\n",
       "    </tr>\n",
       "    <tr>\n",
       "      <th>20486</th>\n",
       "      <td>209151.0</td>\n",
       "      <td>Mao Zedong 1949 (2019)</td>\n",
       "      <td>(no genres listed)</td>\n",
       "      <td>2019</td>\n",
       "    </tr>\n",
       "  </tbody>\n",
       "</table>\n",
       "<p>1424 rows × 4 columns</p>\n",
       "</div>"
      ],
      "text/plain": [
       "        movieId                                              title  \\\n",
       "3179   116046.0                           Christmas Oranges (2012)   \n",
       "3183   116126.0                                   Complicit (2013)   \n",
       "3852   122571.0                             The Wrong Woman (2013)   \n",
       "3853   122573.0                             Expecting Amish (2014)   \n",
       "3875   122888.0                                     Ben-hur (2016)   \n",
       "...         ...                                                ...   \n",
       "20469  209037.0  Our Wonderful Nature - The Common Chameleon (2...   \n",
       "20472  209051.0             Jeff Garlin: Our Man in Chicago (2019)   \n",
       "20474  209063.0                       The Prep School Negro (2012)   \n",
       "20483  209133.0                      The Riot and the Dance (2018)   \n",
       "20486  209151.0                             Mao Zedong 1949 (2019)   \n",
       "\n",
       "                   genres  date  \n",
       "3179   (no genres listed)  2012  \n",
       "3183   (no genres listed)  2013  \n",
       "3852   (no genres listed)  2013  \n",
       "3853   (no genres listed)  2014  \n",
       "3875   (no genres listed)  2016  \n",
       "...                   ...   ...  \n",
       "20469  (no genres listed)  2016  \n",
       "20472  (no genres listed)  2019  \n",
       "20474  (no genres listed)  2012  \n",
       "20483  (no genres listed)  2018  \n",
       "20486  (no genres listed)  2019  \n",
       "\n",
       "[1424 rows x 4 columns]"
      ]
     },
     "execution_count": 16,
     "metadata": {},
     "output_type": "execute_result"
    }
   ],
   "source": [
    "no_g = movies[movies['genres'] == '(no genres listed)']\n",
    "no_g"
   ]
  },
  {
   "cell_type": "code",
   "execution_count": 17,
   "metadata": {},
   "outputs": [
    {
     "data": {
      "text/html": [
       "<div>\n",
       "<style scoped>\n",
       "    .dataframe tbody tr th:only-of-type {\n",
       "        vertical-align: middle;\n",
       "    }\n",
       "\n",
       "    .dataframe tbody tr th {\n",
       "        vertical-align: top;\n",
       "    }\n",
       "\n",
       "    .dataframe thead th {\n",
       "        text-align: right;\n",
       "    }\n",
       "</style>\n",
       "<table border=\"1\" class=\"dataframe\">\n",
       "  <thead>\n",
       "    <tr style=\"text-align: right;\">\n",
       "      <th></th>\n",
       "      <th>userId</th>\n",
       "      <th>movieId</th>\n",
       "      <th>tag</th>\n",
       "      <th>timestamp</th>\n",
       "    </tr>\n",
       "  </thead>\n",
       "  <tbody>\n",
       "    <tr>\n",
       "      <th>157475</th>\n",
       "      <td>6550</td>\n",
       "      <td>122888</td>\n",
       "      <td>ancient rome</td>\n",
       "      <td>1527450145</td>\n",
       "    </tr>\n",
       "    <tr>\n",
       "      <th>157476</th>\n",
       "      <td>6550</td>\n",
       "      <td>122888</td>\n",
       "      <td>betrayal</td>\n",
       "      <td>1527450145</td>\n",
       "    </tr>\n",
       "    <tr>\n",
       "      <th>157477</th>\n",
       "      <td>6550</td>\n",
       "      <td>122888</td>\n",
       "      <td>vengeance</td>\n",
       "      <td>1527450145</td>\n",
       "    </tr>\n",
       "    <tr>\n",
       "      <th>324310</th>\n",
       "      <td>21096</td>\n",
       "      <td>122888</td>\n",
       "      <td>based on a book</td>\n",
       "      <td>1454332900</td>\n",
       "    </tr>\n",
       "    <tr>\n",
       "      <th>324311</th>\n",
       "      <td>21096</td>\n",
       "      <td>122888</td>\n",
       "      <td>revenge</td>\n",
       "      <td>1454332900</td>\n",
       "    </tr>\n",
       "    <tr>\n",
       "      <th>457712</th>\n",
       "      <td>46290</td>\n",
       "      <td>122888</td>\n",
       "      <td>Silvia</td>\n",
       "      <td>1488015208</td>\n",
       "    </tr>\n",
       "    <tr>\n",
       "      <th>711226</th>\n",
       "      <td>92018</td>\n",
       "      <td>122888</td>\n",
       "      <td>Biblical</td>\n",
       "      <td>1525755580</td>\n",
       "    </tr>\n",
       "    <tr>\n",
       "      <th>711227</th>\n",
       "      <td>92018</td>\n",
       "      <td>122888</td>\n",
       "      <td>Changed Ending</td>\n",
       "      <td>1525755542</td>\n",
       "    </tr>\n",
       "    <tr>\n",
       "      <th>711228</th>\n",
       "      <td>92018</td>\n",
       "      <td>122888</td>\n",
       "      <td>Remake</td>\n",
       "      <td>1525755500</td>\n",
       "    </tr>\n",
       "    <tr>\n",
       "      <th>711229</th>\n",
       "      <td>92018</td>\n",
       "      <td>122888</td>\n",
       "      <td>revenge</td>\n",
       "      <td>1525755494</td>\n",
       "    </tr>\n",
       "    <tr>\n",
       "      <th>711230</th>\n",
       "      <td>92018</td>\n",
       "      <td>122888</td>\n",
       "      <td>Shallow</td>\n",
       "      <td>1525755622</td>\n",
       "    </tr>\n",
       "    <tr>\n",
       "      <th>744703</th>\n",
       "      <td>99170</td>\n",
       "      <td>122888</td>\n",
       "      <td>Remake</td>\n",
       "      <td>1483644207</td>\n",
       "    </tr>\n",
       "    <tr>\n",
       "      <th>744704</th>\n",
       "      <td>99170</td>\n",
       "      <td>122888</td>\n",
       "      <td>revenge</td>\n",
       "      <td>1483644217</td>\n",
       "    </tr>\n",
       "    <tr>\n",
       "      <th>917049</th>\n",
       "      <td>131347</td>\n",
       "      <td>122888</td>\n",
       "      <td>brothers</td>\n",
       "      <td>1526502868</td>\n",
       "    </tr>\n",
       "    <tr>\n",
       "      <th>917050</th>\n",
       "      <td>131347</td>\n",
       "      <td>122888</td>\n",
       "      <td>horses</td>\n",
       "      <td>1526502845</td>\n",
       "    </tr>\n",
       "    <tr>\n",
       "      <th>917051</th>\n",
       "      <td>131347</td>\n",
       "      <td>122888</td>\n",
       "      <td>Jack Huston</td>\n",
       "      <td>1526503073</td>\n",
       "    </tr>\n",
       "    <tr>\n",
       "      <th>917052</th>\n",
       "      <td>131347</td>\n",
       "      <td>122888</td>\n",
       "      <td>Jews</td>\n",
       "      <td>1526502848</td>\n",
       "    </tr>\n",
       "    <tr>\n",
       "      <th>917053</th>\n",
       "      <td>131347</td>\n",
       "      <td>122888</td>\n",
       "      <td>Morgan Freeman</td>\n",
       "      <td>1526502887</td>\n",
       "    </tr>\n",
       "    <tr>\n",
       "      <th>917054</th>\n",
       "      <td>131347</td>\n",
       "      <td>122888</td>\n",
       "      <td>Nazanin Boniadi</td>\n",
       "      <td>1526503201</td>\n",
       "    </tr>\n",
       "    <tr>\n",
       "      <th>917055</th>\n",
       "      <td>131347</td>\n",
       "      <td>122888</td>\n",
       "      <td>Remake</td>\n",
       "      <td>1526502831</td>\n",
       "    </tr>\n",
       "    <tr>\n",
       "      <th>917056</th>\n",
       "      <td>131347</td>\n",
       "      <td>122888</td>\n",
       "      <td>revenge</td>\n",
       "      <td>1526502827</td>\n",
       "    </tr>\n",
       "    <tr>\n",
       "      <th>917057</th>\n",
       "      <td>131347</td>\n",
       "      <td>122888</td>\n",
       "      <td>Rome</td>\n",
       "      <td>1526502850</td>\n",
       "    </tr>\n",
       "    <tr>\n",
       "      <th>917058</th>\n",
       "      <td>131347</td>\n",
       "      <td>122888</td>\n",
       "      <td>Toby Kebbell</td>\n",
       "      <td>1526503099</td>\n",
       "    </tr>\n",
       "    <tr>\n",
       "      <th>982246</th>\n",
       "      <td>142781</td>\n",
       "      <td>122888</td>\n",
       "      <td>christian</td>\n",
       "      <td>1519128749</td>\n",
       "    </tr>\n",
       "    <tr>\n",
       "      <th>982247</th>\n",
       "      <td>142781</td>\n",
       "      <td>122888</td>\n",
       "      <td>fantasy</td>\n",
       "      <td>1519128815</td>\n",
       "    </tr>\n",
       "    <tr>\n",
       "      <th>982248</th>\n",
       "      <td>142781</td>\n",
       "      <td>122888</td>\n",
       "      <td>history</td>\n",
       "      <td>1519128818</td>\n",
       "    </tr>\n",
       "    <tr>\n",
       "      <th>982249</th>\n",
       "      <td>142781</td>\n",
       "      <td>122888</td>\n",
       "      <td>not true to book</td>\n",
       "      <td>1519128801</td>\n",
       "    </tr>\n",
       "  </tbody>\n",
       "</table>\n",
       "</div>"
      ],
      "text/plain": [
       "        userId  movieId               tag   timestamp\n",
       "157475    6550   122888      ancient rome  1527450145\n",
       "157476    6550   122888          betrayal  1527450145\n",
       "157477    6550   122888         vengeance  1527450145\n",
       "324310   21096   122888   based on a book  1454332900\n",
       "324311   21096   122888           revenge  1454332900\n",
       "457712   46290   122888            Silvia  1488015208\n",
       "711226   92018   122888          Biblical  1525755580\n",
       "711227   92018   122888    Changed Ending  1525755542\n",
       "711228   92018   122888            Remake  1525755500\n",
       "711229   92018   122888           revenge  1525755494\n",
       "711230   92018   122888           Shallow  1525755622\n",
       "744703   99170   122888            Remake  1483644207\n",
       "744704   99170   122888           revenge  1483644217\n",
       "917049  131347   122888          brothers  1526502868\n",
       "917050  131347   122888            horses  1526502845\n",
       "917051  131347   122888       Jack Huston  1526503073\n",
       "917052  131347   122888              Jews  1526502848\n",
       "917053  131347   122888    Morgan Freeman  1526502887\n",
       "917054  131347   122888   Nazanin Boniadi  1526503201\n",
       "917055  131347   122888            Remake  1526502831\n",
       "917056  131347   122888           revenge  1526502827\n",
       "917057  131347   122888              Rome  1526502850\n",
       "917058  131347   122888      Toby Kebbell  1526503099\n",
       "982246  142781   122888         christian  1519128749\n",
       "982247  142781   122888           fantasy  1519128815\n",
       "982248  142781   122888           history  1519128818\n",
       "982249  142781   122888  not true to book  1519128801"
      ]
     },
     "execution_count": 17,
     "metadata": {},
     "output_type": "execute_result"
    }
   ],
   "source": [
    "no_tag = tags[tags['movieId'] == int(122888.0) ]\n",
    "no_tag"
   ]
  },
  {
   "cell_type": "code",
   "execution_count": 18,
   "metadata": {},
   "outputs": [],
   "source": [
    "genres = pd.DataFrame(movies.genres,columns=['genres'])\n",
    "genres['count'] = 1"
   ]
  },
  {
   "cell_type": "code",
   "execution_count": 19,
   "metadata": {},
   "outputs": [
    {
     "data": {
      "text/html": [
       "<div>\n",
       "<style scoped>\n",
       "    .dataframe tbody tr th:only-of-type {\n",
       "        vertical-align: middle;\n",
       "    }\n",
       "\n",
       "    .dataframe tbody tr th {\n",
       "        vertical-align: top;\n",
       "    }\n",
       "\n",
       "    .dataframe thead th {\n",
       "        text-align: right;\n",
       "    }\n",
       "</style>\n",
       "<table border=\"1\" class=\"dataframe\">\n",
       "  <thead>\n",
       "    <tr style=\"text-align: right;\">\n",
       "      <th></th>\n",
       "      <th>genres</th>\n",
       "      <th>count</th>\n",
       "    </tr>\n",
       "  </thead>\n",
       "  <tbody>\n",
       "    <tr>\n",
       "      <th>0</th>\n",
       "      <td>Action|Drama|Horror|Thriller</td>\n",
       "      <td>1</td>\n",
       "    </tr>\n",
       "    <tr>\n",
       "      <th>1</th>\n",
       "      <td>Comedy|Romance</td>\n",
       "      <td>1</td>\n",
       "    </tr>\n",
       "    <tr>\n",
       "      <th>2</th>\n",
       "      <td>Action|Adventure|Drama</td>\n",
       "      <td>1</td>\n",
       "    </tr>\n",
       "    <tr>\n",
       "      <th>3</th>\n",
       "      <td>Drama|Musical|Romance</td>\n",
       "      <td>1</td>\n",
       "    </tr>\n",
       "    <tr>\n",
       "      <th>4</th>\n",
       "      <td>Action|Fantasy|Horror|Thriller</td>\n",
       "      <td>1</td>\n",
       "    </tr>\n",
       "    <tr>\n",
       "      <th>...</th>\n",
       "      <td>...</td>\n",
       "      <td>...</td>\n",
       "    </tr>\n",
       "    <tr>\n",
       "      <th>20484</th>\n",
       "      <td>Animation|Documentary</td>\n",
       "      <td>1</td>\n",
       "    </tr>\n",
       "    <tr>\n",
       "      <th>20485</th>\n",
       "      <td>Drama</td>\n",
       "      <td>1</td>\n",
       "    </tr>\n",
       "    <tr>\n",
       "      <th>20486</th>\n",
       "      <td>(no genres listed)</td>\n",
       "      <td>1</td>\n",
       "    </tr>\n",
       "    <tr>\n",
       "      <th>20487</th>\n",
       "      <td>Drama</td>\n",
       "      <td>1</td>\n",
       "    </tr>\n",
       "    <tr>\n",
       "      <th>20488</th>\n",
       "      <td>Comedy|Drama</td>\n",
       "      <td>1</td>\n",
       "    </tr>\n",
       "  </tbody>\n",
       "</table>\n",
       "<p>20489 rows × 2 columns</p>\n",
       "</div>"
      ],
      "text/plain": [
       "                               genres  count\n",
       "0        Action|Drama|Horror|Thriller      1\n",
       "1                      Comedy|Romance      1\n",
       "2              Action|Adventure|Drama      1\n",
       "3               Drama|Musical|Romance      1\n",
       "4      Action|Fantasy|Horror|Thriller      1\n",
       "...                               ...    ...\n",
       "20484           Animation|Documentary      1\n",
       "20485                           Drama      1\n",
       "20486              (no genres listed)      1\n",
       "20487                           Drama      1\n",
       "20488                    Comedy|Drama      1\n",
       "\n",
       "[20489 rows x 2 columns]"
      ]
     },
     "execution_count": 19,
     "metadata": {},
     "output_type": "execute_result"
    }
   ],
   "source": [
    "genres"
   ]
  },
  {
   "cell_type": "code",
   "execution_count": 20,
   "metadata": {},
   "outputs": [
    {
     "data": {
      "text/html": [
       "<div>\n",
       "<style scoped>\n",
       "    .dataframe tbody tr th:only-of-type {\n",
       "        vertical-align: middle;\n",
       "    }\n",
       "\n",
       "    .dataframe tbody tr th {\n",
       "        vertical-align: top;\n",
       "    }\n",
       "\n",
       "    .dataframe thead th {\n",
       "        text-align: right;\n",
       "    }\n",
       "</style>\n",
       "<table border=\"1\" class=\"dataframe\">\n",
       "  <thead>\n",
       "    <tr style=\"text-align: right;\">\n",
       "      <th></th>\n",
       "      <th>genres</th>\n",
       "      <th>count</th>\n",
       "    </tr>\n",
       "  </thead>\n",
       "  <tbody>\n",
       "    <tr>\n",
       "      <th>710</th>\n",
       "      <td>Drama</td>\n",
       "      <td>3021</td>\n",
       "    </tr>\n",
       "    <tr>\n",
       "      <th>688</th>\n",
       "      <td>Documentary</td>\n",
       "      <td>2593</td>\n",
       "    </tr>\n",
       "    <tr>\n",
       "      <th>562</th>\n",
       "      <td>Comedy</td>\n",
       "      <td>1908</td>\n",
       "    </tr>\n",
       "    <tr>\n",
       "      <th>0</th>\n",
       "      <td>(no genres listed)</td>\n",
       "      <td>1424</td>\n",
       "    </tr>\n",
       "    <tr>\n",
       "      <th>585</th>\n",
       "      <td>Comedy|Drama</td>\n",
       "      <td>894</td>\n",
       "    </tr>\n",
       "    <tr>\n",
       "      <th>788</th>\n",
       "      <td>Horror</td>\n",
       "      <td>602</td>\n",
       "    </tr>\n",
       "    <tr>\n",
       "      <th>749</th>\n",
       "      <td>Drama|Romance</td>\n",
       "      <td>528</td>\n",
       "    </tr>\n",
       "    <tr>\n",
       "      <th>829</th>\n",
       "      <td>Thriller</td>\n",
       "      <td>500</td>\n",
       "    </tr>\n",
       "    <tr>\n",
       "      <th>640</th>\n",
       "      <td>Comedy|Romance</td>\n",
       "      <td>499</td>\n",
       "    </tr>\n",
       "    <tr>\n",
       "      <th>801</th>\n",
       "      <td>Horror|Thriller</td>\n",
       "      <td>427</td>\n",
       "    </tr>\n",
       "    <tr>\n",
       "      <th>760</th>\n",
       "      <td>Drama|Thriller</td>\n",
       "      <td>388</td>\n",
       "    </tr>\n",
       "    <tr>\n",
       "      <th>607</th>\n",
       "      <td>Comedy|Drama|Romance</td>\n",
       "      <td>295</td>\n",
       "    </tr>\n",
       "    <tr>\n",
       "      <th>654</th>\n",
       "      <td>Crime|Drama</td>\n",
       "      <td>177</td>\n",
       "    </tr>\n",
       "    <tr>\n",
       "      <th>1</th>\n",
       "      <td>Action</td>\n",
       "      <td>168</td>\n",
       "    </tr>\n",
       "    <tr>\n",
       "      <th>624</th>\n",
       "      <td>Comedy|Horror</td>\n",
       "      <td>163</td>\n",
       "    </tr>\n",
       "    <tr>\n",
       "      <th>297</th>\n",
       "      <td>Action|Thriller</td>\n",
       "      <td>156</td>\n",
       "    </tr>\n",
       "    <tr>\n",
       "      <th>668</th>\n",
       "      <td>Crime|Drama|Thriller</td>\n",
       "      <td>153</td>\n",
       "    </tr>\n",
       "    <tr>\n",
       "      <th>437</th>\n",
       "      <td>Animation</td>\n",
       "      <td>152</td>\n",
       "    </tr>\n",
       "    <tr>\n",
       "      <th>818</th>\n",
       "      <td>Romance</td>\n",
       "      <td>148</td>\n",
       "    </tr>\n",
       "    <tr>\n",
       "      <th>220</th>\n",
       "      <td>Action|Drama</td>\n",
       "      <td>147</td>\n",
       "    </tr>\n",
       "    <tr>\n",
       "      <th>823</th>\n",
       "      <td>Sci-Fi</td>\n",
       "      <td>142</td>\n",
       "    </tr>\n",
       "    <tr>\n",
       "      <th>149</th>\n",
       "      <td>Action|Comedy</td>\n",
       "      <td>112</td>\n",
       "    </tr>\n",
       "    <tr>\n",
       "      <th>763</th>\n",
       "      <td>Drama|War</td>\n",
       "      <td>111</td>\n",
       "    </tr>\n",
       "    <tr>\n",
       "      <th>537</th>\n",
       "      <td>Children|Drama</td>\n",
       "      <td>106</td>\n",
       "    </tr>\n",
       "    <tr>\n",
       "      <th>216</th>\n",
       "      <td>Action|Crime|Thriller</td>\n",
       "      <td>103</td>\n",
       "    </tr>\n",
       "    <tr>\n",
       "      <th>736</th>\n",
       "      <td>Drama|Horror|Thriller</td>\n",
       "      <td>94</td>\n",
       "    </tr>\n",
       "    <tr>\n",
       "      <th>685</th>\n",
       "      <td>Crime|Thriller</td>\n",
       "      <td>94</td>\n",
       "    </tr>\n",
       "    <tr>\n",
       "      <th>746</th>\n",
       "      <td>Drama|Mystery|Thriller</td>\n",
       "      <td>85</td>\n",
       "    </tr>\n",
       "    <tr>\n",
       "      <th>514</th>\n",
       "      <td>Children</td>\n",
       "      <td>83</td>\n",
       "    </tr>\n",
       "    <tr>\n",
       "      <th>795</th>\n",
       "      <td>Horror|Mystery|Thriller</td>\n",
       "      <td>81</td>\n",
       "    </tr>\n",
       "    <tr>\n",
       "      <th>515</th>\n",
       "      <td>Children|Comedy</td>\n",
       "      <td>80</td>\n",
       "    </tr>\n",
       "    <tr>\n",
       "      <th>190</th>\n",
       "      <td>Action|Crime|Drama</td>\n",
       "      <td>79</td>\n",
       "    </tr>\n",
       "    <tr>\n",
       "      <th>244</th>\n",
       "      <td>Action|Drama|Thriller</td>\n",
       "      <td>79</td>\n",
       "    </tr>\n",
       "    <tr>\n",
       "      <th>689</th>\n",
       "      <td>Documentary|Drama</td>\n",
       "      <td>78</td>\n",
       "    </tr>\n",
       "    <tr>\n",
       "      <th>438</th>\n",
       "      <td>Animation|Children</td>\n",
       "      <td>77</td>\n",
       "    </tr>\n",
       "    <tr>\n",
       "      <th>755</th>\n",
       "      <td>Drama|Sci-Fi</td>\n",
       "      <td>76</td>\n",
       "    </tr>\n",
       "    <tr>\n",
       "      <th>815</th>\n",
       "      <td>Mystery|Thriller</td>\n",
       "      <td>72</td>\n",
       "    </tr>\n",
       "    <tr>\n",
       "      <th>290</th>\n",
       "      <td>Action|Sci-Fi</td>\n",
       "      <td>69</td>\n",
       "    </tr>\n",
       "    <tr>\n",
       "      <th>825</th>\n",
       "      <td>Sci-Fi|Thriller</td>\n",
       "      <td>67</td>\n",
       "    </tr>\n",
       "    <tr>\n",
       "      <th>741</th>\n",
       "      <td>Drama|Mystery</td>\n",
       "      <td>64</td>\n",
       "    </tr>\n",
       "    <tr>\n",
       "      <th>727</th>\n",
       "      <td>Drama|Horror</td>\n",
       "      <td>56</td>\n",
       "    </tr>\n",
       "    <tr>\n",
       "      <th>799</th>\n",
       "      <td>Horror|Sci-Fi</td>\n",
       "      <td>53</td>\n",
       "    </tr>\n",
       "    <tr>\n",
       "      <th>189</th>\n",
       "      <td>Action|Crime</td>\n",
       "      <td>53</td>\n",
       "    </tr>\n",
       "    <tr>\n",
       "      <th>581</th>\n",
       "      <td>Comedy|Documentary</td>\n",
       "      <td>52</td>\n",
       "    </tr>\n",
       "    <tr>\n",
       "      <th>292</th>\n",
       "      <td>Action|Sci-Fi|Thriller</td>\n",
       "      <td>51</td>\n",
       "    </tr>\n",
       "    <tr>\n",
       "      <th>563</th>\n",
       "      <td>Comedy|Crime</td>\n",
       "      <td>49</td>\n",
       "    </tr>\n",
       "    <tr>\n",
       "      <th>150</th>\n",
       "      <td>Action|Comedy|Crime</td>\n",
       "      <td>49</td>\n",
       "    </tr>\n",
       "    <tr>\n",
       "      <th>458</th>\n",
       "      <td>Animation|Comedy</td>\n",
       "      <td>47</td>\n",
       "    </tr>\n",
       "    <tr>\n",
       "      <th>800</th>\n",
       "      <td>Horror|Sci-Fi|Thriller</td>\n",
       "      <td>47</td>\n",
       "    </tr>\n",
       "    <tr>\n",
       "      <th>520</th>\n",
       "      <td>Children|Comedy|Drama</td>\n",
       "      <td>46</td>\n",
       "    </tr>\n",
       "  </tbody>\n",
       "</table>\n",
       "</div>"
      ],
      "text/plain": [
       "                      genres  count\n",
       "710                    Drama   3021\n",
       "688              Documentary   2593\n",
       "562                   Comedy   1908\n",
       "0         (no genres listed)   1424\n",
       "585             Comedy|Drama    894\n",
       "788                   Horror    602\n",
       "749            Drama|Romance    528\n",
       "829                 Thriller    500\n",
       "640           Comedy|Romance    499\n",
       "801          Horror|Thriller    427\n",
       "760           Drama|Thriller    388\n",
       "607     Comedy|Drama|Romance    295\n",
       "654              Crime|Drama    177\n",
       "1                     Action    168\n",
       "624            Comedy|Horror    163\n",
       "297          Action|Thriller    156\n",
       "668     Crime|Drama|Thriller    153\n",
       "437                Animation    152\n",
       "818                  Romance    148\n",
       "220             Action|Drama    147\n",
       "823                   Sci-Fi    142\n",
       "149            Action|Comedy    112\n",
       "763                Drama|War    111\n",
       "537           Children|Drama    106\n",
       "216    Action|Crime|Thriller    103\n",
       "736    Drama|Horror|Thriller     94\n",
       "685           Crime|Thriller     94\n",
       "746   Drama|Mystery|Thriller     85\n",
       "514                 Children     83\n",
       "795  Horror|Mystery|Thriller     81\n",
       "515          Children|Comedy     80\n",
       "190       Action|Crime|Drama     79\n",
       "244    Action|Drama|Thriller     79\n",
       "689        Documentary|Drama     78\n",
       "438       Animation|Children     77\n",
       "755             Drama|Sci-Fi     76\n",
       "815         Mystery|Thriller     72\n",
       "290            Action|Sci-Fi     69\n",
       "825          Sci-Fi|Thriller     67\n",
       "741            Drama|Mystery     64\n",
       "727             Drama|Horror     56\n",
       "799            Horror|Sci-Fi     53\n",
       "189             Action|Crime     53\n",
       "581       Comedy|Documentary     52\n",
       "292   Action|Sci-Fi|Thriller     51\n",
       "563             Comedy|Crime     49\n",
       "150      Action|Comedy|Crime     49\n",
       "458         Animation|Comedy     47\n",
       "800   Horror|Sci-Fi|Thriller     47\n",
       "520    Children|Comedy|Drama     46"
      ]
     },
     "execution_count": 20,
     "metadata": {},
     "output_type": "execute_result"
    }
   ],
   "source": [
    "genres_g = genres.groupby('genres').count().reset_index()\n",
    "genres_g = genres_g.sort_values('count', ascending=False)\n",
    "genres_g.head(50)"
   ]
  },
  {
   "cell_type": "code",
   "execution_count": 21,
   "metadata": {},
   "outputs": [],
   "source": [
    "# to get items in the list df = df[df['date'].isin(a)]\n",
    "# to get the items not in the list df = df[~df['date'].isin(a)]"
   ]
  },
  {
   "cell_type": "code",
   "execution_count": 22,
   "metadata": {},
   "outputs": [
    {
     "data": {
      "text/plain": [
       "array([ 73268.,  73319.,  73321., ..., 209151., 209157., 209163.])"
      ]
     },
     "execution_count": 22,
     "metadata": {},
     "output_type": "execute_result"
    }
   ],
   "source": [
    "movie_id = movies['movieId'].values # get movie IDs that remain after cutting films before 2010\n",
    "movie_id"
   ]
  },
  {
   "cell_type": "code",
   "execution_count": null,
   "metadata": {},
   "outputs": [],
   "source": [
    "ratings = ratings_full[ratings_full.movieId.isin(movie_id)] # filter out movies not in movie_Id\n",
    "ratings.shape"
   ]
  },
  {
   "cell_type": "markdown",
   "metadata": {},
   "source": [
    "We do not require the timestamp column from this set, and therefore it will be dropped."
   ]
  },
  {
   "cell_type": "code",
   "execution_count": null,
   "metadata": {},
   "outputs": [],
   "source": [
    "links_full.shape"
   ]
  },
  {
   "cell_type": "code",
   "execution_count": null,
   "metadata": {},
   "outputs": [],
   "source": [
    "links  = links_full[links_full.movieId.isin(movie_id)]\n",
    "links.shape"
   ]
  },
  {
   "cell_type": "code",
   "execution_count": null,
   "metadata": {
    "colab": {},
    "colab_type": "code",
    "id": "ih7rHEttcUnG"
   },
   "outputs": [],
   "source": [
    "ratings.pop('timestamp')\n",
    "ratings.head(5)"
   ]
  },
  {
   "cell_type": "code",
   "execution_count": null,
   "metadata": {},
   "outputs": [],
   "source": [
    "ratings.shape"
   ]
  },
  {
   "cell_type": "code",
   "execution_count": null,
   "metadata": {},
   "outputs": [],
   "source": [
    "min_movie_ratings = 250\n",
    "filter_movies = ratings['movieId'].value_counts() > min_movie_ratings\n",
    "filter_movies = filter_movies[filter_movies].index.tolist()\n",
    "\n",
    "min_user_ratings = 250\n",
    "filter_users = ratings['userId'].value_counts() > min_user_ratings\n",
    "filter_users = filter_users[filter_users].index.tolist()\n",
    "\n",
    "ratings = ratings[(ratings['movieId'].isin(filter_movies)) & (ratings['userId'].isin(filter_users))]\n",
    "ratings.shape"
   ]
  },
  {
   "cell_type": "markdown",
   "metadata": {},
   "source": [
    "For the purposes of testing, it would be good to get a few users who have rated many films and to test with their user ids."
   ]
  },
  {
   "cell_type": "code",
   "execution_count": null,
   "metadata": {},
   "outputs": [],
   "source": [
    "grouped = ratings.groupby('userId').count().reset_index()\n",
    "grouped = grouped.sort_values('rating', ascending=False)"
   ]
  },
  {
   "cell_type": "code",
   "execution_count": null,
   "metadata": {},
   "outputs": [],
   "source": [
    "grouped"
   ]
  },
  {
   "cell_type": "markdown",
   "metadata": {
    "colab_type": "text",
    "id": "7PCxq8KecUnL"
   },
   "source": [
    "##### Define a Ratings scale\n",
    "This scale is determined by the lowest and highest rating possible. \n",
    "In this case the lowest rating is 1, while the highest is 5."
   ]
  },
  {
   "cell_type": "code",
   "execution_count": null,
   "metadata": {
    "colab": {},
    "colab_type": "code",
    "id": "_sbDZlymcUnL"
   },
   "outputs": [],
   "source": [
    "reader = Reader(rating_scale=(1,5)) # This just defines the rating scale\n",
    "data = Dataset.load_from_df(ratings[['userId', 'movieId', 'rating']], reader=reader)"
   ]
  },
  {
   "cell_type": "markdown",
   "metadata": {
    "colab_type": "text",
    "id": "osRfBS-pcUnP"
   },
   "source": [
    "### Build the Recommender Model\n",
    "\n",
    "##### KNN with Means - Surprise\n",
    "\n",
    "[KNN with Means](https://surprise.readthedocs.io/en/stable/knn_inspired.html#surprise.prediction_algorithms.knns.KNNWithMeans) has been chosen for the recommender, which is a basic collaborative filtering algorithm, taking into account the mean ratings of each user."
   ]
  },
  {
   "cell_type": "code",
   "execution_count": null,
   "metadata": {
    "colab": {},
    "colab_type": "code",
    "id": "lsQcmBWacUnQ"
   },
   "outputs": [],
   "source": [
    "def build_recommender(user_based=False, sim_type='cosine'):\n",
    "    sim_options = {\n",
    "        \"name\": sim_type,\n",
    "        \"user_based\": user_based\n",
    "    }\n",
    "\n",
    "    return KNNWithMeans(sim_options=sim_options)"
   ]
  },
  {
   "cell_type": "markdown",
   "metadata": {
    "colab_type": "text",
    "id": "VMOU_vTUcUnU"
   },
   "source": [
    "##### Calculate the Similarity Matrix\n",
    "\n",
    "Ignoring folds this builds the *Trainset* using [build_full_trainset()](https://surprise.readthedocs.io/en/stable/dataset.html#surprise.dataset.DatasetAutoFolds.build_full_trainset)\n",
    "\n",
    "The Trainset is built using the data, but then contains more information about the data"
   ]
  },
  {
   "cell_type": "code",
   "execution_count": null,
   "metadata": {
    "colab": {
     "base_uri": "https://localhost:8080/",
     "height": 70
    },
    "colab_type": "code",
    "id": "a4YxzV0McUnV",
    "outputId": "b21e159a-0135-4d6f-f257-e7b63165c14f"
   },
   "outputs": [],
   "source": [
    "trainset = data.build_full_trainset()\n",
    "item_based_recommender = build_recommender()\n",
    "item_based_recommender.fit(trainset)"
   ]
  },
  {
   "cell_type": "markdown",
   "metadata": {
    "colab_type": "text",
    "id": "bzNzGGO-cUnZ"
   },
   "source": [
    "### Evaluate the Model\n",
    "\n",
    "Using [cross_validation()](https://surprise.readthedocs.io/en/stable/model_selection.html#cross-validation) from surprise, we can quickly evaluate the model using a few metrics. "
   ]
  },
  {
   "cell_type": "code",
   "execution_count": null,
   "metadata": {
    "colab": {
     "base_uri": "https://localhost:8080/",
     "height": 532
    },
    "colab_type": "code",
    "id": "yLfQS_Q5cUna",
    "outputId": "679e4f22-d1bb-4286-802b-e5513b5c5a84"
   },
   "outputs": [],
   "source": [
    "cross_validate(item_based_recommender, data, measures=['RMSE', 'MAE'], cv=5, verbose=True)"
   ]
  },
  {
   "cell_type": "markdown",
   "metadata": {
    "colab_type": "text",
    "id": "PIic1IXpcUni"
   },
   "source": [
    "### Inference\n",
    "\n",
    "The main function to run the model and get inferences"
   ]
  },
  {
   "cell_type": "code",
   "execution_count": null,
   "metadata": {},
   "outputs": [],
   "source": [
    "ml_model = item_based_recommender"
   ]
  },
  {
   "cell_type": "code",
   "execution_count": null,
   "metadata": {
    "colab": {},
    "colab_type": "code",
    "id": "RHzb3os8cUni"
   },
   "outputs": [],
   "source": [
    "def get_r(user_id):\n",
    "    # Select which system to use. Due to memory constraints, item based is the only viable option\n",
    "    recommender_system = ml_model\n",
    "    # N will represent how many items to recommend\n",
    "    N = 2000\n",
    "\n",
    "    # The setting to a set and back to list is a failsafe.\n",
    "    rated_items = list(set(ratings.loc[ratings['userId'] == user_id]['movieId'].tolist()))\n",
    "    ratings_list = movies['movieId'].values.tolist()\n",
    "    reduced_ratings = ratings.loc[ratings['movieId'].isin(ratings_list)].copy()\n",
    "\n",
    "    # Self explanitory name\n",
    "    all_item_ids = list(set(reduced_ratings['movieId'].tolist()))\n",
    "\n",
    "    # New_items just represents all the items not rated by the user\n",
    "    new_items = [x for x in all_item_ids if x not in rated_items]\n",
    "\n",
    "    # Estimate ratings for all unrated items\n",
    "    predicted_ratings = {}\n",
    "    for item_id in new_items:\n",
    "        predicted_ratings[item_id] = recommender_system.predict(user_id, item_id).est\n",
    "        pass\n",
    "\n",
    "    # Get the item_ids for the top ratings\n",
    "    recommended_ids = heapq.nlargest(N, predicted_ratings, key=predicted_ratings.get)\n",
    "    recommended_ids = sorted(recommended_ids)\n",
    "\n",
    "    # predicted_ratings\n",
    "    recommended_df = movies.loc[movies['movieId'].isin(recommended_ids)].copy()\n",
    "    #recommended_df.insert(1, 'pred_rating', np.zeros(len(recommended_ids)))\n",
    "    recommended_df.insert(1, 'pred_rating', 0)\n",
    "\n",
    "    # recommended_df = movies.copy()\n",
    "    for idx,item_id in enumerate(recommended_ids):\n",
    "        recommended_df.iloc[idx, recommended_df.columns.get_loc('pred_rating')] = int(predicted_ratings[item_id])\n",
    "        pass\n",
    "    return recommended_df.head(N).sort_values('pred_rating', ascending=False)\n",
    "\n",
    "def cap_str(item):\n",
    "    string = item\n",
    "    return string.capitalize()\n",
    "\n",
    "def reg_frame(f_list,items):\n",
    "    s_ = ''\n",
    "    for i in items:\n",
    "        j = i.strip()\n",
    "        j = cap_str(j)\n",
    "        str_ = f'(?=.*{j})'\n",
    "        s_ += str_\n",
    "    s_\n",
    "    f_list = f_list[f_list['genres'].str.contains(fr'^\\b{s_}\\b',regex=True)]\n",
    "    return f_list\n",
    "\n",
    "def set_up_ml(user_id,genre_list):\n",
    "    film_list = get_r(user_id)\n",
    "    items = genre_list.split(',')\n",
    "    film_list = reg_frame(film_list,items)\n",
    "    film_list.pop('date')\n",
    "    return film_list"
   ]
  },
  {
   "cell_type": "markdown",
   "metadata": {
    "colab_type": "text",
    "id": "iMVG1i3mcUnm"
   },
   "source": [
    "### Get a Recommendation Based on Genres\n",
    "The final code that will be impletented in a cleaner fashion through the browser interface."
   ]
  },
  {
   "cell_type": "code",
   "execution_count": null,
   "metadata": {},
   "outputs": [],
   "source": [
    "genre_list = 'comedy, horror'"
   ]
  },
  {
   "cell_type": "code",
   "execution_count": null,
   "metadata": {
    "colab": {},
    "colab_type": "code",
    "id": "v5_cW8kncUnn"
   },
   "outputs": [],
   "source": [
    "user_1 = 123711 # user with a medium amount of ratings\n",
    "user_2 = 15078 # user with the lowest number of ratings\n",
    "user_3 = 72315 # user with a lot of ratings\n",
    "recommended_list_1 = set_up_ml(user_1,genre_list) # generate a list of recommendations for each user\n",
    "recommended_list_2 = set_up_ml(user_2,genre_list)\n",
    "recommended_list_3 = set_up_ml(user_3,genre_list)"
   ]
  },
  {
   "cell_type": "code",
   "execution_count": null,
   "metadata": {},
   "outputs": [],
   "source": [
    "def get_final_recommendation(list_1,list_2,list_3): # combine all recommendations\n",
    "    film_recommendation = pd.DataFrame()\n",
    "    film_recommendation = pd.concat([list_1,list_2,list_3]) # concat lists\n",
    "    film_recommendation = film_recommendation.drop_duplicates() # drop recommended duplicates of films\n",
    "    film_recommendation = film_recommendation.sort_values('pred_rating',ascending=False) # sort by predicted rating\n",
    "    film_recommendation.pop('pred_rating') # drop the rating column\n",
    "    film_recommendation = film_recommendation.reset_index()\n",
    "    film_recommendation.pop('index') # reset and pop the old index\n",
    "    a = []\n",
    "    for i in range(0,film_recommendation.shape[0]): # iterate through the dataframe and get the appropriate link for each movie\n",
    "        link = links[links['movieId'] == film_recommendation.iloc[i]['movieId']]\n",
    "        link = 'https://www.themoviedb.org/movie/' + str(int(link.iloc[0][2])) # append the link to the array\n",
    "        a.append(link)\n",
    "    film_recommendation['link'] = a # add the array to the dataframe\n",
    "    film_recommendation.pop('movieId')\n",
    "    return film_recommendation"
   ]
  },
  {
   "cell_type": "code",
   "execution_count": null,
   "metadata": {},
   "outputs": [],
   "source": [
    "final_recommendation = get_final_recommendation(recommended_list_1,recommended_list_2,recommended_list_3)\n",
    "final_recommendation"
   ]
  },
  {
   "cell_type": "markdown",
   "metadata": {
    "colab_type": "text",
    "id": "KK47pKTHcUn1"
   },
   "source": [
    "## Save the Model"
   ]
  },
  {
   "cell_type": "code",
   "execution_count": null,
   "metadata": {
    "colab": {},
    "colab_type": "code",
    "id": "7KYFg3sGcUn3"
   },
   "outputs": [],
   "source": [
    "import pickle\n",
    "filename = 'model/moviEeze_recommender_model_2010_up.sav'\n",
    "pickle.dump(item_based_recommender, open(filename, 'wb'))"
   ]
  },
  {
   "cell_type": "code",
   "execution_count": null,
   "metadata": {},
   "outputs": [],
   "source": [
    "movies.to_csv('datasets/movies_2010.csv',index=False)\n",
    "ratings.to_csv('datasets/ratings_2010.csv',index=False)\n",
    "links.to_csv('datasets/links_2010.csv',index=False)"
   ]
  },
  {
   "cell_type": "code",
   "execution_count": null,
   "metadata": {},
   "outputs": [],
   "source": []
  }
 ],
 "metadata": {
  "accelerator": "TPU",
  "colab": {
   "machine_shape": "hm",
   "name": "aies-fp-toddmccullough.ipynb",
   "provenance": []
  },
  "kernelspec": {
   "display_name": "Python 3",
   "language": "python",
   "name": "python3"
  },
  "language_info": {
   "codemirror_mode": {
    "name": "ipython",
    "version": 3
   },
   "file_extension": ".py",
   "mimetype": "text/x-python",
   "name": "python",
   "nbconvert_exporter": "python",
   "pygments_lexer": "ipython3",
   "version": "3.7.6"
  }
 },
 "nbformat": 4,
 "nbformat_minor": 1
}

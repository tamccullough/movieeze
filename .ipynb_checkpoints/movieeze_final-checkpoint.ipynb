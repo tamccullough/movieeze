{
 "cells": [
  {
   "cell_type": "markdown",
   "metadata": {
    "colab_type": "text",
    "id": "POoF8p4QcUmr"
   },
   "source": [
    "### MoviEeze - Data Analysis and Model Creation\n",
    "* Todd McCullough [Git](https://github.com/tamccullough)"
   ]
  },
  {
   "cell_type": "code",
   "execution_count": 1,
   "metadata": {
    "colab": {},
    "colab_type": "code",
    "id": "l00RRDJicUmu"
   },
   "outputs": [],
   "source": [
    "import numpy as np\n",
    "import pandas as pd\n",
    "import heapq\n",
    "from math import floor"
   ]
  },
  {
   "cell_type": "markdown",
   "metadata": {
    "colab_type": "text",
    "id": "vFsHbsfIcUm0"
   },
   "source": [
    "##### Import Surprise\n",
    "[Surprise](http://surpriselib.com/) is a Python scikit building and analyzing recommender systems that deal with explicit rating data."
   ]
  },
  {
   "cell_type": "code",
   "execution_count": 2,
   "metadata": {
    "colab": {
     "base_uri": "https://localhost:8080/",
     "height": 285
    },
    "colab_type": "code",
    "id": "C4ZnQsIPcUm0",
    "outputId": "c3933209-efd5-4ea2-af1a-d80f1bbdaec2"
   },
   "outputs": [],
   "source": [
    "from surprise import Reader, Dataset\n",
    "from surprise import KNNWithMeans\n",
    "from surprise.model_selection import cross_validate"
   ]
  },
  {
   "cell_type": "code",
   "execution_count": 3,
   "metadata": {},
   "outputs": [],
   "source": [
    "import pickle\n",
    "filename = 'model/moviEeze_recommender_model_2010_up.sav'\n",
    "ml_model = pickle.load(open(filename, 'rb'))"
   ]
  },
  {
   "cell_type": "markdown",
   "metadata": {
    "colab_type": "text",
    "id": "QLCslG6CcUm5"
   },
   "source": [
    "##### Import Data"
   ]
  },
  {
   "cell_type": "code",
   "execution_count": 4,
   "metadata": {},
   "outputs": [],
   "source": [
    "movies = pd.read_csv('datasets/movies_2010.csv')\n",
    "ratings = pd.read_csv('datasets/ratings_2010.csv')\n",
    "links = pd.read_csv('datasets/links_2010.csv')\n",
    "genre_image_list = pd.read_csv('datasets/genre_image_list.csv')\n",
    "genre_image_list = genre_image_list['image'].values"
   ]
  },
  {
   "cell_type": "code",
   "execution_count": 5,
   "metadata": {},
   "outputs": [
    {
     "data": {
      "text/plain": [
       "array(['actionadventure.jpg', 'actioncomedy.jpg',\n",
       "       'actioncrimethriller.jpg', 'actiondrama.jpg', 'action.jpg',\n",
       "       'actionthriller.jpg', 'adventure.jpg', 'animationaction.jpg',\n",
       "       'animation.jpg', 'childrendrama.jpg', 'comedyaction.jpg',\n",
       "       'comedyanimation.jpg', 'comedydrama.jpg', 'comedydramaromance.jpg',\n",
       "       'comedyhorror.jpg', 'comedy.jpg', 'comedyromance.jpg',\n",
       "       'crimedrama.jpg', 'crimedramathriller.jpg', 'crimethriller.jpg',\n",
       "       'documentary.jpg', 'dramaaction.jpg', 'dramahorrorthriller.jpg',\n",
       "       'drama.jpg', 'dramamysterythriller.jpg', 'dramaromance.jpg',\n",
       "       'dramathriller.jpg', 'dramawar.jpg', 'fantasy.jpg',\n",
       "       'horroraction.jpg', 'horrordrama.jpg', 'horror.jpg',\n",
       "       'horrorthriller.jpg', 'romance.jpg', 'sci-fi.jpg', 'thriller.jpg'],\n",
       "      dtype=object)"
      ]
     },
     "execution_count": 5,
     "metadata": {},
     "output_type": "execute_result"
    }
   ],
   "source": [
    "genre_image_list"
   ]
  },
  {
   "cell_type": "markdown",
   "metadata": {
    "colab_type": "text",
    "id": "PIic1IXpcUni"
   },
   "source": [
    "### Inference\n",
    "\n",
    "The main function to run the model and get inferences"
   ]
  },
  {
   "cell_type": "code",
   "execution_count": 6,
   "metadata": {
    "colab": {},
    "colab_type": "code",
    "id": "RHzb3os8cUni"
   },
   "outputs": [],
   "source": [
    "def get_r(user_id):\n",
    "    # Select which system to use. Due to memory constraints, item based is the only viable option\n",
    "    recommender_system = ml_model\n",
    "    # N will represent how many items to recommend\n",
    "    N = 2000\n",
    "\n",
    "    # The setting to a set and back to list is a failsafe.\n",
    "    rated_items = list(set(ratings.loc[ratings['userId'] == user_id]['movieId'].tolist()))\n",
    "    ratings_list = movies['movieId'].values.tolist()\n",
    "    reduced_ratings = ratings.loc[ratings['movieId'].isin(ratings_list)].copy()\n",
    "\n",
    "    # Self explanitory name\n",
    "    all_item_ids = list(set(reduced_ratings['movieId'].tolist()))\n",
    "\n",
    "    # New_items just represents all the items not rated by the user\n",
    "    new_items = [x for x in all_item_ids if x not in rated_items]\n",
    "\n",
    "    # Estimate ratings for all unrated items\n",
    "    predicted_ratings = {}\n",
    "    for item_id in new_items:\n",
    "        predicted_ratings[item_id] = recommender_system.predict(user_id, item_id).est\n",
    "        pass\n",
    "\n",
    "    # Get the item_ids for the top ratings\n",
    "    recommended_ids = heapq.nlargest(N, predicted_ratings, key=predicted_ratings.get)\n",
    "    recommended_ids = sorted(recommended_ids)\n",
    "\n",
    "    # predicted_ratings\n",
    "    recommended_df = movies.loc[movies['movieId'].isin(recommended_ids)].copy()\n",
    "    #recommended_df.insert(1, 'pred_rating', np.zeros(len(recommended_ids)))\n",
    "    recommended_df.insert(1, 'pred_rating', 0)\n",
    "\n",
    "    # recommended_df = movies.copy()\n",
    "    for idx,item_id in enumerate(recommended_ids):\n",
    "        recommended_df.iloc[idx, recommended_df.columns.get_loc('pred_rating')] = int(predicted_ratings[item_id])\n",
    "        pass\n",
    "    return recommended_df.head(N).sort_values('pred_rating', ascending=False)\n",
    "\n",
    "def cap_str(item):\n",
    "    string = item\n",
    "    return string.capitalize()"
   ]
  },
  {
   "cell_type": "code",
   "execution_count": 66,
   "metadata": {
    "colab": {},
    "colab_type": "code",
    "id": "RHzb3os8cUni"
   },
   "outputs": [],
   "source": [
    "def reg_frame(f_list,words):\n",
    "    regex_q = ''\n",
    "    for word in words:\n",
    "        word = word.strip() \n",
    "        if word == 'sci-fi': # get a Upper version of hypenated words\n",
    "            word = 'Sci-Fi'\n",
    "            word = f'(?=.*{word})' # place the word in a regex query\n",
    "            regex_q += word\n",
    "        elif word == 'film-noir':\n",
    "            word = 'Film-Noir'\n",
    "            word = f'(?=.*{word})' # place the word in a regex query\n",
    "            regex_q += word\n",
    "        else:\n",
    "            word = cap_str(word) # Uppercase the first letter\n",
    "            word = f'(?=.*{word})' # place the word in a regex query\n",
    "            regex_q += word\n",
    "    regex_q\n",
    "    f_list = f_list[f_list['genres'].str.contains(fr'^\\b{regex_q}\\b',regex=True)]\n",
    "    return f_list"
   ]
  },
  {
   "cell_type": "code",
   "execution_count": 8,
   "metadata": {
    "colab": {},
    "colab_type": "code",
    "id": "RHzb3os8cUni"
   },
   "outputs": [],
   "source": [
    "def set_up_ml(user_id,genre_list):\n",
    "    words = genre_list.split(',')\n",
    "    for word in words:\n",
    "        if word == 'Comedy' or word == 'Drama' or word == 'Horror' or word == 'Thriller' or word == 'Documentary':\n",
    "            genre = word\n",
    "            words.remove(word)\n",
    "            words.insert(0, genre)\n",
    "        if word == 'comedy' or word == 'drama' or word == 'horror' or word == 'thriller' or word == 'documentary':\n",
    "            genre = word\n",
    "            words.remove(word)\n",
    "            words.insert(0, genre)\n",
    "        else:\n",
    "            pass\n",
    "    film_list = get_r(user_id)\n",
    "    film_list = reg_frame(film_list,words)\n",
    "    film_list.pop('date')\n",
    "    return film_list"
   ]
  },
  {
   "cell_type": "code",
   "execution_count": 59,
   "metadata": {},
   "outputs": [],
   "source": [
    "def get_final_recommendation(list_1,list_2,list_3): # combine all recommendations\n",
    "    film_recommendation = pd.DataFrame()\n",
    "    film_recommendation = pd.concat([list_1,list_2,list_3]) # concat lists\n",
    "    film_recommendation = film_recommendation.sort_values('pred_rating',ascending=False) # sort by predicted rating\n",
    "    film_recommendation.pop('pred_rating') # drop the rating column\n",
    "    film_recommendation = film_recommendation.reset_index()\n",
    "    film_recommendation.pop('index') # reset and pop the old index\n",
    "    a = []\n",
    "    b = []\n",
    "    for i in range(0,film_recommendation.shape[0]): # iterate through the dataframe and get the appropriate link for each movie\n",
    "        link = links[links['movieId'] == film_recommendation.iloc[i]['movieId']]\n",
    "        link = 'https://www.themoviedb.org/movie/' + str(int(link.iloc[0][2])) # append the link to the array\n",
    "        a.append(link)\n",
    "        genres = film_recommendation.iloc[i]['genres']\n",
    "        genres = genres.split('|')\n",
    "        for genre in genres: # get the most popular categories and place them first in the list\n",
    "            genre = str(genre)\n",
    "            if genre == 'Comedy' or genre == 'Drama' or genre == 'Horror' or genre == 'Animation':\n",
    "                genre = genre\n",
    "                genres.remove(genre)\n",
    "                genres.insert(0, genre)\n",
    "            else:\n",
    "                pass\n",
    "        for genre in genres: # Comedy is the most popular, so it always needs to be first\n",
    "            genre = str(genre)\n",
    "            if genre == 'Comedy':\n",
    "                genre = genre\n",
    "                genres.remove(genre)\n",
    "                genres.insert(0, genre)\n",
    "            else:\n",
    "                pass\n",
    "        if len(genres) == 1:\n",
    "            genre1 = genres[0]\n",
    "            genre = genre1.lower() + '.jpg'\n",
    "        else:\n",
    "            genre1 = genres[0]\n",
    "            genre2 = genres[1]\n",
    "            genre = genre1.lower() + genre2.lower() + '.jpg'\n",
    "        b.append(genre)\n",
    "    film_recommendation['link'] = a # add the array to the dataframe\n",
    "    film_recommendation['image'] = b\n",
    "    film_recommendation.pop('movieId')\n",
    "    film_recommendation = film_recommendation.drop_duplicates() # drop recommended duplicates of films\n",
    "    film_recommendation = film_recommendation.reset_index()\n",
    "    film_recommendation.pop('index')\n",
    "    for i in range(0,film_recommendation.shape[0]):\n",
    "        image = film_recommendation.iloc[i]['image']\n",
    "        if image in genre_image_list:\n",
    "            pass\n",
    "        else:\n",
    "            genres = film_recommendation.iloc[i]['genres']\n",
    "            genres = genres.split('|')\n",
    "            for genre in genres: # get the most popular categories and place them first in the list\n",
    "                genre = str(genre)\n",
    "                if genre == 'Comedy' or genre == 'Drama' or genre == 'Horror' or genre == 'Animation' or genre == 'Action' or genre == 'Romance' or genre == 'Documentary':\n",
    "                    genre = genre + '.jpg'\n",
    "                    film_recommendation.at[i,'image'] = genre.lower()\n",
    "                    break\n",
    "                else:\n",
    "                    pass\n",
    "    return film_recommendation"
   ]
  },
  {
   "cell_type": "markdown",
   "metadata": {
    "colab_type": "text",
    "id": "iMVG1i3mcUnm"
   },
   "source": [
    "### Get a Recommendation Based on Genres\n",
    "The final code that will be impletented in a cleaner fashion through the browser interface."
   ]
  },
  {
   "cell_type": "code",
   "execution_count": 48,
   "metadata": {},
   "outputs": [],
   "source": [
    "users = pd.read_csv('datasets/users.csv')\n",
    "users = users.users.values"
   ]
  },
  {
   "cell_type": "code",
   "execution_count": 50,
   "metadata": {},
   "outputs": [
    {
     "data": {
      "text/plain": [
       "array([   187,    548,    606, ..., 162286, 162334, 162516])"
      ]
     },
     "execution_count": 50,
     "metadata": {},
     "output_type": "execute_result"
    }
   ],
   "source": [
    "users"
   ]
  },
  {
   "cell_type": "code",
   "execution_count": 51,
   "metadata": {},
   "outputs": [],
   "source": [
    "import random"
   ]
  },
  {
   "cell_type": "code",
   "execution_count": 60,
   "metadata": {},
   "outputs": [
    {
     "data": {
      "text/plain": [
       "60778"
      ]
     },
     "execution_count": 60,
     "metadata": {},
     "output_type": "execute_result"
    }
   ],
   "source": [
    "random.choice(users)"
   ]
  },
  {
   "cell_type": "code",
   "execution_count": 61,
   "metadata": {},
   "outputs": [],
   "source": [
    "genre_list = 'sci-fi'"
   ]
  },
  {
   "cell_type": "code",
   "execution_count": 70,
   "metadata": {
    "colab": {},
    "colab_type": "code",
    "id": "v5_cW8kncUnn"
   },
   "outputs": [],
   "source": [
    "user_1 = random.choice(users)\n",
    "user_2 = random.choice(users)\n",
    "user_3 = random.choice(users)"
   ]
  },
  {
   "cell_type": "code",
   "execution_count": 71,
   "metadata": {
    "colab": {},
    "colab_type": "code",
    "id": "v5_cW8kncUnn"
   },
   "outputs": [],
   "source": [
    "recommended_list_1 = set_up_ml(user_1,genre_list) # generate a list of recommendations for each user\n",
    "recommended_list_2 = set_up_ml(user_2,genre_list)\n",
    "recommended_list_3 = set_up_ml(user_3,genre_list)"
   ]
  },
  {
   "cell_type": "code",
   "execution_count": 72,
   "metadata": {},
   "outputs": [],
   "source": [
    "final_recommendation = get_final_recommendation(recommended_list_1,recommended_list_2,recommended_list_3)"
   ]
  },
  {
   "cell_type": "code",
   "execution_count": 73,
   "metadata": {},
   "outputs": [
    {
     "data": {
      "text/html": [
       "<div>\n",
       "<style scoped>\n",
       "    .dataframe tbody tr th:only-of-type {\n",
       "        vertical-align: middle;\n",
       "    }\n",
       "\n",
       "    .dataframe tbody tr th {\n",
       "        vertical-align: top;\n",
       "    }\n",
       "\n",
       "    .dataframe thead th {\n",
       "        text-align: right;\n",
       "    }\n",
       "</style>\n",
       "<table border=\"1\" class=\"dataframe\">\n",
       "  <thead>\n",
       "    <tr style=\"text-align: right;\">\n",
       "      <th></th>\n",
       "      <th>title</th>\n",
       "      <th>genres</th>\n",
       "      <th>link</th>\n",
       "      <th>image</th>\n",
       "    </tr>\n",
       "  </thead>\n",
       "  <tbody>\n",
       "    <tr>\n",
       "      <th>0</th>\n",
       "      <td>Avengers: Infinity War - Part II (2019)</td>\n",
       "      <td>Action|Adventure|Sci-Fi</td>\n",
       "      <td>https://www.themoviedb.org/movie/299534</td>\n",
       "      <td>actionadventure.jpg</td>\n",
       "    </tr>\n",
       "    <tr>\n",
       "      <th>1</th>\n",
       "      <td>Spider-Man: Into the Spider-Verse (2018)</td>\n",
       "      <td>Action|Adventure|Animation|Sci-Fi</td>\n",
       "      <td>https://www.themoviedb.org/movie/324857</td>\n",
       "      <td>animationaction.jpg</td>\n",
       "    </tr>\n",
       "    <tr>\n",
       "      <th>2</th>\n",
       "      <td>Blade Runner 2049 (2017)</td>\n",
       "      <td>Sci-Fi</td>\n",
       "      <td>https://www.themoviedb.org/movie/335984</td>\n",
       "      <td>sci-fi.jpg</td>\n",
       "    </tr>\n",
       "    <tr>\n",
       "      <th>3</th>\n",
       "      <td>Upgrade (2018)</td>\n",
       "      <td>Action|Comedy|Horror|Sci-Fi|Thriller</td>\n",
       "      <td>https://www.themoviedb.org/movie/500664</td>\n",
       "      <td>comedyhorror.jpg</td>\n",
       "    </tr>\n",
       "    <tr>\n",
       "      <th>4</th>\n",
       "      <td>Ant-Man and the Wasp (2018)</td>\n",
       "      <td>Action|Adventure|Comedy|Fantasy|Sci-Fi</td>\n",
       "      <td>https://www.themoviedb.org/movie/363088</td>\n",
       "      <td>comedyaction.jpg</td>\n",
       "    </tr>\n",
       "    <tr>\n",
       "      <th>...</th>\n",
       "      <td>...</td>\n",
       "      <td>...</td>\n",
       "      <td>...</td>\n",
       "      <td>...</td>\n",
       "    </tr>\n",
       "    <tr>\n",
       "      <th>188</th>\n",
       "      <td>Predators (2010)</td>\n",
       "      <td>Action|Sci-Fi|Thriller</td>\n",
       "      <td>https://www.themoviedb.org/movie/34851</td>\n",
       "      <td>action.jpg</td>\n",
       "    </tr>\n",
       "    <tr>\n",
       "      <th>189</th>\n",
       "      <td>Transformers: Age of Extinction (2014)</td>\n",
       "      <td>Action|Adventure|Sci-Fi</td>\n",
       "      <td>https://www.themoviedb.org/movie/91314</td>\n",
       "      <td>actionadventure.jpg</td>\n",
       "    </tr>\n",
       "    <tr>\n",
       "      <th>190</th>\n",
       "      <td>Divergent (2014)</td>\n",
       "      <td>Adventure|Romance|Sci-Fi|IMAX</td>\n",
       "      <td>https://www.themoviedb.org/movie/157350</td>\n",
       "      <td>romance.jpg</td>\n",
       "    </tr>\n",
       "    <tr>\n",
       "      <th>191</th>\n",
       "      <td>Resident Evil: Afterlife (2010)</td>\n",
       "      <td>Action|Horror|Sci-Fi|Thriller|IMAX</td>\n",
       "      <td>https://www.themoviedb.org/movie/35791</td>\n",
       "      <td>horroraction.jpg</td>\n",
       "    </tr>\n",
       "    <tr>\n",
       "      <th>192</th>\n",
       "      <td>Maze Runner: The Death Cure (2018)</td>\n",
       "      <td>Action|Mystery|Sci-Fi|Thriller</td>\n",
       "      <td>https://www.themoviedb.org/movie/336843</td>\n",
       "      <td>action.jpg</td>\n",
       "    </tr>\n",
       "  </tbody>\n",
       "</table>\n",
       "<p>193 rows × 4 columns</p>\n",
       "</div>"
      ],
      "text/plain": [
       "                                        title  \\\n",
       "0     Avengers: Infinity War - Part II (2019)   \n",
       "1    Spider-Man: Into the Spider-Verse (2018)   \n",
       "2                    Blade Runner 2049 (2017)   \n",
       "3                              Upgrade (2018)   \n",
       "4                 Ant-Man and the Wasp (2018)   \n",
       "..                                        ...   \n",
       "188                          Predators (2010)   \n",
       "189    Transformers: Age of Extinction (2014)   \n",
       "190                          Divergent (2014)   \n",
       "191           Resident Evil: Afterlife (2010)   \n",
       "192        Maze Runner: The Death Cure (2018)   \n",
       "\n",
       "                                     genres  \\\n",
       "0                   Action|Adventure|Sci-Fi   \n",
       "1         Action|Adventure|Animation|Sci-Fi   \n",
       "2                                    Sci-Fi   \n",
       "3      Action|Comedy|Horror|Sci-Fi|Thriller   \n",
       "4    Action|Adventure|Comedy|Fantasy|Sci-Fi   \n",
       "..                                      ...   \n",
       "188                  Action|Sci-Fi|Thriller   \n",
       "189                 Action|Adventure|Sci-Fi   \n",
       "190           Adventure|Romance|Sci-Fi|IMAX   \n",
       "191      Action|Horror|Sci-Fi|Thriller|IMAX   \n",
       "192          Action|Mystery|Sci-Fi|Thriller   \n",
       "\n",
       "                                        link                image  \n",
       "0    https://www.themoviedb.org/movie/299534  actionadventure.jpg  \n",
       "1    https://www.themoviedb.org/movie/324857  animationaction.jpg  \n",
       "2    https://www.themoviedb.org/movie/335984           sci-fi.jpg  \n",
       "3    https://www.themoviedb.org/movie/500664     comedyhorror.jpg  \n",
       "4    https://www.themoviedb.org/movie/363088     comedyaction.jpg  \n",
       "..                                       ...                  ...  \n",
       "188   https://www.themoviedb.org/movie/34851           action.jpg  \n",
       "189   https://www.themoviedb.org/movie/91314  actionadventure.jpg  \n",
       "190  https://www.themoviedb.org/movie/157350          romance.jpg  \n",
       "191   https://www.themoviedb.org/movie/35791     horroraction.jpg  \n",
       "192  https://www.themoviedb.org/movie/336843           action.jpg  \n",
       "\n",
       "[193 rows x 4 columns]"
      ]
     },
     "execution_count": 73,
     "metadata": {},
     "output_type": "execute_result"
    }
   ],
   "source": [
    "final_recommendation"
   ]
  },
  {
   "cell_type": "code",
   "execution_count": null,
   "metadata": {},
   "outputs": [],
   "source": []
  }
 ],
 "metadata": {
  "accelerator": "TPU",
  "colab": {
   "machine_shape": "hm",
   "name": "aies-fp-toddmccullough.ipynb",
   "provenance": []
  },
  "kernelspec": {
   "display_name": "Python 3",
   "language": "python",
   "name": "python3"
  },
  "language_info": {
   "codemirror_mode": {
    "name": "ipython",
    "version": 3
   },
   "file_extension": ".py",
   "mimetype": "text/x-python",
   "name": "python",
   "nbconvert_exporter": "python",
   "pygments_lexer": "ipython3",
   "version": "3.7.6"
  }
 },
 "nbformat": 4,
 "nbformat_minor": 1
}

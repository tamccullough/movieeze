{
 "cells": [
  {
   "cell_type": "markdown",
   "metadata": {
    "colab_type": "text",
    "id": "POoF8p4QcUmr"
   },
   "source": [
    "### MoviEeze - Data Analysis and Model Creation\n",
    "* Todd McCullough [Git](https://github.com/tamccullough)"
   ]
  },
  {
   "cell_type": "code",
   "execution_count": 1,
   "metadata": {
    "colab": {},
    "colab_type": "code",
    "id": "l00RRDJicUmu"
   },
   "outputs": [],
   "source": [
    "import numpy as np\n",
    "import pandas as pd\n",
    "import heapq\n",
    "from math import floor"
   ]
  },
  {
   "cell_type": "markdown",
   "metadata": {
    "colab_type": "text",
    "id": "vFsHbsfIcUm0"
   },
   "source": [
    "##### Import Surprise\n",
    "[Surprise](http://surpriselib.com/) is a Python scikit building and analyzing recommender systems that deal with explicit rating data."
   ]
  },
  {
   "cell_type": "code",
   "execution_count": 2,
   "metadata": {
    "colab": {
     "base_uri": "https://localhost:8080/",
     "height": 285
    },
    "colab_type": "code",
    "id": "C4ZnQsIPcUm0",
    "outputId": "c3933209-efd5-4ea2-af1a-d80f1bbdaec2"
   },
   "outputs": [],
   "source": [
    "from surprise import Reader, Dataset\n",
    "from surprise import KNNWithMeans\n",
    "from surprise.model_selection import cross_validate"
   ]
  },
  {
   "cell_type": "code",
   "execution_count": 19,
   "metadata": {},
   "outputs": [],
   "source": [
    "import pickle\n",
    "filename = 'model/moviEeze_recommender_model_2010_up.sav'\n",
    "ml_model = pickle.load(open(filename, 'rb'))"
   ]
  },
  {
   "cell_type": "markdown",
   "metadata": {
    "colab_type": "text",
    "id": "QLCslG6CcUm5"
   },
   "source": [
    "##### Import Data"
   ]
  },
  {
   "cell_type": "code",
   "execution_count": 20,
   "metadata": {},
   "outputs": [],
   "source": [
    "movies = pd.read_csv('datasets/movies_2010.csv')\n",
    "ratings = pd.read_csv('datasets/ratings_2010.csv')\n",
    "links = pd.read_csv('datasets/links_2010.csv')\n",
    "#tags = "
   ]
  },
  {
   "cell_type": "code",
   "execution_count": 21,
   "metadata": {},
   "outputs": [],
   "source": [
    "genres = pd.DataFrame(movies.genres,columns=['genres'])\n",
    "genres['count'] = 1"
   ]
  },
  {
   "cell_type": "code",
   "execution_count": 22,
   "metadata": {},
   "outputs": [],
   "source": [
    "genres_g = genres.groupby('genres').count().reset_index()\n",
    "genres_g = genres_g.sort_values('count', ascending=False)\n",
    "genres_image_list = genres_g.genres.head(28).values"
   ]
  },
  {
   "cell_type": "code",
   "execution_count": 23,
   "metadata": {},
   "outputs": [],
   "source": [
    "a = []\n",
    "for item in genres_image_list:\n",
    "    split = item.split('|')\n",
    "    #print('the item',split,'\\n')\n",
    "    b = []\n",
    "    c= []\n",
    "    for i in split:\n",
    "        b.append(i)\n",
    "    a.append(b)"
   ]
  },
  {
   "cell_type": "code",
   "execution_count": 24,
   "metadata": {},
   "outputs": [],
   "source": [
    "b = []\n",
    "for i in range(0,len(a)):\n",
    "    if len(a[i]) > 1:\n",
    "        l = ''\n",
    "        for j in range(0,len(a[i])):\n",
    "            l += a[i][j]\n",
    "        b.append(l.lower())\n",
    "    else:\n",
    "        genre = str(a[i][0])\n",
    "        b.append(genre.lower())"
   ]
  },
  {
   "cell_type": "code",
   "execution_count": 33,
   "metadata": {},
   "outputs": [],
   "source": [
    "genre_image_list = pd.DataFrame(b,columns=['genre'])\n",
    "genre_image_list['image'] = genre_image_list['genre'] + '.jpg'\n",
    "genre_image_list.to_csv('datasets/genre_image_list.csv',index=False)"
   ]
  },
  {
   "cell_type": "markdown",
   "metadata": {
    "colab_type": "text",
    "id": "PIic1IXpcUni"
   },
   "source": [
    "### Inference\n",
    "\n",
    "The main function to run the model and get inferences"
   ]
  },
  {
   "cell_type": "code",
   "execution_count": 10,
   "metadata": {
    "colab": {},
    "colab_type": "code",
    "id": "RHzb3os8cUni"
   },
   "outputs": [],
   "source": [
    "def get_r(user_id):\n",
    "    # Select which system to use. Due to memory constraints, item based is the only viable option\n",
    "    recommender_system = ml_model\n",
    "    # N will represent how many items to recommend\n",
    "    N = 2000\n",
    "\n",
    "    # The setting to a set and back to list is a failsafe.\n",
    "    rated_items = list(set(ratings.loc[ratings['userId'] == user_id]['movieId'].tolist()))\n",
    "    ratings_list = movies['movieId'].values.tolist()\n",
    "    reduced_ratings = ratings.loc[ratings['movieId'].isin(ratings_list)].copy()\n",
    "\n",
    "    # Self explanitory name\n",
    "    all_item_ids = list(set(reduced_ratings['movieId'].tolist()))\n",
    "\n",
    "    # New_items just represents all the items not rated by the user\n",
    "    new_items = [x for x in all_item_ids if x not in rated_items]\n",
    "\n",
    "    # Estimate ratings for all unrated items\n",
    "    predicted_ratings = {}\n",
    "    for item_id in new_items:\n",
    "        predicted_ratings[item_id] = recommender_system.predict(user_id, item_id).est\n",
    "        pass\n",
    "\n",
    "    # Get the item_ids for the top ratings\n",
    "    recommended_ids = heapq.nlargest(N, predicted_ratings, key=predicted_ratings.get)\n",
    "    recommended_ids = sorted(recommended_ids)\n",
    "\n",
    "    # predicted_ratings\n",
    "    recommended_df = movies.loc[movies['movieId'].isin(recommended_ids)].copy()\n",
    "    #recommended_df.insert(1, 'pred_rating', np.zeros(len(recommended_ids)))\n",
    "    recommended_df.insert(1, 'pred_rating', 0)\n",
    "\n",
    "    # recommended_df = movies.copy()\n",
    "    for idx,item_id in enumerate(recommended_ids):\n",
    "        recommended_df.iloc[idx, recommended_df.columns.get_loc('pred_rating')] = int(predicted_ratings[item_id])\n",
    "        pass\n",
    "    return recommended_df.head(N).sort_values('pred_rating', ascending=False)\n",
    "\n",
    "def cap_str(item):\n",
    "    string = item\n",
    "    return string.capitalize()\n",
    "\n",
    "def reg_frame(f_list,items):\n",
    "    s_ = ''\n",
    "    for i in items:\n",
    "        j = i.strip()\n",
    "        j = cap_str(j)\n",
    "        str_ = f'(?=.*{j})'\n",
    "        s_ += str_\n",
    "    s_\n",
    "    f_list = f_list[f_list['genres'].str.contains(fr'^\\b{s_}\\b',regex=True)]\n",
    "    return f_list\n",
    "\n",
    "def set_up_ml(user_id,genre_list):\n",
    "    film_list = get_r(user_id)\n",
    "    items = genre_list.split(',')\n",
    "    film_list = reg_frame(film_list,items)\n",
    "    film_list.pop('date')\n",
    "    return film_list"
   ]
  },
  {
   "cell_type": "markdown",
   "metadata": {
    "colab_type": "text",
    "id": "iMVG1i3mcUnm"
   },
   "source": [
    "### Get a Recommendation Based on Genres\n",
    "The final code that will be impletented in a cleaner fashion through the browser interface."
   ]
  },
  {
   "cell_type": "code",
   "execution_count": 107,
   "metadata": {},
   "outputs": [],
   "source": [
    "genre_list = 'comedy, romance'"
   ]
  },
  {
   "cell_type": "code",
   "execution_count": 108,
   "metadata": {
    "colab": {},
    "colab_type": "code",
    "id": "v5_cW8kncUnn"
   },
   "outputs": [],
   "source": [
    "user_1 = 123711 # user with a medium amount of ratings\n",
    "user_2 = 15078 # user with the lowest number of ratings\n",
    "user_3 = 72315 # user with a lot of ratings\n",
    "recommended_list_1 = set_up_ml(user_1,genre_list) # generate a list of recommendations for each user\n",
    "recommended_list_2 = set_up_ml(user_2,genre_list)\n",
    "recommended_list_3 = set_up_ml(user_3,genre_list)"
   ]
  },
  {
   "cell_type": "code",
   "execution_count": 109,
   "metadata": {},
   "outputs": [],
   "source": [
    "def get_final_recommendation(list_1,list_2,list_3): # combine all recommendations\n",
    "    film_recommendation = pd.DataFrame()\n",
    "    film_recommendation = pd.concat([list_1,list_2,list_3]) # concat lists\n",
    "    film_recommendation = film_recommendation.drop_duplicates() # drop recommended duplicates of films\n",
    "    film_recommendation = film_recommendation.sort_values('pred_rating',ascending=False) # sort by predicted rating\n",
    "    film_recommendation.pop('pred_rating') # drop the rating column\n",
    "    film_recommendation = film_recommendation.reset_index()\n",
    "    film_recommendation.pop('index') # reset and pop the old index\n",
    "    a = []\n",
    "    b = []\n",
    "    for i in range(0,film_recommendation.shape[0]): # iterate through the dataframe and get the appropriate link for each movie\n",
    "        link = links[links['movieId'] == film_recommendation.iloc[i]['movieId']]\n",
    "        link = 'https://www.themoviedb.org/movie/' + str(int(link.iloc[0][2])) # append the link to the array\n",
    "        a.append(link)\n",
    "        genres = film_recommendation.iloc[i]['genres']\n",
    "        genres = genres.split('|')\n",
    "        genre1 = genres[0]\n",
    "        genre2 = genres[1]\n",
    "        genre = genre1.lower() + genre2.lower()\n",
    "        #if genre.isin()\n",
    "        b.append(genre)\n",
    "    film_recommendation['link'] = a # add the array to the dataframe\n",
    "    film_recommendation['image'] = b\n",
    "    film_recommendation.pop('movieId')\n",
    "    if film_recommendation['image'].isin(genre_image_list['genre']).any():\n",
    "        a = []\n",
    "        for i in range(0,film_recommendation.shape[0]):\n",
    "            image = genre_image_list[genre_image_list['genre'] == film_recommendation.iloc[i]['image'] ]\n",
    "            if image.empty:\n",
    "                image = film_recommendation.iloc[i]['genres']\n",
    "                image = image.split('|')\n",
    "                image = image[0]+ '.jpg'\n",
    "                image = image.lower()\n",
    "                a.append(image)\n",
    "            else:\n",
    "                image = image.reset_index()\n",
    "                image.pop('index')\n",
    "                image = image.iloc[0]['image']\n",
    "                a.append(image)\n",
    "    film_recommendation['image'] = a\n",
    "    return film_recommendation"
   ]
  },
  {
   "cell_type": "code",
   "execution_count": 110,
   "metadata": {},
   "outputs": [
    {
     "data": {
      "text/html": [
       "<div>\n",
       "<style scoped>\n",
       "    .dataframe tbody tr th:only-of-type {\n",
       "        vertical-align: middle;\n",
       "    }\n",
       "\n",
       "    .dataframe tbody tr th {\n",
       "        vertical-align: top;\n",
       "    }\n",
       "\n",
       "    .dataframe thead th {\n",
       "        text-align: right;\n",
       "    }\n",
       "</style>\n",
       "<table border=\"1\" class=\"dataframe\">\n",
       "  <thead>\n",
       "    <tr style=\"text-align: right;\">\n",
       "      <th></th>\n",
       "      <th>title</th>\n",
       "      <th>genres</th>\n",
       "      <th>link</th>\n",
       "      <th>image</th>\n",
       "    </tr>\n",
       "  </thead>\n",
       "  <tbody>\n",
       "    <tr>\n",
       "      <th>0</th>\n",
       "      <td>Seeking a Friend for the End of the World (2012)</td>\n",
       "      <td>Comedy|Drama|Romance</td>\n",
       "      <td>https://www.themoviedb.org/movie/88005</td>\n",
       "      <td>comedydrama.jpg</td>\n",
       "    </tr>\n",
       "    <tr>\n",
       "      <th>1</th>\n",
       "      <td>Ruby Sparks (2012)</td>\n",
       "      <td>Comedy|Fantasy|Romance</td>\n",
       "      <td>https://www.themoviedb.org/movie/103332</td>\n",
       "      <td>comedy.jpg</td>\n",
       "    </tr>\n",
       "    <tr>\n",
       "      <th>2</th>\n",
       "      <td>Swiss Army Man (2016)</td>\n",
       "      <td>Comedy|Drama|Romance</td>\n",
       "      <td>https://www.themoviedb.org/movie/347031</td>\n",
       "      <td>comedydrama.jpg</td>\n",
       "    </tr>\n",
       "    <tr>\n",
       "      <th>3</th>\n",
       "      <td>Mr. Right (2016)</td>\n",
       "      <td>Action|Comedy|Romance</td>\n",
       "      <td>https://www.themoviedb.org/movie/333385</td>\n",
       "      <td>actioncomedy.jpg</td>\n",
       "    </tr>\n",
       "    <tr>\n",
       "      <th>4</th>\n",
       "      <td>The Big Sick (2017)</td>\n",
       "      <td>Comedy|Romance</td>\n",
       "      <td>https://www.themoviedb.org/movie/416477</td>\n",
       "      <td>comedyromance.jpg</td>\n",
       "    </tr>\n",
       "    <tr>\n",
       "      <th>...</th>\n",
       "      <td>...</td>\n",
       "      <td>...</td>\n",
       "      <td>...</td>\n",
       "      <td>...</td>\n",
       "    </tr>\n",
       "    <tr>\n",
       "      <th>78</th>\n",
       "      <td>Larry Crowne (2011)</td>\n",
       "      <td>Comedy|Drama|Romance</td>\n",
       "      <td>https://www.themoviedb.org/movie/59861</td>\n",
       "      <td>comedydrama.jpg</td>\n",
       "    </tr>\n",
       "    <tr>\n",
       "      <th>79</th>\n",
       "      <td>Bridget Jones's Baby (2016)</td>\n",
       "      <td>Comedy|Romance</td>\n",
       "      <td>https://www.themoviedb.org/movie/95610</td>\n",
       "      <td>comedyromance.jpg</td>\n",
       "    </tr>\n",
       "    <tr>\n",
       "      <th>80</th>\n",
       "      <td>Mamma Mia: Here We Go Again! (2018)</td>\n",
       "      <td>Comedy|Romance</td>\n",
       "      <td>https://www.themoviedb.org/movie/458423</td>\n",
       "      <td>comedyromance.jpg</td>\n",
       "    </tr>\n",
       "    <tr>\n",
       "      <th>81</th>\n",
       "      <td>New Year's Eve (2011)</td>\n",
       "      <td>Comedy|Romance</td>\n",
       "      <td>https://www.themoviedb.org/movie/62838</td>\n",
       "      <td>comedyromance.jpg</td>\n",
       "    </tr>\n",
       "    <tr>\n",
       "      <th>82</th>\n",
       "      <td>Sex and the City 2 (2010)</td>\n",
       "      <td>Comedy|Drama|Romance</td>\n",
       "      <td>https://www.themoviedb.org/movie/37786</td>\n",
       "      <td>comedydrama.jpg</td>\n",
       "    </tr>\n",
       "  </tbody>\n",
       "</table>\n",
       "<p>83 rows × 4 columns</p>\n",
       "</div>"
      ],
      "text/plain": [
       "                                               title                  genres  \\\n",
       "0   Seeking a Friend for the End of the World (2012)    Comedy|Drama|Romance   \n",
       "1                                 Ruby Sparks (2012)  Comedy|Fantasy|Romance   \n",
       "2                              Swiss Army Man (2016)    Comedy|Drama|Romance   \n",
       "3                                   Mr. Right (2016)   Action|Comedy|Romance   \n",
       "4                                The Big Sick (2017)          Comedy|Romance   \n",
       "..                                               ...                     ...   \n",
       "78                               Larry Crowne (2011)    Comedy|Drama|Romance   \n",
       "79                       Bridget Jones's Baby (2016)          Comedy|Romance   \n",
       "80               Mamma Mia: Here We Go Again! (2018)          Comedy|Romance   \n",
       "81                             New Year's Eve (2011)          Comedy|Romance   \n",
       "82                         Sex and the City 2 (2010)    Comedy|Drama|Romance   \n",
       "\n",
       "                                       link              image  \n",
       "0    https://www.themoviedb.org/movie/88005    comedydrama.jpg  \n",
       "1   https://www.themoviedb.org/movie/103332         comedy.jpg  \n",
       "2   https://www.themoviedb.org/movie/347031    comedydrama.jpg  \n",
       "3   https://www.themoviedb.org/movie/333385   actioncomedy.jpg  \n",
       "4   https://www.themoviedb.org/movie/416477  comedyromance.jpg  \n",
       "..                                      ...                ...  \n",
       "78   https://www.themoviedb.org/movie/59861    comedydrama.jpg  \n",
       "79   https://www.themoviedb.org/movie/95610  comedyromance.jpg  \n",
       "80  https://www.themoviedb.org/movie/458423  comedyromance.jpg  \n",
       "81   https://www.themoviedb.org/movie/62838  comedyromance.jpg  \n",
       "82   https://www.themoviedb.org/movie/37786    comedydrama.jpg  \n",
       "\n",
       "[83 rows x 4 columns]"
      ]
     },
     "execution_count": 110,
     "metadata": {},
     "output_type": "execute_result"
    }
   ],
   "source": [
    "final_recommendation = get_final_recommendation(recommended_list_1,recommended_list_2,recommended_list_3)\n",
    "final_recommendation"
   ]
  },
  {
   "cell_type": "code",
   "execution_count": null,
   "metadata": {},
   "outputs": [],
   "source": []
  }
 ],
 "metadata": {
  "accelerator": "TPU",
  "colab": {
   "machine_shape": "hm",
   "name": "aies-fp-toddmccullough.ipynb",
   "provenance": []
  },
  "kernelspec": {
   "display_name": "Python 3",
   "language": "python",
   "name": "python3"
  },
  "language_info": {
   "codemirror_mode": {
    "name": "ipython",
    "version": 3
   },
   "file_extension": ".py",
   "mimetype": "text/x-python",
   "name": "python",
   "nbconvert_exporter": "python",
   "pygments_lexer": "ipython3",
   "version": "3.7.6"
  }
 },
 "nbformat": 4,
 "nbformat_minor": 1
}

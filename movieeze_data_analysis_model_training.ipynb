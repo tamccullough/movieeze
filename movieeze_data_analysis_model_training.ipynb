{
 "cells": [
  {
   "cell_type": "markdown",
   "metadata": {
    "colab_type": "text",
    "id": "POoF8p4QcUmr"
   },
   "source": [
    "# AIES Final Project\n",
    "---\n",
    "* Todd McCullough [Git](https://github.com/tamccullough)\n",
    "---"
   ]
  },
  {
   "cell_type": "markdown",
   "metadata": {
    "colab_type": "text",
    "id": "0uTPtT3GcUmt"
   },
   "source": [
    "### Initialize Modules and Data"
   ]
  },
  {
   "cell_type": "markdown",
   "metadata": {
    "colab_type": "text",
    "id": "duhht7wkcUmu"
   },
   "source": [
    "##### Import the Needed Modules"
   ]
  },
  {
   "cell_type": "code",
   "execution_count": 1,
   "metadata": {
    "colab": {},
    "colab_type": "code",
    "id": "l00RRDJicUmu"
   },
   "outputs": [],
   "source": [
    "import numpy as np\n",
    "import pandas as pd\n",
    "import heapq\n",
    "from math import floor"
   ]
  },
  {
   "cell_type": "markdown",
   "metadata": {
    "colab_type": "text",
    "id": "vFsHbsfIcUm0"
   },
   "source": [
    "##### Import Surprise\n",
    "[Surprise](http://surpriselib.com/) is a Python scikit building and analyzing recommender systems that deal with explicit rating data."
   ]
  },
  {
   "cell_type": "code",
   "execution_count": 2,
   "metadata": {
    "colab": {
     "base_uri": "https://localhost:8080/",
     "height": 285
    },
    "colab_type": "code",
    "id": "C4ZnQsIPcUm0",
    "outputId": "c3933209-efd5-4ea2-af1a-d80f1bbdaec2"
   },
   "outputs": [],
   "source": [
    "from surprise import Reader, Dataset\n",
    "from surprise import KNNWithMeans\n",
    "from surprise.model_selection import cross_validate"
   ]
  },
  {
   "cell_type": "markdown",
   "metadata": {
    "colab_type": "text",
    "id": "QLCslG6CcUm5"
   },
   "source": [
    "##### Import Data"
   ]
  },
  {
   "cell_type": "code",
   "execution_count": 3,
   "metadata": {
    "colab": {},
    "colab_type": "code",
    "id": "JXRz62QwcUm9"
   },
   "outputs": [],
   "source": [
    "movies = pd.read_csv('datasets/movies.csv')\n",
    "users = pd.read_csv('datasets/users.csv')\n",
    "ratings = pd.read_csv('datasets/ratings.csv')"
   ]
  },
  {
   "cell_type": "markdown",
   "metadata": {},
   "source": [
    "### Exploratory Data Analysis\n",
    "\n",
    "This is a dataset provided by [grouplens](https://grouplens.org/datasets/movielens/)\n",
    "\n",
    "The data has already been cleaned and organized, and does not require further manipulation.\n",
    "\n",
    "The beginning 2 rows of each set are being displayed, along with the sets shape."
   ]
  },
  {
   "cell_type": "code",
   "execution_count": 4,
   "metadata": {
    "colab": {},
    "colab_type": "code",
    "id": "QB89EPQ_cUnC"
   },
   "outputs": [
    {
     "data": {
      "text/html": [
       "<div>\n",
       "<style scoped>\n",
       "    .dataframe tbody tr th:only-of-type {\n",
       "        vertical-align: middle;\n",
       "    }\n",
       "\n",
       "    .dataframe tbody tr th {\n",
       "        vertical-align: top;\n",
       "    }\n",
       "\n",
       "    .dataframe thead th {\n",
       "        text-align: right;\n",
       "    }\n",
       "</style>\n",
       "<table border=\"1\" class=\"dataframe\">\n",
       "  <thead>\n",
       "    <tr style=\"text-align: right;\">\n",
       "      <th></th>\n",
       "      <th>movieid</th>\n",
       "      <th>title</th>\n",
       "      <th>genres</th>\n",
       "    </tr>\n",
       "  </thead>\n",
       "  <tbody>\n",
       "    <tr>\n",
       "      <th>0</th>\n",
       "      <td>1</td>\n",
       "      <td>Toy Story (1995)</td>\n",
       "      <td>Animation|Children's|Comedy</td>\n",
       "    </tr>\n",
       "    <tr>\n",
       "      <th>1</th>\n",
       "      <td>2</td>\n",
       "      <td>Jumanji (1995)</td>\n",
       "      <td>Adventure|Children's|Fantasy</td>\n",
       "    </tr>\n",
       "    <tr>\n",
       "      <th>2</th>\n",
       "      <td>3</td>\n",
       "      <td>Grumpier Old Men (1995)</td>\n",
       "      <td>Comedy|Romance</td>\n",
       "    </tr>\n",
       "    <tr>\n",
       "      <th>3</th>\n",
       "      <td>4</td>\n",
       "      <td>Waiting to Exhale (1995)</td>\n",
       "      <td>Comedy|Drama</td>\n",
       "    </tr>\n",
       "    <tr>\n",
       "      <th>4</th>\n",
       "      <td>5</td>\n",
       "      <td>Father of the Bride Part II (1995)</td>\n",
       "      <td>Comedy</td>\n",
       "    </tr>\n",
       "  </tbody>\n",
       "</table>\n",
       "</div>"
      ],
      "text/plain": [
       "   movieid                               title                        genres\n",
       "0        1                    Toy Story (1995)   Animation|Children's|Comedy\n",
       "1        2                      Jumanji (1995)  Adventure|Children's|Fantasy\n",
       "2        3             Grumpier Old Men (1995)                Comedy|Romance\n",
       "3        4            Waiting to Exhale (1995)                  Comedy|Drama\n",
       "4        5  Father of the Bride Part II (1995)                        Comedy"
      ]
     },
     "execution_count": 4,
     "metadata": {},
     "output_type": "execute_result"
    }
   ],
   "source": [
    "movies.head(5)"
   ]
  },
  {
   "cell_type": "code",
   "execution_count": 5,
   "metadata": {},
   "outputs": [
    {
     "data": {
      "text/plain": [
       "(3883, 3)"
      ]
     },
     "execution_count": 5,
     "metadata": {},
     "output_type": "execute_result"
    }
   ],
   "source": [
    "movies.shape"
   ]
  },
  {
   "cell_type": "markdown",
   "metadata": {},
   "source": [
    "We do not require the timestamp column from this set, and therefore it will be dropped."
   ]
  },
  {
   "cell_type": "code",
   "execution_count": 6,
   "metadata": {
    "colab": {},
    "colab_type": "code",
    "id": "ih7rHEttcUnG"
   },
   "outputs": [
    {
     "data": {
      "text/html": [
       "<div>\n",
       "<style scoped>\n",
       "    .dataframe tbody tr th:only-of-type {\n",
       "        vertical-align: middle;\n",
       "    }\n",
       "\n",
       "    .dataframe tbody tr th {\n",
       "        vertical-align: top;\n",
       "    }\n",
       "\n",
       "    .dataframe thead th {\n",
       "        text-align: right;\n",
       "    }\n",
       "</style>\n",
       "<table border=\"1\" class=\"dataframe\">\n",
       "  <thead>\n",
       "    <tr style=\"text-align: right;\">\n",
       "      <th></th>\n",
       "      <th>userid</th>\n",
       "      <th>movieid</th>\n",
       "      <th>rating</th>\n",
       "    </tr>\n",
       "  </thead>\n",
       "  <tbody>\n",
       "    <tr>\n",
       "      <th>0</th>\n",
       "      <td>1</td>\n",
       "      <td>1193</td>\n",
       "      <td>5</td>\n",
       "    </tr>\n",
       "    <tr>\n",
       "      <th>1</th>\n",
       "      <td>1</td>\n",
       "      <td>661</td>\n",
       "      <td>3</td>\n",
       "    </tr>\n",
       "    <tr>\n",
       "      <th>2</th>\n",
       "      <td>1</td>\n",
       "      <td>914</td>\n",
       "      <td>3</td>\n",
       "    </tr>\n",
       "    <tr>\n",
       "      <th>3</th>\n",
       "      <td>1</td>\n",
       "      <td>3408</td>\n",
       "      <td>4</td>\n",
       "    </tr>\n",
       "    <tr>\n",
       "      <th>4</th>\n",
       "      <td>1</td>\n",
       "      <td>2355</td>\n",
       "      <td>5</td>\n",
       "    </tr>\n",
       "  </tbody>\n",
       "</table>\n",
       "</div>"
      ],
      "text/plain": [
       "   userid  movieid  rating\n",
       "0       1     1193       5\n",
       "1       1      661       3\n",
       "2       1      914       3\n",
       "3       1     3408       4\n",
       "4       1     2355       5"
      ]
     },
     "execution_count": 6,
     "metadata": {},
     "output_type": "execute_result"
    }
   ],
   "source": [
    "ratings.pop('timestamp')\n",
    "ratings.head(5)"
   ]
  },
  {
   "cell_type": "code",
   "execution_count": 7,
   "metadata": {},
   "outputs": [
    {
     "data": {
      "text/plain": [
       "(1000209, 3)"
      ]
     },
     "execution_count": 7,
     "metadata": {},
     "output_type": "execute_result"
    }
   ],
   "source": [
    "ratings.shape"
   ]
  },
  {
   "cell_type": "code",
   "execution_count": 8,
   "metadata": {
    "colab": {},
    "colab_type": "code",
    "id": "MUCVqPN9mibT"
   },
   "outputs": [
    {
     "data": {
      "text/html": [
       "<div>\n",
       "<style scoped>\n",
       "    .dataframe tbody tr th:only-of-type {\n",
       "        vertical-align: middle;\n",
       "    }\n",
       "\n",
       "    .dataframe tbody tr th {\n",
       "        vertical-align: top;\n",
       "    }\n",
       "\n",
       "    .dataframe thead th {\n",
       "        text-align: right;\n",
       "    }\n",
       "</style>\n",
       "<table border=\"1\" class=\"dataframe\">\n",
       "  <thead>\n",
       "    <tr style=\"text-align: right;\">\n",
       "      <th></th>\n",
       "      <th>userid</th>\n",
       "      <th>gender</th>\n",
       "      <th>age</th>\n",
       "      <th>occupation</th>\n",
       "      <th>zip</th>\n",
       "    </tr>\n",
       "  </thead>\n",
       "  <tbody>\n",
       "    <tr>\n",
       "      <th>0</th>\n",
       "      <td>1</td>\n",
       "      <td>F</td>\n",
       "      <td>1</td>\n",
       "      <td>10</td>\n",
       "      <td>48067</td>\n",
       "    </tr>\n",
       "    <tr>\n",
       "      <th>1</th>\n",
       "      <td>2</td>\n",
       "      <td>M</td>\n",
       "      <td>56</td>\n",
       "      <td>16</td>\n",
       "      <td>70072</td>\n",
       "    </tr>\n",
       "  </tbody>\n",
       "</table>\n",
       "</div>"
      ],
      "text/plain": [
       "   userid gender  age  occupation    zip\n",
       "0       1      F    1          10  48067\n",
       "1       2      M   56          16  70072"
      ]
     },
     "execution_count": 8,
     "metadata": {},
     "output_type": "execute_result"
    }
   ],
   "source": [
    "users.head(2)"
   ]
  },
  {
   "cell_type": "code",
   "execution_count": 9,
   "metadata": {},
   "outputs": [
    {
     "data": {
      "text/plain": [
       "(6040, 5)"
      ]
     },
     "execution_count": 9,
     "metadata": {},
     "output_type": "execute_result"
    }
   ],
   "source": [
    "users.shape"
   ]
  },
  {
   "cell_type": "code",
   "execution_count": 10,
   "metadata": {},
   "outputs": [
    {
     "data": {
      "text/plain": [
       "(445094, 3)"
      ]
     },
     "execution_count": 10,
     "metadata": {},
     "output_type": "execute_result"
    }
   ],
   "source": [
    "min_movie_ratings = 250\n",
    "filter_movies = ratings['movieid'].value_counts() > min_movie_ratings\n",
    "filter_movies = filter_movies[filter_movies].index.tolist()\n",
    "\n",
    "min_user_ratings = 250\n",
    "filter_users = ratings['userid'].value_counts() > min_user_ratings\n",
    "filter_users = filter_users[filter_users].index.tolist()\n",
    "\n",
    "ratings = ratings[(ratings['movieid'].isin(filter_movies)) & (ratings['userid'].isin(filter_users))]\n",
    "ratings.shape"
   ]
  },
  {
   "cell_type": "markdown",
   "metadata": {},
   "source": [
    "For the purposes of testing, it would be good to get a few users who have rated many films and to test with their user ids."
   ]
  },
  {
   "cell_type": "code",
   "execution_count": 11,
   "metadata": {},
   "outputs": [
    {
     "data": {
      "text/html": [
       "<div>\n",
       "<style scoped>\n",
       "    .dataframe tbody tr th:only-of-type {\n",
       "        vertical-align: middle;\n",
       "    }\n",
       "\n",
       "    .dataframe tbody tr th {\n",
       "        vertical-align: top;\n",
       "    }\n",
       "\n",
       "    .dataframe thead th {\n",
       "        text-align: right;\n",
       "    }\n",
       "</style>\n",
       "<table border=\"1\" class=\"dataframe\">\n",
       "  <thead>\n",
       "    <tr style=\"text-align: right;\">\n",
       "      <th></th>\n",
       "      <th>userid</th>\n",
       "      <th>movieid</th>\n",
       "      <th>rating</th>\n",
       "    </tr>\n",
       "  </thead>\n",
       "  <tbody>\n",
       "    <tr>\n",
       "      <th>854</th>\n",
       "      <td>4169</td>\n",
       "      <td>1037</td>\n",
       "      <td>1037</td>\n",
       "    </tr>\n",
       "    <tr>\n",
       "      <th>222</th>\n",
       "      <td>1181</td>\n",
       "      <td>959</td>\n",
       "      <td>959</td>\n",
       "    </tr>\n",
       "    <tr>\n",
       "      <th>871</th>\n",
       "      <td>4277</td>\n",
       "      <td>952</td>\n",
       "      <td>952</td>\n",
       "    </tr>\n",
       "    <tr>\n",
       "      <th>335</th>\n",
       "      <td>1680</td>\n",
       "      <td>934</td>\n",
       "      <td>934</td>\n",
       "    </tr>\n",
       "    <tr>\n",
       "      <th>401</th>\n",
       "      <td>1941</td>\n",
       "      <td>919</td>\n",
       "      <td>919</td>\n",
       "    </tr>\n",
       "    <tr>\n",
       "      <th>409</th>\n",
       "      <td>1980</td>\n",
       "      <td>875</td>\n",
       "      <td>875</td>\n",
       "    </tr>\n",
       "    <tr>\n",
       "      <th>1184</th>\n",
       "      <td>5831</td>\n",
       "      <td>870</td>\n",
       "      <td>870</td>\n",
       "    </tr>\n",
       "    <tr>\n",
       "      <th>76</th>\n",
       "      <td>424</td>\n",
       "      <td>857</td>\n",
       "      <td>857</td>\n",
       "    </tr>\n",
       "    <tr>\n",
       "      <th>1088</th>\n",
       "      <td>5367</td>\n",
       "      <td>852</td>\n",
       "      <td>852</td>\n",
       "    </tr>\n",
       "    <tr>\n",
       "      <th>574</th>\n",
       "      <td>2909</td>\n",
       "      <td>847</td>\n",
       "      <td>847</td>\n",
       "    </tr>\n",
       "  </tbody>\n",
       "</table>\n",
       "</div>"
      ],
      "text/plain": [
       "      userid  movieid  rating\n",
       "854     4169     1037    1037\n",
       "222     1181      959     959\n",
       "871     4277      952     952\n",
       "335     1680      934     934\n",
       "401     1941      919     919\n",
       "409     1980      875     875\n",
       "1184    5831      870     870\n",
       "76       424      857     857\n",
       "1088    5367      852     852\n",
       "574     2909      847     847"
      ]
     },
     "execution_count": 11,
     "metadata": {},
     "output_type": "execute_result"
    }
   ],
   "source": [
    "grouped = ratings.groupby('userid').count().reset_index()\n",
    "grouped = grouped.sort_values('rating', ascending=False)\n",
    "grouped.head(10)"
   ]
  },
  {
   "cell_type": "markdown",
   "metadata": {},
   "source": [
    "## Check the count of 5 star ratings\n",
    "\n",
    "As we can see here, the ratings are somewhat skewed. Many of the ratings are 3 stars and higher. It could prove to make the predictions somewhare biased."
   ]
  },
  {
   "cell_type": "code",
   "execution_count": 12,
   "metadata": {},
   "outputs": [
    {
     "data": {
      "text/html": [
       "<div>\n",
       "<style scoped>\n",
       "    .dataframe tbody tr th:only-of-type {\n",
       "        vertical-align: middle;\n",
       "    }\n",
       "\n",
       "    .dataframe tbody tr th {\n",
       "        vertical-align: top;\n",
       "    }\n",
       "\n",
       "    .dataframe thead th {\n",
       "        text-align: right;\n",
       "    }\n",
       "</style>\n",
       "<table border=\"1\" class=\"dataframe\">\n",
       "  <thead>\n",
       "    <tr style=\"text-align: right;\">\n",
       "      <th></th>\n",
       "      <th>userid</th>\n",
       "      <th>movieid</th>\n",
       "    </tr>\n",
       "    <tr>\n",
       "      <th>rating</th>\n",
       "      <th></th>\n",
       "      <th></th>\n",
       "    </tr>\n",
       "  </thead>\n",
       "  <tbody>\n",
       "    <tr>\n",
       "      <th>5</th>\n",
       "      <td>95593</td>\n",
       "      <td>95593</td>\n",
       "    </tr>\n",
       "    <tr>\n",
       "      <th>4</th>\n",
       "      <td>160252</td>\n",
       "      <td>160252</td>\n",
       "    </tr>\n",
       "    <tr>\n",
       "      <th>3</th>\n",
       "      <td>121540</td>\n",
       "      <td>121540</td>\n",
       "    </tr>\n",
       "    <tr>\n",
       "      <th>2</th>\n",
       "      <td>47258</td>\n",
       "      <td>47258</td>\n",
       "    </tr>\n",
       "    <tr>\n",
       "      <th>1</th>\n",
       "      <td>20451</td>\n",
       "      <td>20451</td>\n",
       "    </tr>\n",
       "  </tbody>\n",
       "</table>\n",
       "</div>"
      ],
      "text/plain": [
       "        userid  movieid\n",
       "rating                 \n",
       "5        95593    95593\n",
       "4       160252   160252\n",
       "3       121540   121540\n",
       "2        47258    47258\n",
       "1        20451    20451"
      ]
     },
     "execution_count": 12,
     "metadata": {},
     "output_type": "execute_result"
    }
   ],
   "source": [
    "ratings_count = ratings.groupby('rating').count()\n",
    "ratings_count = ratings_count.sort_values('rating', ascending=False)\n",
    "ratings_count"
   ]
  },
  {
   "cell_type": "code",
   "execution_count": 13,
   "metadata": {},
   "outputs": [
    {
     "data": {
      "text/html": [
       "<div>\n",
       "<style scoped>\n",
       "    .dataframe tbody tr th:only-of-type {\n",
       "        vertical-align: middle;\n",
       "    }\n",
       "\n",
       "    .dataframe tbody tr th {\n",
       "        vertical-align: top;\n",
       "    }\n",
       "\n",
       "    .dataframe thead th {\n",
       "        text-align: right;\n",
       "    }\n",
       "</style>\n",
       "<table border=\"1\" class=\"dataframe\">\n",
       "  <thead>\n",
       "    <tr style=\"text-align: right;\">\n",
       "      <th></th>\n",
       "      <th>userid</th>\n",
       "      <th>movieid</th>\n",
       "    </tr>\n",
       "  </thead>\n",
       "  <tbody>\n",
       "    <tr>\n",
       "      <th>count</th>\n",
       "      <td>5.000000</td>\n",
       "      <td>5.000000</td>\n",
       "    </tr>\n",
       "    <tr>\n",
       "      <th>mean</th>\n",
       "      <td>89018.800000</td>\n",
       "      <td>89018.800000</td>\n",
       "    </tr>\n",
       "    <tr>\n",
       "      <th>std</th>\n",
       "      <td>56170.554899</td>\n",
       "      <td>56170.554899</td>\n",
       "    </tr>\n",
       "    <tr>\n",
       "      <th>min</th>\n",
       "      <td>20451.000000</td>\n",
       "      <td>20451.000000</td>\n",
       "    </tr>\n",
       "    <tr>\n",
       "      <th>25%</th>\n",
       "      <td>47258.000000</td>\n",
       "      <td>47258.000000</td>\n",
       "    </tr>\n",
       "    <tr>\n",
       "      <th>50%</th>\n",
       "      <td>95593.000000</td>\n",
       "      <td>95593.000000</td>\n",
       "    </tr>\n",
       "    <tr>\n",
       "      <th>75%</th>\n",
       "      <td>121540.000000</td>\n",
       "      <td>121540.000000</td>\n",
       "    </tr>\n",
       "    <tr>\n",
       "      <th>max</th>\n",
       "      <td>160252.000000</td>\n",
       "      <td>160252.000000</td>\n",
       "    </tr>\n",
       "  </tbody>\n",
       "</table>\n",
       "</div>"
      ],
      "text/plain": [
       "              userid        movieid\n",
       "count       5.000000       5.000000\n",
       "mean    89018.800000   89018.800000\n",
       "std     56170.554899   56170.554899\n",
       "min     20451.000000   20451.000000\n",
       "25%     47258.000000   47258.000000\n",
       "50%     95593.000000   95593.000000\n",
       "75%    121540.000000  121540.000000\n",
       "max    160252.000000  160252.000000"
      ]
     },
     "execution_count": 13,
     "metadata": {},
     "output_type": "execute_result"
    }
   ],
   "source": [
    "ratings_count.describe()"
   ]
  },
  {
   "cell_type": "code",
   "execution_count": 14,
   "metadata": {},
   "outputs": [
    {
     "name": "stdout",
     "output_type": "stream",
     "text": [
      "<class 'pandas.core.frame.DataFrame'>\n",
      "Int64Index: 5 entries, 5 to 1\n",
      "Data columns (total 2 columns):\n",
      " #   Column   Non-Null Count  Dtype\n",
      "---  ------   --------------  -----\n",
      " 0   userid   5 non-null      int64\n",
      " 1   movieid  5 non-null      int64\n",
      "dtypes: int64(2)\n",
      "memory usage: 120.0 bytes\n"
     ]
    }
   ],
   "source": [
    "ratings_count.info()"
   ]
  },
  {
   "cell_type": "markdown",
   "metadata": {
    "colab_type": "text",
    "id": "7PCxq8KecUnL"
   },
   "source": [
    "##### Define a Ratings scale\n",
    "This scale is determined by the lowest and highest rating possible. \n",
    "In this case the lowest rating is 1, while the highest is 5."
   ]
  },
  {
   "cell_type": "code",
   "execution_count": 15,
   "metadata": {
    "colab": {},
    "colab_type": "code",
    "id": "_sbDZlymcUnL"
   },
   "outputs": [],
   "source": [
    "reader = Reader(rating_scale=(1,5)) # This just defines the rating scale\n",
    "data = Dataset.load_from_df(ratings[['userid', 'movieid', 'rating']], reader=reader)"
   ]
  },
  {
   "cell_type": "markdown",
   "metadata": {
    "colab_type": "text",
    "id": "osRfBS-pcUnP"
   },
   "source": [
    "### Build the Recommender Model\n",
    "\n",
    "##### KNN with Means - Surprise\n",
    "\n",
    "[KNN with Means](https://surprise.readthedocs.io/en/stable/knn_inspired.html#surprise.prediction_algorithms.knns.KNNWithMeans) has been chosen for the recommender, which is a basic collaborative filtering algorithm, taking into account the mean ratings of each user."
   ]
  },
  {
   "cell_type": "code",
   "execution_count": 16,
   "metadata": {
    "colab": {},
    "colab_type": "code",
    "id": "lsQcmBWacUnQ"
   },
   "outputs": [],
   "source": [
    "def build_recommender(user_based=False, sim_type='cosine'):\n",
    "    sim_options = {\n",
    "        \"name\": sim_type,\n",
    "        \"user_based\": user_based\n",
    "    }\n",
    "\n",
    "    return KNNWithMeans(sim_options=sim_options)"
   ]
  },
  {
   "cell_type": "markdown",
   "metadata": {
    "colab_type": "text",
    "id": "VMOU_vTUcUnU"
   },
   "source": [
    "##### Calculate the Similarity Matrix\n",
    "\n",
    "Ignoring folds this builds the *Trainset* using [build_full_trainset()](https://surprise.readthedocs.io/en/stable/dataset.html#surprise.dataset.DatasetAutoFolds.build_full_trainset)\n",
    "\n",
    "The Trainset is built using the data, but then contains more information about the data"
   ]
  },
  {
   "cell_type": "code",
   "execution_count": 17,
   "metadata": {
    "colab": {
     "base_uri": "https://localhost:8080/",
     "height": 70
    },
    "colab_type": "code",
    "id": "a4YxzV0McUnV",
    "outputId": "b21e159a-0135-4d6f-f257-e7b63165c14f"
   },
   "outputs": [
    {
     "name": "stdout",
     "output_type": "stream",
     "text": [
      "Computing the cosine similarity matrix...\n",
      "Done computing similarity matrix.\n"
     ]
    },
    {
     "data": {
      "text/plain": [
       "<surprise.prediction_algorithms.knns.KNNWithMeans at 0x7f231df16fd0>"
      ]
     },
     "execution_count": 17,
     "metadata": {},
     "output_type": "execute_result"
    }
   ],
   "source": [
    "trainset = data.build_full_trainset()\n",
    "item_based_recommender = build_recommender()\n",
    "item_based_recommender.fit(trainset)"
   ]
  },
  {
   "cell_type": "markdown",
   "metadata": {
    "colab_type": "text",
    "id": "bzNzGGO-cUnZ"
   },
   "source": [
    "### Evaluate the Model\n",
    "\n",
    "Using [cross_validation()](https://surprise.readthedocs.io/en/stable/model_selection.html#cross-validation) from surprise, we can quickly evaluate the model using a few metrics. "
   ]
  },
  {
   "cell_type": "code",
   "execution_count": 18,
   "metadata": {
    "colab": {
     "base_uri": "https://localhost:8080/",
     "height": 532
    },
    "colab_type": "code",
    "id": "yLfQS_Q5cUna",
    "outputId": "679e4f22-d1bb-4286-802b-e5513b5c5a84"
   },
   "outputs": [
    {
     "name": "stdout",
     "output_type": "stream",
     "text": [
      "Computing the cosine similarity matrix...\n",
      "Done computing similarity matrix.\n",
      "Computing the cosine similarity matrix...\n",
      "Done computing similarity matrix.\n",
      "Computing the cosine similarity matrix...\n",
      "Done computing similarity matrix.\n",
      "Computing the cosine similarity matrix...\n",
      "Done computing similarity matrix.\n",
      "Computing the cosine similarity matrix...\n",
      "Done computing similarity matrix.\n",
      "Evaluating RMSE, MAE of algorithm KNNWithMeans on 5 split(s).\n",
      "\n",
      "                  Fold 1  Fold 2  Fold 3  Fold 4  Fold 5  Mean    Std     \n",
      "RMSE (testset)    0.8547  0.8579  0.8566  0.8535  0.8607  0.8567  0.0025  \n",
      "MAE (testset)     0.6730  0.6742  0.6746  0.6705  0.6771  0.6739  0.0022  \n",
      "Fit time          10.69   11.23   11.60   10.92   10.99   11.09   0.31    \n",
      "Test time         40.55   41.51   39.75   39.06   40.30   40.24   0.82    \n"
     ]
    },
    {
     "data": {
      "text/plain": [
       "{'test_rmse': array([0.85465016, 0.857921  , 0.85661577, 0.85347496, 0.86073975]),\n",
       " 'test_mae': array([0.67297877, 0.67423061, 0.67460163, 0.67052718, 0.67710954]),\n",
       " 'fit_time': (10.693198442459106,\n",
       "  11.22611141204834,\n",
       "  11.601833581924438,\n",
       "  10.9208345413208,\n",
       "  10.990837097167969),\n",
       " 'test_time': (40.54874277114868,\n",
       "  41.51346039772034,\n",
       "  39.74882483482361,\n",
       "  39.059611082077026,\n",
       "  40.304763317108154)}"
      ]
     },
     "execution_count": 18,
     "metadata": {},
     "output_type": "execute_result"
    }
   ],
   "source": [
    "cross_validate(item_based_recommender, data, measures=['RMSE', 'MAE'], cv=5, verbose=True)"
   ]
  },
  {
   "cell_type": "markdown",
   "metadata": {
    "colab_type": "text",
    "id": "i4A703zacUne"
   },
   "source": [
    "##### Prediction\n",
    "\n",
    "Using this test to see how a user might rate a specific recipe."
   ]
  },
  {
   "cell_type": "code",
   "execution_count": 19,
   "metadata": {
    "colab": {
     "base_uri": "https://localhost:8080/",
     "height": 54
    },
    "colab_type": "code",
    "id": "uq880sAucUne",
    "outputId": "9a38e072-a839-4bef-d567-452cd8c8287d"
   },
   "outputs": [
    {
     "name": "stdout",
     "output_type": "stream",
     "text": [
      "3.59, 3.59, 3.59, 3.59, 3.59, 3.59, 3.59, 3.59, 3.59, 3.59, 3.59, 3.59, 3.59, 3.59, 3.59, 3.59, 3.59, 3.59, 3.59, 3.59, 3.59, 3.59, 3.59, 3.59, 3.59, 3.59, 3.59, 3.59, 3.59, 3.59, 3.59, 3.59, 3.59, 3.59, 3.59, 3.59, 3.59, 3.59, 3.59, 3.59, 3.59, 3.59, 3.59, 3.59, 3.59, 3.59, 3.59, 3.59, 3.59, 3.59, 3.59, 3.59, 3.59, 3.59, 3.59, 3.59, 3.59, 3.59, 3.59, 3.59, 3.59, 3.59, 3.59, 3.59, 3.59, 3.59, 3.59, 3.59, 3.59, 3.59, 3.59, 3.59, 3.59, 3.59, 3.59, 3.59, 3.59, 3.59, 3.59, 3.59, 3.59, 3.59, 3.59, 3.59, 3.59, 3.59, 3.59, 3.59, 3.59, 3.59, 3.59, 3.59, 3.59, 3.59, 3.59, 3.59, 3.59, 3.59, 3.59, 3.59, 3.59, 3.59, 3.59, 3.59, 3.59, 3.59, 3.59, 3.59, 3.59, 3.59, 3.59, 3.59, 3.59, 3.59, 3.59, 3.59, 3.59, 3.59, 3.59, 3.59, 3.59, 3.59, 3.59, 3.59, 3.59, 3.59, 3.59, 3.59, 3.59, 3.59, 3.59, 3.59, 3.59, 3.59, 3.59, 3.59, 3.59, 3.59, 3.59, 3.59, 3.59, 3.59, 3.59, 3.59, 3.59, 3.59, 3.59, 3.59, 3.59, 3.59, "
     ]
    }
   ],
   "source": [
    "i = 252\n",
    "for i in range(150):\n",
    "    prediction = item_based_recommender.predict(i,167)\n",
    "    print(round(prediction.est,2), end=', ')\n",
    "    i = i + 1"
   ]
  },
  {
   "cell_type": "markdown",
   "metadata": {
    "colab_type": "text",
    "id": "PIic1IXpcUni"
   },
   "source": [
    "### Inference\n",
    "\n",
    "The main function to run the model and get inferences"
   ]
  },
  {
   "cell_type": "code",
   "execution_count": 20,
   "metadata": {},
   "outputs": [],
   "source": [
    "ml_model = item_based_recommender"
   ]
  },
  {
   "cell_type": "code",
   "execution_count": 21,
   "metadata": {
    "colab": {},
    "colab_type": "code",
    "id": "RHzb3os8cUni"
   },
   "outputs": [],
   "source": [
    "def get_r(user_id):\n",
    "    # Select which system to use. Due to memory constraints, item based is the only viable option\n",
    "    recommender_system = ml_model\n",
    "    # N will represent how many items to recommend\n",
    "    N = 2000\n",
    "\n",
    "    # The setting to a set and back to list is a failsafe.\n",
    "    rated_items = list(set(ratings.loc[ratings['userid'] == user_id]['movieid'].tolist()))\n",
    "    ratings_list = movies['movieid'].values.tolist()\n",
    "    reduced_ratings = ratings.loc[ratings['movieid'].isin(ratings_list)].copy()\n",
    "\n",
    "    # Self explanitory name\n",
    "    all_item_ids = list(set(reduced_ratings['movieid'].tolist()))\n",
    "\n",
    "    # New_items just represents all the items not rated by the user\n",
    "    new_items = [x for x in all_item_ids if x not in rated_items]\n",
    "\n",
    "    # Estimate ratings for all unrated items\n",
    "    predicted_ratings = {}\n",
    "    for item_id in new_items:\n",
    "        predicted_ratings[item_id] = recommender_system.predict(user_id, item_id).est\n",
    "        pass\n",
    "\n",
    "    # Get the item_ids for the top ratings\n",
    "    recommended_ids = heapq.nlargest(N, predicted_ratings, key=predicted_ratings.get)\n",
    "    recommended_ids = sorted(recommended_ids)\n",
    "\n",
    "    # predicted_ratings\n",
    "    recommended_df = movies.loc[movies['movieid'].isin(recommended_ids)].copy()\n",
    "    #recommended_df.insert(1, 'pred_rating', np.zeros(len(recommended_ids)))\n",
    "    recommended_df.insert(1, 'pred_rating', 0)\n",
    "\n",
    "    # recommended_df = movies.copy()\n",
    "    for idx,item_id in enumerate(recommended_ids):\n",
    "        recommended_df.iloc[idx, recommended_df.columns.get_loc('pred_rating')] = int(predicted_ratings[item_id])\n",
    "        pass\n",
    "    return recommended_df.head(N).sort_values('pred_rating', ascending=False)\n",
    "\n",
    "def cap_str(item):\n",
    "    string = item\n",
    "    return string.capitalize()\n",
    "\n",
    "def reg_frame(f_list,items):\n",
    "    s_ = ''\n",
    "    for i in items:\n",
    "        j = cap_str(i)\n",
    "        str_ = f'(?=.*{j})'\n",
    "        s_ += str_\n",
    "    s_\n",
    "    f_list = f_list[f_list['genres'].str.contains(fr'^\\b{s_}\\b',regex=True)]\n",
    "    return f_list\n",
    "\n",
    "def set_up_ml(user_id,genre_list):\n",
    "    f_list = get_r(user_id)\n",
    "    items = genre_list.split(',')\n",
    "    f_list = reg_frame(f_list,items)\n",
    "    f_list.pop('movieid')\n",
    "    f_list.pop('pred_rating')\n",
    "    f_list = f_list.reset_index(drop=True)\n",
    "    f_list = f_list.T.reset_index(drop=True).T\n",
    "    #f_list = f_list.head(10)\n",
    "    return f_list"
   ]
  },
  {
   "cell_type": "markdown",
   "metadata": {
    "colab_type": "text",
    "id": "iMVG1i3mcUnm"
   },
   "source": [
    "### Get a Recommendation Based on Ingredients\n",
    "\n",
    "The final code that will be impletented in a cleaner fashion through the browser interface."
   ]
  },
  {
   "cell_type": "code",
   "execution_count": 22,
   "metadata": {
    "colab": {},
    "colab_type": "code",
    "id": "v5_cW8kncUnn"
   },
   "outputs": [],
   "source": [
    "user_id = 4168\n",
    "genre_list = 'horror,comedy'\n",
    "table_list = set_up_ml(user_id,genre_list)"
   ]
  },
  {
   "cell_type": "code",
   "execution_count": 23,
   "metadata": {},
   "outputs": [
    {
     "data": {
      "text/html": [
       "<div>\n",
       "<style scoped>\n",
       "    .dataframe tbody tr th:only-of-type {\n",
       "        vertical-align: middle;\n",
       "    }\n",
       "\n",
       "    .dataframe tbody tr th {\n",
       "        vertical-align: top;\n",
       "    }\n",
       "\n",
       "    .dataframe thead th {\n",
       "        text-align: right;\n",
       "    }\n",
       "</style>\n",
       "<table border=\"1\" class=\"dataframe\">\n",
       "  <thead>\n",
       "    <tr style=\"text-align: right;\">\n",
       "      <th></th>\n",
       "      <th>0</th>\n",
       "      <th>1</th>\n",
       "    </tr>\n",
       "  </thead>\n",
       "  <tbody>\n",
       "    <tr>\n",
       "      <th>0</th>\n",
       "      <td>Little Shop of Horrors, The (1960)</td>\n",
       "      <td>Comedy|Horror</td>\n",
       "    </tr>\n",
       "    <tr>\n",
       "      <th>1</th>\n",
       "      <td>Little Shop of Horrors (1986)</td>\n",
       "      <td>Comedy|Horror|Musical</td>\n",
       "    </tr>\n",
       "    <tr>\n",
       "      <th>2</th>\n",
       "      <td>American Werewolf in Paris, An (1997)</td>\n",
       "      <td>Comedy|Horror</td>\n",
       "    </tr>\n",
       "    <tr>\n",
       "      <th>3</th>\n",
       "      <td>Rocky Horror Picture Show, The (1975)</td>\n",
       "      <td>Comedy|Horror|Musical|Sci-Fi</td>\n",
       "    </tr>\n",
       "    <tr>\n",
       "      <th>4</th>\n",
       "      <td>Ghostbusters II (1989)</td>\n",
       "      <td>Comedy|Horror</td>\n",
       "    </tr>\n",
       "    <tr>\n",
       "      <th>5</th>\n",
       "      <td>Ghostbusters (1984)</td>\n",
       "      <td>Comedy|Horror</td>\n",
       "    </tr>\n",
       "    <tr>\n",
       "      <th>6</th>\n",
       "      <td>Fright Night (1985)</td>\n",
       "      <td>Comedy|Horror</td>\n",
       "    </tr>\n",
       "    <tr>\n",
       "      <th>7</th>\n",
       "      <td>Gremlins (1984)</td>\n",
       "      <td>Comedy|Horror</td>\n",
       "    </tr>\n",
       "    <tr>\n",
       "      <th>8</th>\n",
       "      <td>Gremlins 2: The New Batch (1990)</td>\n",
       "      <td>Comedy|Horror</td>\n",
       "    </tr>\n",
       "    <tr>\n",
       "      <th>9</th>\n",
       "      <td>American Psycho (2000)</td>\n",
       "      <td>Comedy|Horror|Thriller</td>\n",
       "    </tr>\n",
       "    <tr>\n",
       "      <th>10</th>\n",
       "      <td>Scary Movie (2000)</td>\n",
       "      <td>Comedy|Horror</td>\n",
       "    </tr>\n",
       "    <tr>\n",
       "      <th>11</th>\n",
       "      <td>Buffy the Vampire Slayer (1992)</td>\n",
       "      <td>Comedy|Horror</td>\n",
       "    </tr>\n",
       "    <tr>\n",
       "      <th>12</th>\n",
       "      <td>Frighteners, The (1996)</td>\n",
       "      <td>Comedy|Horror</td>\n",
       "    </tr>\n",
       "    <tr>\n",
       "      <th>13</th>\n",
       "      <td>Serial Mom (1994)</td>\n",
       "      <td>Comedy|Crime|Horror</td>\n",
       "    </tr>\n",
       "    <tr>\n",
       "      <th>14</th>\n",
       "      <td>From Dusk Till Dawn (1996)</td>\n",
       "      <td>Action|Comedy|Crime|Horror|Thriller</td>\n",
       "    </tr>\n",
       "    <tr>\n",
       "      <th>15</th>\n",
       "      <td>Army of Darkness (1993)</td>\n",
       "      <td>Action|Adventure|Comedy|Horror|Sci-Fi</td>\n",
       "    </tr>\n",
       "    <tr>\n",
       "      <th>16</th>\n",
       "      <td>Evil Dead II (Dead By Dawn) (1987)</td>\n",
       "      <td>Action|Adventure|Comedy|Horror</td>\n",
       "    </tr>\n",
       "    <tr>\n",
       "      <th>17</th>\n",
       "      <td>Young Frankenstein (1974)</td>\n",
       "      <td>Comedy|Horror</td>\n",
       "    </tr>\n",
       "  </tbody>\n",
       "</table>\n",
       "</div>"
      ],
      "text/plain": [
       "                                        0  \\\n",
       "0      Little Shop of Horrors, The (1960)   \n",
       "1           Little Shop of Horrors (1986)   \n",
       "2   American Werewolf in Paris, An (1997)   \n",
       "3   Rocky Horror Picture Show, The (1975)   \n",
       "4                  Ghostbusters II (1989)   \n",
       "5                     Ghostbusters (1984)   \n",
       "6                     Fright Night (1985)   \n",
       "7                         Gremlins (1984)   \n",
       "8        Gremlins 2: The New Batch (1990)   \n",
       "9                  American Psycho (2000)   \n",
       "10                     Scary Movie (2000)   \n",
       "11        Buffy the Vampire Slayer (1992)   \n",
       "12                Frighteners, The (1996)   \n",
       "13                      Serial Mom (1994)   \n",
       "14             From Dusk Till Dawn (1996)   \n",
       "15                Army of Darkness (1993)   \n",
       "16     Evil Dead II (Dead By Dawn) (1987)   \n",
       "17              Young Frankenstein (1974)   \n",
       "\n",
       "                                        1  \n",
       "0                           Comedy|Horror  \n",
       "1                   Comedy|Horror|Musical  \n",
       "2                           Comedy|Horror  \n",
       "3            Comedy|Horror|Musical|Sci-Fi  \n",
       "4                           Comedy|Horror  \n",
       "5                           Comedy|Horror  \n",
       "6                           Comedy|Horror  \n",
       "7                           Comedy|Horror  \n",
       "8                           Comedy|Horror  \n",
       "9                  Comedy|Horror|Thriller  \n",
       "10                          Comedy|Horror  \n",
       "11                          Comedy|Horror  \n",
       "12                          Comedy|Horror  \n",
       "13                    Comedy|Crime|Horror  \n",
       "14    Action|Comedy|Crime|Horror|Thriller  \n",
       "15  Action|Adventure|Comedy|Horror|Sci-Fi  \n",
       "16         Action|Adventure|Comedy|Horror  \n",
       "17                          Comedy|Horror  "
      ]
     },
     "execution_count": 23,
     "metadata": {},
     "output_type": "execute_result"
    }
   ],
   "source": [
    "table_list"
   ]
  },
  {
   "cell_type": "markdown",
   "metadata": {
    "colab_type": "text",
    "id": "KK47pKTHcUn1"
   },
   "source": [
    "## Save the Model"
   ]
  },
  {
   "cell_type": "code",
   "execution_count": 25,
   "metadata": {
    "colab": {},
    "colab_type": "code",
    "id": "7KYFg3sGcUn3"
   },
   "outputs": [],
   "source": [
    "import pickle\n",
    "filename = 'model/movielens_light_recommender_model.sav'\n",
    "pickle.dump(item_based_recommender, open(filename, 'wb'))"
   ]
  },
  {
   "cell_type": "code",
   "execution_count": null,
   "metadata": {},
   "outputs": [],
   "source": []
  }
 ],
 "metadata": {
  "accelerator": "TPU",
  "colab": {
   "machine_shape": "hm",
   "name": "aies-fp-toddmccullough.ipynb",
   "provenance": []
  },
  "kernelspec": {
   "display_name": "Python 3",
   "language": "python",
   "name": "python3"
  },
  "language_info": {
   "codemirror_mode": {
    "name": "ipython",
    "version": 3
   },
   "file_extension": ".py",
   "mimetype": "text/x-python",
   "name": "python",
   "nbconvert_exporter": "python",
   "pygments_lexer": "ipython3",
   "version": "3.7.6"
  }
 },
 "nbformat": 4,
 "nbformat_minor": 1
}
